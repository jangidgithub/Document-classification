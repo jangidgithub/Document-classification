{
 "cells": [
  {
   "cell_type": "code",
   "execution_count": 9,
   "id": "80408ba6",
   "metadata": {},
   "outputs": [
    {
     "name": "stdout",
     "output_type": "stream",
     "text": [
      "Defaulting to user installation because normal site-packages is not writeable\n",
      "Collecting spacy\n",
      "  Obtaining dependency information for spacy from https://files.pythonhosted.org/packages/d6/9e/8afc618cfed4b5dc602b11754d4d9193a268439704defae301bffca7f04c/spacy-3.6.1-cp311-cp311-win_amd64.whl.metadata\n",
      "  Downloading spacy-3.6.1-cp311-cp311-win_amd64.whl.metadata (26 kB)\n",
      "Collecting spacy-legacy<3.1.0,>=3.0.11 (from spacy)\n",
      "  Downloading spacy_legacy-3.0.12-py2.py3-none-any.whl (29 kB)\n",
      "Collecting spacy-loggers<2.0.0,>=1.0.0 (from spacy)\n",
      "  Downloading spacy_loggers-1.0.4-py3-none-any.whl (11 kB)\n",
      "Collecting murmurhash<1.1.0,>=0.28.0 (from spacy)\n",
      "  Downloading murmurhash-1.0.9-cp311-cp311-win_amd64.whl (18 kB)\n",
      "Collecting cymem<2.1.0,>=2.0.2 (from spacy)\n",
      "  Downloading cymem-2.0.7-cp311-cp311-win_amd64.whl (28 kB)\n",
      "Collecting preshed<3.1.0,>=3.0.2 (from spacy)\n",
      "  Downloading preshed-3.0.8-cp311-cp311-win_amd64.whl (91 kB)\n",
      "     ---------------------------------------- 0.0/91.9 kB ? eta -:--:--\n",
      "     ---------------------------------------- 91.9/91.9 kB 5.4 MB/s eta 0:00:00\n",
      "Collecting thinc<8.2.0,>=8.1.8 (from spacy)\n",
      "  Obtaining dependency information for thinc<8.2.0,>=8.1.8 from https://files.pythonhosted.org/packages/ea/65/9fe6fe1ddb5fd34b7b81dada121e6862791e624384a2964331d0228aea38/thinc-8.1.12-cp311-cp311-win_amd64.whl.metadata\n",
      "  Downloading thinc-8.1.12-cp311-cp311-win_amd64.whl.metadata (15 kB)\n",
      "Collecting wasabi<1.2.0,>=0.9.1 (from spacy)\n",
      "  Obtaining dependency information for wasabi<1.2.0,>=0.9.1 from https://files.pythonhosted.org/packages/8f/69/26cbf0bad11703241cb84d5324d868097f7a8faf2f1888354dac8883f3fc/wasabi-1.1.2-py3-none-any.whl.metadata\n",
      "  Downloading wasabi-1.1.2-py3-none-any.whl.metadata (28 kB)\n",
      "Collecting srsly<3.0.0,>=2.4.3 (from spacy)\n",
      "  Obtaining dependency information for srsly<3.0.0,>=2.4.3 from https://files.pythonhosted.org/packages/c6/05/d8cf64f4595080ef4b011359a98be212c29450c804cd3bde637ba007a0d6/srsly-2.4.7-cp311-cp311-win_amd64.whl.metadata\n",
      "  Downloading srsly-2.4.7-cp311-cp311-win_amd64.whl.metadata (20 kB)\n",
      "Collecting catalogue<2.1.0,>=2.0.6 (from spacy)\n",
      "  Obtaining dependency information for catalogue<2.1.0,>=2.0.6 from https://files.pythonhosted.org/packages/45/8f/5b73efc14e0373d9bb0de6ce1ab04a8f77420dc473f1f3ef270caf085cff/catalogue-2.0.9-py3-none-any.whl.metadata\n",
      "  Downloading catalogue-2.0.9-py3-none-any.whl.metadata (14 kB)\n",
      "Collecting typer<0.10.0,>=0.3.0 (from spacy)\n",
      "  Downloading typer-0.9.0-py3-none-any.whl (45 kB)\n",
      "     ---------------------------------------- 0.0/45.9 kB ? eta -:--:--\n",
      "     ---------------------------------------- 45.9/45.9 kB ? eta 0:00:00\n",
      "Collecting pathy>=0.10.0 (from spacy)\n",
      "  Obtaining dependency information for pathy>=0.10.0 from https://files.pythonhosted.org/packages/b5/c3/04a002ace658133f5ac48d30258ed9ceab720595dc1ac36df02fe52018af/pathy-0.10.2-py3-none-any.whl.metadata\n",
      "  Downloading pathy-0.10.2-py3-none-any.whl.metadata (16 kB)\n",
      "Requirement already satisfied: smart-open<7.0.0,>=5.2.1 in c:\\programdata\\anaconda3\\lib\\site-packages (from spacy) (5.2.1)\n",
      "Requirement already satisfied: tqdm<5.0.0,>=4.38.0 in c:\\programdata\\anaconda3\\lib\\site-packages (from spacy) (4.65.0)\n",
      "Requirement already satisfied: numpy>=1.15.0 in c:\\users\\rahul\\appdata\\roaming\\python\\python311\\site-packages (from spacy) (1.24.3)\n",
      "Requirement already satisfied: requests<3.0.0,>=2.13.0 in c:\\programdata\\anaconda3\\lib\\site-packages (from spacy) (2.31.0)\n",
      "Requirement already satisfied: pydantic!=1.8,!=1.8.1,<3.0.0,>=1.7.4 in c:\\users\\rahul\\appdata\\roaming\\python\\python311\\site-packages (from spacy) (2.2.1)\n",
      "Requirement already satisfied: jinja2 in c:\\programdata\\anaconda3\\lib\\site-packages (from spacy) (3.1.2)\n",
      "Requirement already satisfied: setuptools in c:\\programdata\\anaconda3\\lib\\site-packages (from spacy) (68.0.0)\n",
      "Requirement already satisfied: packaging>=20.0 in c:\\programdata\\anaconda3\\lib\\site-packages (from spacy) (23.0)\n",
      "Collecting langcodes<4.0.0,>=3.2.0 (from spacy)\n",
      "  Downloading langcodes-3.3.0-py3-none-any.whl (181 kB)\n",
      "     ---------------------------------------- 0.0/181.6 kB ? eta -:--:--\n",
      "     -------------------------------------- 181.6/181.6 kB 5.4 MB/s eta 0:00:00\n",
      "Requirement already satisfied: annotated-types>=0.4.0 in c:\\users\\rahul\\appdata\\roaming\\python\\python311\\site-packages (from pydantic!=1.8,!=1.8.1,<3.0.0,>=1.7.4->spacy) (0.5.0)\n",
      "Requirement already satisfied: pydantic-core==2.6.1 in c:\\users\\rahul\\appdata\\roaming\\python\\python311\\site-packages (from pydantic!=1.8,!=1.8.1,<3.0.0,>=1.7.4->spacy) (2.6.1)\n",
      "Requirement already satisfied: typing-extensions>=4.6.1 in c:\\programdata\\anaconda3\\lib\\site-packages (from pydantic!=1.8,!=1.8.1,<3.0.0,>=1.7.4->spacy) (4.7.1)\n",
      "Requirement already satisfied: charset-normalizer<4,>=2 in c:\\programdata\\anaconda3\\lib\\site-packages (from requests<3.0.0,>=2.13.0->spacy) (2.0.4)\n",
      "Requirement already satisfied: idna<4,>=2.5 in c:\\programdata\\anaconda3\\lib\\site-packages (from requests<3.0.0,>=2.13.0->spacy) (3.4)\n",
      "Requirement already satisfied: urllib3<3,>=1.21.1 in c:\\programdata\\anaconda3\\lib\\site-packages (from requests<3.0.0,>=2.13.0->spacy) (1.26.16)\n",
      "Requirement already satisfied: certifi>=2017.4.17 in c:\\programdata\\anaconda3\\lib\\site-packages (from requests<3.0.0,>=2.13.0->spacy) (2023.7.22)\n",
      "Collecting blis<0.8.0,>=0.7.8 (from thinc<8.2.0,>=8.1.8->spacy)\n",
      "  Obtaining dependency information for blis<0.8.0,>=0.7.8 from https://files.pythonhosted.org/packages/d3/1a/24c6b7d5445b99e24fe242921b50f8a3469d79a508b9d7831451f423e1db/blis-0.7.10-cp311-cp311-win_amd64.whl.metadata\n",
      "  Downloading blis-0.7.10-cp311-cp311-win_amd64.whl.metadata (7.6 kB)\n",
      "Collecting confection<1.0.0,>=0.0.1 (from thinc<8.2.0,>=8.1.8->spacy)\n",
      "  Obtaining dependency information for confection<1.0.0,>=0.0.1 from https://files.pythonhosted.org/packages/05/5e/1a56e81e3335ce18f6742539edd2f6ea98bbf477fefc9a4dc5c0694bace4/confection-0.1.1-py3-none-any.whl.metadata\n",
      "  Downloading confection-0.1.1-py3-none-any.whl.metadata (19 kB)\n",
      "Requirement already satisfied: colorama in c:\\programdata\\anaconda3\\lib\\site-packages (from tqdm<5.0.0,>=4.38.0->spacy) (0.4.6)\n",
      "Requirement already satisfied: click<9.0.0,>=7.1.1 in c:\\programdata\\anaconda3\\lib\\site-packages (from typer<0.10.0,>=0.3.0->spacy) (8.0.4)\n",
      "Requirement already satisfied: MarkupSafe>=2.0 in c:\\programdata\\anaconda3\\lib\\site-packages (from jinja2->spacy) (2.1.1)\n",
      "Downloading spacy-3.6.1-cp311-cp311-win_amd64.whl (12.0 MB)\n",
      "   ---------------------------------------- 0.0/12.0 MB ? eta -:--:--\n",
      "   - -------------------------------------- 0.3/12.0 MB 6.8 MB/s eta 0:00:02\n",
      "   - -------------------------------------- 0.5/12.0 MB 6.6 MB/s eta 0:00:02\n",
      "   -- ------------------------------------- 0.8/12.0 MB 6.6 MB/s eta 0:00:02\n",
      "   --- ------------------------------------ 1.0/12.0 MB 5.3 MB/s eta 0:00:03\n",
      "   --- ------------------------------------ 1.2/12.0 MB 5.2 MB/s eta 0:00:03\n",
      "   ----- ---------------------------------- 1.6/12.0 MB 5.8 MB/s eta 0:00:02\n",
      "   ------ --------------------------------- 1.9/12.0 MB 5.8 MB/s eta 0:00:02\n",
      "   ------- -------------------------------- 2.3/12.0 MB 6.0 MB/s eta 0:00:02\n",
      "   ------- -------------------------------- 2.4/12.0 MB 5.9 MB/s eta 0:00:02\n",
      "   -------- ------------------------------- 2.7/12.0 MB 5.8 MB/s eta 0:00:02\n",
      "   --------- ------------------------------ 2.8/12.0 MB 5.6 MB/s eta 0:00:02\n",
      "   --------- ------------------------------ 3.0/12.0 MB 5.4 MB/s eta 0:00:02\n",
      "   ---------- ----------------------------- 3.2/12.0 MB 5.3 MB/s eta 0:00:02\n",
      "   ----------- ---------------------------- 3.4/12.0 MB 5.2 MB/s eta 0:00:02\n",
      "   ----------- ---------------------------- 3.5/12.0 MB 5.1 MB/s eta 0:00:02\n",
      "   ------------ --------------------------- 3.6/12.0 MB 5.0 MB/s eta 0:00:02\n",
      "   ------------ --------------------------- 3.7/12.0 MB 4.8 MB/s eta 0:00:02\n",
      "   ------------ --------------------------- 3.8/12.0 MB 4.8 MB/s eta 0:00:02\n",
      "   ------------- -------------------------- 3.9/12.0 MB 4.6 MB/s eta 0:00:02\n",
      "   ------------- -------------------------- 4.1/12.0 MB 4.6 MB/s eta 0:00:02\n",
      "   ------------- -------------------------- 4.2/12.0 MB 4.6 MB/s eta 0:00:02\n",
      "   -------------- ------------------------- 4.3/12.0 MB 4.4 MB/s eta 0:00:02\n",
      "   -------------- ------------------------- 4.5/12.0 MB 4.2 MB/s eta 0:00:02\n",
      "   --------------- ------------------------ 4.5/12.0 MB 4.3 MB/s eta 0:00:02\n",
      "   --------------- ------------------------ 4.7/12.0 MB 4.2 MB/s eta 0:00:02\n",
      "   ---------------- ----------------------- 4.8/12.0 MB 4.1 MB/s eta 0:00:02\n",
      "   ---------------- ----------------------- 4.9/12.0 MB 4.1 MB/s eta 0:00:02\n",
      "   ---------------- ----------------------- 4.9/12.0 MB 4.0 MB/s eta 0:00:02\n",
      "   ---------------- ----------------------- 5.0/12.0 MB 3.9 MB/s eta 0:00:02\n",
      "   ----------------- ---------------------- 5.1/12.0 MB 3.8 MB/s eta 0:00:02\n",
      "   ----------------- ---------------------- 5.3/12.0 MB 3.7 MB/s eta 0:00:02\n",
      "   ----------------- ---------------------- 5.4/12.0 MB 3.7 MB/s eta 0:00:02\n",
      "   ------------------ --------------------- 5.5/12.0 MB 3.7 MB/s eta 0:00:02\n",
      "   ------------------ --------------------- 5.7/12.0 MB 3.7 MB/s eta 0:00:02\n",
      "   ------------------- -------------------- 5.9/12.0 MB 3.7 MB/s eta 0:00:02\n",
      "   ------------------- -------------------- 6.0/12.0 MB 3.7 MB/s eta 0:00:02\n",
      "   -------------------- ------------------- 6.1/12.0 MB 3.7 MB/s eta 0:00:02\n",
      "   -------------------- ------------------- 6.3/12.0 MB 3.7 MB/s eta 0:00:02\n",
      "   --------------------- ------------------ 6.5/12.0 MB 3.6 MB/s eta 0:00:02\n",
      "   --------------------- ------------------ 6.6/12.0 MB 3.6 MB/s eta 0:00:02\n",
      "   ---------------------- ----------------- 6.8/12.0 MB 3.6 MB/s eta 0:00:02\n",
      "   ----------------------- ---------------- 7.0/12.0 MB 3.6 MB/s eta 0:00:02\n",
      "   ----------------------- ---------------- 7.2/12.0 MB 3.6 MB/s eta 0:00:02\n",
      "   ------------------------ --------------- 7.2/12.0 MB 3.6 MB/s eta 0:00:02\n",
      "   ------------------------ --------------- 7.5/12.0 MB 3.6 MB/s eta 0:00:02\n",
      "   ------------------------- -------------- 7.6/12.0 MB 3.6 MB/s eta 0:00:02\n",
      "   ------------------------- -------------- 7.7/12.0 MB 3.6 MB/s eta 0:00:02\n",
      "   -------------------------- ------------- 7.9/12.0 MB 3.6 MB/s eta 0:00:02\n",
      "   -------------------------- ------------- 8.1/12.0 MB 3.6 MB/s eta 0:00:02\n",
      "   --------------------------- ------------ 8.2/12.0 MB 3.6 MB/s eta 0:00:02\n",
      "   --------------------------- ------------ 8.4/12.0 MB 3.6 MB/s eta 0:00:02\n",
      "   ---------------------------- ----------- 8.5/12.0 MB 3.6 MB/s eta 0:00:01\n",
      "   ----------------------------- ---------- 8.8/12.0 MB 3.6 MB/s eta 0:00:01\n",
      "   ----------------------------- ---------- 9.0/12.0 MB 3.6 MB/s eta 0:00:01\n",
      "   ------------------------------ --------- 9.2/12.0 MB 3.6 MB/s eta 0:00:01\n",
      "   ------------------------------ --------- 9.3/12.0 MB 3.6 MB/s eta 0:00:01\n",
      "   ------------------------------- -------- 9.4/12.0 MB 3.6 MB/s eta 0:00:01\n",
      "   -------------------------------- ------- 9.7/12.0 MB 3.6 MB/s eta 0:00:01\n",
      "   -------------------------------- ------- 9.8/12.0 MB 3.6 MB/s eta 0:00:01\n",
      "   --------------------------------- ------ 10.0/12.0 MB 3.6 MB/s eta 0:00:01\n",
      "   --------------------------------- ------ 10.1/12.0 MB 3.6 MB/s eta 0:00:01\n",
      "   --------------------------------- ------ 10.2/12.0 MB 3.6 MB/s eta 0:00:01\n",
      "   ---------------------------------- ----- 10.3/12.0 MB 3.5 MB/s eta 0:00:01\n",
      "   ---------------------------------- ----- 10.4/12.0 MB 3.5 MB/s eta 0:00:01\n",
      "   ----------------------------------- ---- 10.6/12.0 MB 3.5 MB/s eta 0:00:01\n",
      "   ----------------------------------- ---- 10.8/12.0 MB 3.4 MB/s eta 0:00:01\n",
      "   ------------------------------------ --- 11.0/12.0 MB 3.4 MB/s eta 0:00:01\n",
      "   ------------------------------------ --- 11.1/12.0 MB 3.4 MB/s eta 0:00:01\n",
      "   ------------------------------------- -- 11.3/12.0 MB 3.4 MB/s eta 0:00:01\n",
      "   -------------------------------------- - 11.5/12.0 MB 3.4 MB/s eta 0:00:01\n",
      "   -------------------------------------- - 11.7/12.0 MB 3.4 MB/s eta 0:00:01\n",
      "   ---------------------------------------  11.9/12.0 MB 3.3 MB/s eta 0:00:01\n",
      "   ---------------------------------------  12.0/12.0 MB 3.3 MB/s eta 0:00:01\n",
      "   ---------------------------------------- 12.0/12.0 MB 3.3 MB/s eta 0:00:00\n",
      "Downloading catalogue-2.0.9-py3-none-any.whl (17 kB)\n",
      "Downloading pathy-0.10.2-py3-none-any.whl (48 kB)\n",
      "   ---------------------------------------- 0.0/48.9 kB ? eta -:--:--\n",
      "   ---------------------------------------- 48.9/48.9 kB 2.4 MB/s eta 0:00:00\n",
      "Downloading srsly-2.4.7-cp311-cp311-win_amd64.whl (479 kB)\n",
      "   ---------------------------------------- 0.0/479.5 kB ? eta -:--:--\n",
      "   ------------ --------------------------- 153.6/479.5 kB 3.1 MB/s eta 0:00:01\n",
      "   ---------------------------- ----------- 337.9/479.5 kB 4.2 MB/s eta 0:00:01\n",
      "   ---------------------------------------- 479.5/479.5 kB 3.8 MB/s eta 0:00:00\n",
      "Downloading thinc-8.1.12-cp311-cp311-win_amd64.whl (1.5 MB)\n",
      "   ---------------------------------------- 0.0/1.5 MB ? eta -:--:--\n",
      "   ----- ---------------------------------- 0.2/1.5 MB 5.9 MB/s eta 0:00:01\n",
      "   --------- ------------------------------ 0.4/1.5 MB 4.6 MB/s eta 0:00:01\n",
      "   --------------- ------------------------ 0.6/1.5 MB 4.0 MB/s eta 0:00:01\n",
      "   ---------------------- ----------------- 0.8/1.5 MB 4.3 MB/s eta 0:00:01\n",
      "   --------------------------- ------------ 1.0/1.5 MB 4.2 MB/s eta 0:00:01\n",
      "   -------------------------------- ------- 1.2/1.5 MB 4.2 MB/s eta 0:00:01\n",
      "   ------------------------------------ --- 1.3/1.5 MB 4.1 MB/s eta 0:00:01\n",
      "   ---------------------------------------- 1.5/1.5 MB 3.9 MB/s eta 0:00:00\n",
      "Downloading wasabi-1.1.2-py3-none-any.whl (27 kB)\n",
      "Downloading blis-0.7.10-cp311-cp311-win_amd64.whl (7.4 MB)\n",
      "   ---------------------------------------- 0.0/7.4 MB ? eta -:--:--\n",
      "    --------------------------------------- 0.1/7.4 MB 4.3 MB/s eta 0:00:02\n",
      "   - -------------------------------------- 0.3/7.4 MB 3.8 MB/s eta 0:00:02\n",
      "   -- ------------------------------------- 0.4/7.4 MB 3.9 MB/s eta 0:00:02\n",
      "   -- ------------------------------------- 0.6/7.4 MB 3.5 MB/s eta 0:00:02\n",
      "   --- ------------------------------------ 0.7/7.4 MB 3.4 MB/s eta 0:00:02\n",
      "   ---- ----------------------------------- 0.9/7.4 MB 3.4 MB/s eta 0:00:02\n",
      "   ----- ---------------------------------- 1.0/7.4 MB 3.3 MB/s eta 0:00:02\n",
      "   ----- ---------------------------------- 1.0/7.4 MB 3.0 MB/s eta 0:00:03\n",
      "   ------ --------------------------------- 1.2/7.4 MB 3.1 MB/s eta 0:00:02\n",
      "   ------ --------------------------------- 1.3/7.4 MB 3.0 MB/s eta 0:00:03\n",
      "   ------- -------------------------------- 1.5/7.4 MB 3.0 MB/s eta 0:00:02\n",
      "   -------- ------------------------------- 1.6/7.4 MB 3.1 MB/s eta 0:00:02\n",
      "   --------- ------------------------------ 1.7/7.4 MB 3.0 MB/s eta 0:00:02\n",
      "   ---------- ----------------------------- 1.9/7.4 MB 3.1 MB/s eta 0:00:02\n",
      "   ----------- ---------------------------- 2.1/7.4 MB 3.1 MB/s eta 0:00:02\n",
      "   ------------ --------------------------- 2.3/7.4 MB 3.1 MB/s eta 0:00:02\n",
      "   ------------- -------------------------- 2.4/7.4 MB 3.2 MB/s eta 0:00:02\n",
      "   -------------- ------------------------- 2.7/7.4 MB 3.3 MB/s eta 0:00:02\n",
      "   --------------- ------------------------ 2.8/7.4 MB 3.3 MB/s eta 0:00:02\n",
      "   ---------------- ----------------------- 3.0/7.4 MB 3.3 MB/s eta 0:00:02\n",
      "   ----------------- ---------------------- 3.2/7.4 MB 3.4 MB/s eta 0:00:02\n",
      "   ------------------ --------------------- 3.4/7.4 MB 3.4 MB/s eta 0:00:02\n",
      "   ------------------- -------------------- 3.6/7.4 MB 3.4 MB/s eta 0:00:02\n",
      "   -------------------- ------------------- 3.8/7.4 MB 3.4 MB/s eta 0:00:02\n",
      "   --------------------- ------------------ 4.0/7.4 MB 3.5 MB/s eta 0:00:01\n",
      "   ---------------------- ----------------- 4.2/7.4 MB 3.5 MB/s eta 0:00:01\n",
      "   ----------------------- ---------------- 4.3/7.4 MB 3.5 MB/s eta 0:00:01\n",
      "   ------------------------ --------------- 4.5/7.4 MB 3.6 MB/s eta 0:00:01\n",
      "   ------------------------ --------------- 4.6/7.4 MB 3.6 MB/s eta 0:00:01\n",
      "   ------------------------ --------------- 4.6/7.4 MB 3.6 MB/s eta 0:00:01\n",
      "   ------------------------ --------------- 4.6/7.4 MB 3.6 MB/s eta 0:00:01\n",
      "   -------------------------- ------------- 4.9/7.4 MB 3.4 MB/s eta 0:00:01\n",
      "   --------------------------- ------------ 5.1/7.4 MB 3.4 MB/s eta 0:00:01\n",
      "   --------------------------- ------------ 5.1/7.4 MB 3.4 MB/s eta 0:00:01\n",
      "   ----------------------------- ---------- 5.4/7.4 MB 3.4 MB/s eta 0:00:01\n",
      "   ----------------------------- ---------- 5.5/7.4 MB 3.4 MB/s eta 0:00:01\n",
      "   ------------------------------- -------- 5.7/7.4 MB 3.4 MB/s eta 0:00:01\n",
      "   ------------------------------- -------- 5.9/7.4 MB 3.4 MB/s eta 0:00:01\n",
      "   --------------------------------- ------ 6.1/7.4 MB 3.5 MB/s eta 0:00:01\n",
      "   ---------------------------------- ----- 6.3/7.4 MB 3.5 MB/s eta 0:00:01\n",
      "   ---------------------------------- ----- 6.4/7.4 MB 3.5 MB/s eta 0:00:01\n",
      "   ----------------------------------- ---- 6.6/7.4 MB 3.5 MB/s eta 0:00:01\n",
      "   ----------------------------------- ---- 6.6/7.4 MB 3.5 MB/s eta 0:00:01\n",
      "   ------------------------------------ --- 6.8/7.4 MB 3.4 MB/s eta 0:00:01\n",
      "   ------------------------------------- -- 6.9/7.4 MB 3.4 MB/s eta 0:00:01\n",
      "   ------------------------------------- -- 7.0/7.4 MB 3.4 MB/s eta 0:00:01\n",
      "   -------------------------------------- - 7.1/7.4 MB 3.4 MB/s eta 0:00:01\n",
      "   ---------------------------------------  7.3/7.4 MB 3.3 MB/s eta 0:00:01\n",
      "   ---------------------------------------  7.4/7.4 MB 3.3 MB/s eta 0:00:01\n",
      "   ---------------------------------------- 7.4/7.4 MB 3.3 MB/s eta 0:00:00\n",
      "Downloading confection-0.1.1-py3-none-any.whl (34 kB)\n",
      "Installing collected packages: cymem, wasabi, spacy-loggers, spacy-legacy, murmurhash, langcodes, catalogue, blis, typer, srsly, preshed, pathy, confection, thinc, spacy\n",
      "Successfully installed blis-0.7.10 catalogue-2.0.9 confection-0.1.1 cymem-2.0.7 langcodes-3.3.0 murmurhash-1.0.9 pathy-0.10.2 preshed-3.0.8 spacy-3.6.1 spacy-legacy-3.0.12 spacy-loggers-1.0.4 srsly-2.4.7 thinc-8.1.12 typer-0.9.0 wasabi-1.1.2\n"
     ]
    },
    {
     "name": "stderr",
     "output_type": "stream",
     "text": [
      "  WARNING: The script pathy.exe is installed in 'C:\\Users\\Rahul\\AppData\\Roaming\\Python\\Python311\\Scripts' which is not on PATH.\n",
      "  Consider adding this directory to PATH or, if you prefer to suppress this warning, use --no-warn-script-location.\n",
      "  WARNING: The script spacy.exe is installed in 'C:\\Users\\Rahul\\AppData\\Roaming\\Python\\Python311\\Scripts' which is not on PATH.\n",
      "  Consider adding this directory to PATH or, if you prefer to suppress this warning, use --no-warn-script-location.\n"
     ]
    }
   ],
   "source": [
    "!pip install spacy"
   ]
  },
  {
   "cell_type": "code",
   "execution_count": 10,
   "id": "1ad71044",
   "metadata": {},
   "outputs": [],
   "source": [
    "import pytesseract\n",
    "import cv2\n",
    "import matplotlib.pyplot as plt\n",
    "from pdf2image import convert_from_path\n",
    "import numpy as np\n",
    "import os\n",
    "import pandas as pd\n",
    "import glob\n",
    "\n",
    "import time\n",
    "import re\n",
    "from nltk.tokenize import sent_tokenize,word_tokenize\n",
    "\n",
    "import string\n",
    "from nltk.corpus import stopwords\n",
    "import spacy\n",
    "\n",
    "from sklearn.feature_extraction.text import CountVectorizer\n",
    "from sklearn.model_selection import train_test_split\n",
    "from sklearn.metrics import classification_report\n",
    "\n",
    "from sklearn.svm import SVC\n",
    "from sklearn.ensemble import RandomForestClassifier"
   ]
  },
  {
   "cell_type": "code",
   "execution_count": null,
   "id": "5130e700",
   "metadata": {},
   "outputs": [],
   "source": [
    "# Road_Map of the task\n",
    "\n",
    "# first extract the data from pdf images\n",
    "# create the labled data set using collecting the data"
   ]
  },
  {
   "cell_type": "markdown",
   "id": "208e161a",
   "metadata": {},
   "source": [
    "# Collecting the data"
   ]
  },
  {
   "cell_type": "raw",
   "id": "6a04ff28",
   "metadata": {},
   "source": [
    "using normal pdfreader\n",
    "using computer vision with poppler"
   ]
  },
  {
   "cell_type": "markdown",
   "id": "f9e512ed",
   "metadata": {},
   "source": [
    "# Using normal pdfreader"
   ]
  },
  {
   "cell_type": "code",
   "execution_count": null,
   "id": "e85c6721",
   "metadata": {},
   "outputs": [],
   "source": [
    "import pandas as pd\n",
    "import PyPDF2\n",
    "import os\n",
    "import warnings\n",
    "warnings.filterwarnings('ignore')"
   ]
  },
  {
   "cell_type": "code",
   "execution_count": null,
   "id": "72706dec",
   "metadata": {},
   "outputs": [],
   "source": [
    "2370+8005+5974"
   ]
  },
  {
   "cell_type": "code",
   "execution_count": null,
   "id": "eea66dd3",
   "metadata": {},
   "outputs": [],
   "source": [
    "file_path = r\"D:\\Data Science(Ekeeda)\\Projects\\document_classsification\\fwpurchaseinvoice\\J190027389.pdf\"\n",
    "\n",
    "\n",
    "with open(file_path, \"rb\") as file:\n",
    "    data = PyPDF2.PdfReader(file)\n",
    "    page = data.pages[2]\n",
    "    text = page.extract_text()\n",
    "    print(len(text))"
   ]
  },
  {
   "cell_type": "code",
   "execution_count": null,
   "id": "47004d01",
   "metadata": {},
   "outputs": [],
   "source": [
    "# for filename in os.listdir(path):\n",
    "#         file_path = os.path.join(path, filename)\n",
    "#         if filename.endswith('.pdf'):\n",
    "#             print(filename)\n",
    "#             with open(file_path, \"rb\") as file:\n",
    "#                 pdf_reader = PyPDF2.PdfReader(file)\n",
    "#                 pdf_text = \"\" \n",
    "#                 for i in range(len(pdf_reader.pages)):\n",
    "#                     print(i)"
   ]
  },
  {
   "cell_type": "code",
   "execution_count": null,
   "id": "c3f2ff56",
   "metadata": {},
   "outputs": [],
   "source": [
    "def pdf_to_data(path, label):\n",
    "    pdf_text_list = [] \n",
    "\n",
    "    for filename in os.listdir(path):\n",
    "        file_path = os.path.join(path, filename)\n",
    "        if filename.endswith('.pdf'):\n",
    "            with open(file_path, \"rb\") as file:\n",
    "                pdf_reader = PyPDF2.PdfReader(file)\n",
    "                pdf_text = \"\" \n",
    "                for page in pdf_reader.pages:\n",
    "                    pdf_text += page.extract_text()\n",
    "                pdf_text_list.append(pdf_text)\n",
    "    \n",
    "    data = pd.DataFrame(pdf_text_list, columns=['Text'])\n",
    "    data['Label'] = label\n",
    "\n",
    "    return data"
   ]
  },
  {
   "cell_type": "code",
   "execution_count": null,
   "id": "311d2160",
   "metadata": {},
   "outputs": [],
   "source": [
    "# path = r\"D:\\Data Science(Ekeeda)\\Projects\\document_classsification\\fwpurchaseinvoice\"\n",
    "\n",
    "# purchase_invoice_data = pdf_to_data(path,1)"
   ]
  },
  {
   "cell_type": "code",
   "execution_count": null,
   "id": "d3668436",
   "metadata": {},
   "outputs": [],
   "source": [
    "# purchase_invoice_data"
   ]
  },
  {
   "cell_type": "code",
   "execution_count": null,
   "id": "230c25b6",
   "metadata": {},
   "outputs": [],
   "source": [
    "sales_invoice_data = pdf_to_data(r\"D:\\Data Science(Ekeeda)\\Projects\\document_classsification\\fwsalesinvoice\",0)"
   ]
  },
  {
   "cell_type": "code",
   "execution_count": null,
   "id": "d286bde2",
   "metadata": {},
   "outputs": [],
   "source": [
    "sales_invoice_data"
   ]
  },
  {
   "cell_type": "code",
   "execution_count": null,
   "id": "b7f7efec",
   "metadata": {},
   "outputs": [],
   "source": [
    "# invoice_data = pd.concat([sales_invoice_data,purchase_invoice_data],ignore_index=True)"
   ]
  },
  {
   "cell_type": "code",
   "execution_count": null,
   "id": "e425f081",
   "metadata": {},
   "outputs": [],
   "source": [
    "invoice_data.shape"
   ]
  },
  {
   "cell_type": "code",
   "execution_count": null,
   "id": "eca8193f",
   "metadata": {},
   "outputs": [],
   "source": [
    "invoice_data"
   ]
  },
  {
   "cell_type": "code",
   "execution_count": null,
   "id": "66a256da",
   "metadata": {},
   "outputs": [],
   "source": [
    "invoice_data.to_csv('Invoce_Data.csv')"
   ]
  },
  {
   "cell_type": "markdown",
   "id": "d5102152",
   "metadata": {},
   "source": [
    "# Using computer vision "
   ]
  },
  {
   "cell_type": "code",
   "execution_count": 11,
   "id": "0a1baf24",
   "metadata": {},
   "outputs": [],
   "source": [
    "poppler_path = r\"D:\\programing software\\Release-23.07.0-0\\poppler-23.07.0\\Library\\bin\"\n",
    "\n",
    "pdf_path = r\"D:\\Data Science(Ekeeda)\\Projects\\document_classsification\\Purchase_invoice\\purchasebill (1)\\C240176401.pdf\""
   ]
  },
  {
   "cell_type": "code",
   "execution_count": null,
   "id": "87ab0770",
   "metadata": {},
   "outputs": [],
   "source": [
    "img = convert_from_path(pdf_path,poppler_path=poppler_path)"
   ]
  },
  {
   "cell_type": "code",
   "execution_count": null,
   "id": "1e2a01da",
   "metadata": {},
   "outputs": [],
   "source": [
    "folder_path =\"D:\\Data Science(Ekeeda)\\Projects\\document_classsification\\Purchase_invoice\""
   ]
  },
  {
   "cell_type": "code",
   "execution_count": null,
   "id": "6494c5bb",
   "metadata": {},
   "outputs": [],
   "source": [
    "# big = []\n",
    "# for filename in os.listdir(folder_path):\n",
    "#     InFolder_path = os.path.join(folder_path, filename)\n",
    "#     print(InFolder_path)\n",
    "#     for "
   ]
  },
  {
   "cell_type": "code",
   "execution_count": 6,
   "id": "fe15f4e5",
   "metadata": {},
   "outputs": [],
   "source": [
    "def Data_collector(folder_path):\n",
    "    text_data = []\n",
    "    poppler_path = r\"D:\\programing software\\Release-23.07.0-0\\poppler-23.07.0\\Library\\bin\"\n",
    "    \n",
    "    for filename in os.listdir(folder_path):\n",
    "        pdf_path = os.path.join(folder_path, filename)\n",
    "        \n",
    "        if filename.endswith('.pdf') or filename.endswith('.PDF'):\n",
    "            img = convert_from_path(pdf_path,poppler_path=poppler_path)  \n",
    "            \n",
    "            pdf_text = \"\"\n",
    "            for page_num, image in enumerate(img):\n",
    "                opencv_image = cv2.cvtColor(np.array(image), cv2.COLOR_RGB2BGR)\n",
    "                text = pytesseract.image_to_string(opencv_image,lang='eng')\n",
    "                pdf_text += text\n",
    "            text_data.append(text)\n",
    "            \n",
    "#     data = pd.DataFrame(text_data, columns=['Text'])\n",
    "#     data['Label'] = label\n",
    "    return text_data"
   ]
  },
  {
   "cell_type": "code",
   "execution_count": null,
   "id": "daf5357c",
   "metadata": {},
   "outputs": [],
   "source": []
  },
  {
   "cell_type": "code",
   "execution_count": null,
   "id": "006228e6",
   "metadata": {},
   "outputs": [],
   "source": []
  },
  {
   "cell_type": "code",
   "execution_count": 12,
   "id": "3db26af3",
   "metadata": {},
   "outputs": [],
   "source": [
    "import os\n",
    "from pdf2image import convert_from_path\n",
    "import pytesseract\n",
    "import cv2\n",
    "import numpy as np\n",
    "from nltk.tokenize import word_tokenize\n",
    "\n",
    "def Data_collector(folder_path):\n",
    "    text_data = []\n",
    "    t_values = []\n",
    "    poppler_path = r\"D:\\programing software\\Release-23.07.0-0\\poppler-23.07.0\\Library\\bin\"\n",
    "    \n",
    "    for pdf_number, filename in enumerate(os.listdir(folder_path), start=1):\n",
    "        pdf_path = os.path.join(folder_path, filename)\n",
    "        \n",
    "        if filename.endswith('.pdf') or filename.endswith('.PDF'):\n",
    "            img = convert_from_path(pdf_path, poppler_path=poppler_path)  \n",
    "            \n",
    "            text = \"\"\n",
    "            for page_num, image in enumerate(img):\n",
    "                opencv_image = cv2.cvtColor(np.array(image), cv2.COLOR_RGB2BGR)\n",
    "                text_ = pytesseract.image_to_string(opencv_image, lang='eng')\n",
    "                text += text_\n",
    "                \n",
    "                b = text[text.find('Consignee (Ship to)'):text.find('Consignee (Ship to)')+80]\n",
    "                c = word_tokenize(b)\n",
    "                t = \"\"\n",
    "                for i in c[5:9]:\n",
    "                    t += i\n",
    "            \n",
    "            pdf_header = f\"pdf{pdf_number}\\n\\n\"\n",
    "            pdf_text_with_header = f\"{pdf_header}\\n{text}\"\n",
    "            text_data.append(pdf_text_with_header)\n",
    "            t_values.append(t)\n",
    "    \n",
    "    return text_data,t_values\n"
   ]
  },
  {
   "cell_type": "code",
   "execution_count": 13,
   "id": "793985b5",
   "metadata": {},
   "outputs": [],
   "source": [
    "folder_path = r\"D:\\Data Science(Ekeeda)\\Projects\\document_classsification\\Sales_invoice\\fwsalesinvoice\"\n",
    "extracted_texts,buyer = Data_collector(folder_path)"
   ]
  },
  {
   "cell_type": "code",
   "execution_count": 16,
   "id": "f62a010a",
   "metadata": {},
   "outputs": [
    {
     "name": "stdout",
     "output_type": "stream",
     "text": [
      "['pdf1\\n\\n\\nTax Invoice\\n\\nIRN : 54bb0147c70619b645ee1425d3b44f2f767c0921b1 5f-\\nd6d1908f2c307311f3f7\\n\\nAck No. : 172313024063204\\n\\nAck Date : 30-Jun-23\\n\\ne-Invoice\\n\\nB M Infotrade Private Limited\\n\\n53 A, Vishnupuri. Dalda Factory Road,\\nDurgapura, Jaipur\\nUDYAM-RJ-17-0010127\\n\\nGSTIN/UIN: O8AAECB8518R12ZZ\\nState Name: Rajasthan, Code : 08\\nCIN: US52190RJ2012PTC037624\\nContact : 9829189200, 9314508367\\nE-Mail : beena@bmtraders.com\\nhttps://bminfotrade.com\\n\\nConsignee (Ship to)\\nAavas Financiers Ltd\\n201-202, 2nd Floor, Southend Square, Jaipur,\\n\\nGSTIN/UIN : OBAAJCA2237M1ZH\\nState Name : Rajasthan, Code : 08\\nContact : 9116619026\\n\\nInvoice No. Dated\\n\\nBM/23-24/5626 30-Jun-23\\n\\nDelivery Note Mode/Terms of Payment\\n30 Days\\n\\nReference No. & Date. Other References\\n\\nBuyer\\'s Order No. Dated\\n\\nAAVASIIT/23-24/993 28-Jun-23\\n\\nDispatch Doc No.\\n\\nDelivery Note Date\\n\\nDispatched through\\n\\nDestination\\n\\nVessel/Flight No.\\n\\nBuyer (Bill to)\\n\\nAavas Financiers Ltd\\n201-202, 2nd Floor, Southend Square, Jaipur,\\nGSTIN/UIN : OBAAJCA2237M1ZH\\nState Name : Rajasthan, Code : 08\\nPlace of Supply: Rajasthan\\n\\n: 9116619026\\n\\nContact\\n\\nsl Description of HSN/SAC\\n\\nNo. Services\\n\\nPlace of receipt by shipper:\\n\\nCity/Port of Loading\\n\\nCity/Port of Discharge\\n\\nTerms of Delivery\\n\\nGST Quantity Rate\\n\\nRate\\n\\nper Amount\\n\\n1 |Veeam Backup &Replication\\nUniversal Sub Lic (V-VBRVUL-OI\\nIncludes Enterprise Plus Edition features. 10 instance pack.\\n\\n1 Year Subscription Upfront Billing & Production (24/7) Support.\\nTDS IS NOT TO BE DEDUCTED ON SOFTWARE\\nAS PER BELOW CLAUSE ON SOFTWARE\\n**\"TDS DECLARATION 2\"***IN TERMS OF\\nNOTIFICATION NO.21/2012 DT. 13 JUNE 2012,\\nWE HEREBY DECLARE THAT TRANSACTION\\nWITH REMARKS \"REF.TDS DECLARATION 2\"/S\\nSOFTWARE ACQUIRED IN A SUBSEQUENT TRANSFER\\nAND IS TRANSFERRED WITHOUT ANY MODIFICATION\\nAND TAX IS DEDUCTED AT SOURCE UNDER SECTION\\n194J ON PAYMENT FOR THE PREVIOUS TRANSFEI\\nOF SUCH SOFTWARE. YOU ARE NOT REQUIRED TO\\nDEDUCT TAX AT SOURCE ON THIS ACCOUNT\\nOUR PERMANENT ACCOUNT NUMBER IS AAECB85|18R.\\n\\n997331\\n\\nCGST Output\\n\\n18% 10 no.\\n\\n80,000.00\\n\\nno. 8,00,000.00\\n\\n72,000.00\\n\\ncontinued to page number 2\\n\\nSUBJECT TO JAIPUR JURISDICTION\\n\\nThis is a Computer Generated Invoice\\n\\nTax Invoice(Page 2)\\n\\nB M Infotrade Private Limited\\n\\n53 A, Vishnupuri. Dalda Factory Road,\\nDurgapura, Jaipur\\nUDYAM-RJ-17-0010127\\n\\nGSTIN/UIN: O8AAECB8518R12ZZ\\nState Name: Rajasthan, Code : 08\\nCIN: U52190RJ2012PTCO37624\\nContact : 9829189200, 9314508367\\nE-Mail : beena@bmtraders.com\\nhttps://bminfotrade.com\\n\\nConsignee (Ship to)\\n\\nAavas Financiers Ltd\\n\\n201-202, 2nd Floor, Southend Square, Jaipur,\\nGSTIN/UIN : OBAAJCA2237M1ZH\\nState Name : Rajasthan, Code : 08\\n\\nInvoice No. Dated\\n\\nBM/23-24/5626 30-Jun-23\\n\\nDelivery Note Mode/Terms of Payment\\n30 Days\\n\\nReference No. & Date. Other References\\n\\nBuyer\\'s Order No. Dated\\n\\nAAVASIIT/23-24/993 28-Jun-23\\n\\nDispatch Doc No.\\n\\nDelivery Note Date\\n\\nDispatched through\\n\\nDestination\\n\\nBuyer (Bill to)\\nAavas Financiers Ltd\\n201-202, 2nd Floor, Southend Square, Jaipur,\\n\\nVessel/Flight No.\\n\\nPlace of receipt by shipper:\\n\\nCity/Port of Loading\\n\\nCity/Port of Discharge\\n\\nGSTIN/UIN : OBAAJCA2237M1ZH T f Deli\\nState Name : Rajasthan, Code : 08 erms of Delivery\\nPlace of Supply: Rajasthan\\nContact : 9116619026\\nsl Description of HSN/SAC GST Quantity Rate per Amount\\nNo. Services Rate\\nSGST Output 72,000.00\\nTotal 10 no. = 9,44,000.00\\nAmount Chargeable (in words) E.&O.E\\nRupees Nine Lakh Forty Four Thousand Only\\nHSN/SAC Taxable Central Tax State Tax Total\\nValue Rate Amount Rate Amount Tax Amount\\n| 997331 8,00,000,00 | _ _ 9% 72,000.00 9% 72,000.00 | _1,44,000.00 _|\\nTotal 8,00,000.00 72,000.00 72,000.00 | 1,44,000.00\\n\\nTax Amount (in words) :\\nCompany’s PAN : AAECB8518R\\n\\nDeclaration\\n\\nRupees One Lakh Forty Four Thousand Only\\n\\n1. Please note that this sale is subject to warranty terms\\nlaid down by our principals and we take no responsibility for\\nany kind of omissions or errors on their part. 2. Goods one\\nsold will not be taken back or replaced. 3. Any dispute or\\n\\ndifference of opinion arising out of this invoice shall be\\nresolved through Arbitration. A sole arbitrator shall be\\nappointed by B M Infotrade Private Limited. The seat of\\nArbitration shall be Jaipur Certified that the particular given\\n\\nCompany’s Bank Details\\nBank Name\\n\\nAlc No.\\n\\nBranch & IFS Code\\n\\n: 32377323083\\n\\n: State Bank of India\\n\\n: Bajaj Nagar & SBIN0003227\\n\\nCustomer\\'s Seal and Signature\\n\\nDigitally signed by BEENA CUB T Riot ade Private Limited\\nDate: 2023.06.30 18:33:44 +05:30\\n\\nReason: Verified\\n\\nAuthorised Signatory\\n\\nLocation:\\nSUBJECT TO JAIPUR JURISDICTION\\n\\nThis is a Computer Generated Invoice\\n\\n', 'pdf2\\n\\n\\nTax Invoice\\n\\nIRN : 34e5f30cbdebad292553010c9e502cfdc05bb922-\\n£88 afb883d5fd4c5320edc19\\n\\nAck No. : 172313089307842\\n\\nAck Date —: 13-Jul-23\\n\\ne-Invoice\\n\\nB M Infotrade Private Limited\\n\\n53 A, Vishnupuri. Dalda Factory Road,\\nDurgapura, Jaipur\\nUDYAM-RJ-17-0010127\\n\\nGSTIN/UIN: O8AAECB8518R1ZZ\\nState Name : Rajasthan, Code : 08\\nContact : 9829189200, 9314508367\\nE-Mail : beena@bmtraders.com\\nConsignee (Ship to)\\n\\nASK Automotive Limited Unit-XIl\\n\\nPlot No. 13-14, Sector-5, IMT Manesar,\\nGurgaon - 122050\\n\\nGSTIN/UIN : OBAAACA7205Q1ZK\\nState Name : Haryana, Code : 06\\nBuyer (Bill to)\\n\\nASK Automotive Limited Unit-XIl\\n\\nInvoice No. Dated\\n\\nBM/23-24/5710 13-Jul-23\\n\\nDelivery Note Mode/Terms of Payment\\n7 Days\\n\\nReference No. & Date. Other References\\n\\nDated\\n31-Jan-23\\nDelivery Note Date\\n\\nBuyer’s Order No.\\n2500032571\\nDispatch Doc No.\\n\\nDispatched through Destination\\n\\nVessel/Flight No. Place of receipt by shipper:\\n\\nCity/Port of Loading City/Port of Discharge\\n\\nTerms of Delivery\\n\\nPlot No. 13-14, Sector-5, IMT Manesar,\\nGurgaon - 122050\\nGSTIN/UIN : OBAAACA7205Q1ZK\\nState Name : Haryana, Code : 06\\nsl Description of HSN/SAC_ | Quantity Rate per Amount\\nNo. Services\\n41 |Microsoft Modern Azure Consumption Charges 998319 1no.| 43,563.66 | no. 43,563.66\\nConsumption from 1 June to 30 June 2023\\n2 |Managed Service 998319 1 no. 9,000.00 | no. 9,000.00\\nFor June 2023\\n52,563.66\\nIGST Output @18% 9,461.46\\nLess : Round Off (-)0.12\\nTotal 2 no. = 62,025.00\\nAmount Chargeable (in words) E.&O.E\\nRupees Sixty Two Thousand Twenty Five Only\\nHSN/SAC Taxable IGST Total\\nValue Rate Amount Tax Amount\\n|998319 52,563.66 18%| 9,461.46 | __ 9,461.46 |\\nTotal 52,563.66 9,461.46 9,461.46\\n\\nTax Amount (in words) :\\n\\nCompany’s PAN : AAECB8518R\\n\\nDeclaration\\n\\n1. Please note that this sale is subject to warranty\\nterms laid down by our principals and we take no\\nresponsibility for any kind of omissions or errors on\\ntheir part. 2. Goods one sold will not be taken back or\\nreplaced. 3. Any dispute or difference of opinion\\narising out of this invoice shall be resolved through\\nArbitration. A sole arbitrator shall be appointed by B M\\nInfotrade Private Limited. The seat of Arbitration shall\\nbe Jaipur Certified that the particular given above are\\n\\nRupees Nine Thousand Four Hundred Sixty One and Forty Six paise Only\\n\\nCompany’s Bank Details\\nBank Name : State Bank of India\\nAlc No. : 32377323083\\nBranch & IFS Code : Bajaj Nagar & SBIN0003227\\n. . for B M Infotrade Private Limited\\nDigitally signed by BEENA GUPTA\\nDate: 2023.07.13 18:22:55 +05:30\\nReason: Verified Authorised Signatory\\n\\nSUBJECT TO JAIPUR JURISDICHS\\n\\nation: Jaipur\\n\\nThis is a Computer Generated Invoice\\n\\n', \"pdf3\\n\\n\\nTax Invoice\\n\\nIRN : f4dee3e2b2dd974fb9a0eae90a3d550db0ba6d2f70-\\n6ecc758f97 ef8f96c55929\\n\\nAck No. : 172313037254082\\n\\nAck Date _—: 3-Jul-23\\n\\ne-Invoice\\n\\nB M Infotrade Private Limited\\n\\n53 A, Vishnupuri. Dalda Factory Road,\\nDurgapura, Jaipur\\nUDYAM-RJ-17-0010127\\n\\nGSTIN/UIN: O8AAECB8518R12ZZ\\nState Name: Rajasthan, Code : 08\\nCIN: U52190RJ2012PTCO37624\\nContact : 9829189200, 9314508367\\nE-Mail : beena@bmtraders.com\\nhttps://bminfotrade.com\\n\\nInvoice No. eWay BillNo. |Dated\\nBM/23-24/5689__—_771350067637_ |3-Jul-23\\nDelivery Note Mode/Terms of Payment\\n\\n100% Advance\\n\\nOther References\\nMarine Policy No. 033547028\\nDated\\n\\nReference No. & Date.\\n\\nBuyer's Order No.\\n\\nConsignee (Ship to)\\n\\nBhansali Engineering Polymers Limited\\n301 & 302, 3rd Floor, Penisula Heights, C.D.\\nBarfiwala Road, Anderi (West), Mumbai\\nGSTIN/UIN : 27AAACB3368H3ZO\\nState Name : Maharashtra, Code : 27\\n\\nBEPL:HO:IT:PO:041\\nDispatch Doc No.\\n\\n27-Jun-23\\nDelivery Note Date\\n\\nDispatched through Destination\\n\\nVessel/Flight No. Place of receipt by shipper:\\n\\nBuyer (Bill to)\\n\\nBhansali Engineering Polymers Limited\\n301 & 302, 3rd Floor, Penisula Heights, C.D.\\nBarfiwala Road, Anderi (West), Mumbai\\n\\nCity/Port of Loading City/Port of Discharge\\n\\nGSTIN/UIN : 27AAACB3368H3ZO Terms of Delivery\\nState Name : Maharashtra, Code : 27\\nPlace of Supply: Maharashtra\\nsl Description of HSN/SAC GST | Quantity Rate per Amount\\nNo. Goods and Services Rate\\n4 |Sophos XGS 107 Security Appliances ( 85176990 18% 2no.| 54,000.00 | no. 1,08,000.00\\nIXA1ZTCHIN)\\nS.No. X10122F7236QPCA, X10122FJV276BFF\\n2 |Sophos XGS 107 Xstream Protection 997331 18% 2 no.\\nfor 3 years XF1Y3CSES\\n1,08,000.00\\nIGST Output @18% 19,440.00\\nTotal 4no. = 1,27,440.00\\nAmount Chargeable (in words) E.&O.E\\nRupees One Lakh Twenty Seven Thousand Four Hundred Forty Only\\nHSN/SAC Taxable Integrated Tax Total\\nValue Rate Amount Tax Amount\\n85176990 1,08,000.00 18% 19,440.00 19,440.00\\n|997331 18%\\nTotal| 1,08,000.00 19,440.00 19,440.00\\n\\nTax Amount (in words) :\\n\\nCompany’s PAN : AAECB8518R\\n\\nDeclaration\\n\\n1. Please note that this sale is subject to warranty terms\\nlaid down by our principals and we take no responsibility for\\nany kind of omissions or errors on their part. 2. Goods one\\nsold will not be taken back or replaced. 3. Any dispute or\\ndifference of opinion arising out of this invoice shall be\\nresolved through Arbitration. A sole arbitrator shall be\\nappointed by B M Infotrade Private Limited. The seat of\\nArbitration shall be Jaipur Certified that the particular given\\n\\nRupees Nineteen Thousand Four Hundred Forty Only\\n\\nCompany’s Bank Details\\n\\nBank Name : State Bank of India\\n\\nAlc No. : 32377323083\\n\\nBranch & IFS Code; Bajaj Nagar & SBIN0003227\\n\\nCustomer's Seal and Signature\\n\\nDigitally signed by BEENA GtiB Manfotrade Private Limited\\nDate: 2023.07.03 18:50:38 +05:30\\nReason: Verified\\n\\nAuthorised Signatory\\n\\ntocatior:\\nSUBJECT TO JAIPUR JURISDICTION\\n\\nThis is a Computer Generated Invoice\\n\\ne-Way Bill\\n\\nDoc No. _ : Tax Invoice - BM/23-24/5689\\n\\nDate : 3-Jul-23\\n\\nIRN : f4dee3e2b2dd974fb9a0eae90a3d550db0ba6d2f706ecc758f97 ef8f96c55929\\nAckNo. : 172313037254082\\n\\nAck Date : 3-Jul-23\\n\\ne-Way Bill\\n\\n1. e-Way Bill Details\\n\\ne-Way BillNo. : 771350067637 Mode : Generated Date : 3-Jul-23 3:19 PM\\nGenerated By : 08AAECB8518R1ZZ Approx Distance : 1174KM Valid Upto\\n\\nSupply Type =: Outward-Supply Transaction Type : Regular\\n\\n2. Address Details\\n\\nFrom To\\n\\nB M Infotrade Private Limited\\nGSTIN : O8AAECB8518R1ZZ\\nRajasthan\\n\\nDispatch From\\n\\n53 A, Vishnupuri. Dalda Factory Road,, Durgapura, Jaipur,\\nUDYAM-RJ-17-0010127\\nJaipur Rajasthan 302018\\n\\nBhansali Engineering Polymers Limited\\nGSTIN : 27AAACB3368H3ZO\\nMaharashtra\\n\\nShip To\\n\\n301 & 302, 3rd Floor,, Penisula Heights, C.D. Barfiwala Road,,\\nAnderi (West), Mumbai 400058.\\nMumbai Maharashtra 400058\\n\\n3. Goods Details\\n\\nHSN Product Name & Desc Quantity Taxable Amt Tax Rate\\nCode (I)\\n85176990 Sophos XGS 107 Security Appliances (XA1ZTCHIN) & UTM 2 Nos 1,08,000.00 18\\n997331 Sophos XGS 107 Xstream Protection & Software 2 18\\nTot.Taxable Amt 1,08,000.00 Other Amt Total Inv Amt 1,27,440.00\\nIGST Amt 19,440.00\\n\\n4. Transportation Details\\n\\nTransporter ID : 07AABCC8298E1ZH Doc No.\\n\\nName : TRACKON COURIER (New) Date\\n\\n5. Vehicle Details\\n\\nVehicle No. From : Jaipur CEWB No.\\n\\n\", \"pdf4\\n\\n\\nTax Invoice\\n\\nIRN : af3d5e1550c90ff2776519a6260c91ec662a4db1160-\\n5a67e8bfec90d448f3ca3\\n\\nAck No. : 172313072270382\\n\\nAck Date : 10-Jul-23\\n\\ne-Invoice\\n\\nB M Infotrade Private Limited\\n\\n53 A, Vishnupuri. Dalda Factory Road,\\nDurgapura, Jaipur\\nUDYAM-RJ-17-0010127\\n\\nGSTIN/UIN: O8AAECB8518R12ZZ\\nState Name: Rajasthan, Code : 08\\nCIN: U52190RJ2012PTCO37624\\nContact : 9829189200, 9314508367\\nE-Mail : beena@bmtraders.com\\nhttps://bminfotrade.com\\n\\nInvoice No. Dated\\n\\nBM/23-24/5700 10-Jul-23\\n\\nDelivery Note Mode/Terms of Payment\\n7 Days\\n\\nReference No. & Date.\\n\\nOther References\\nMarine Policy No. 033547028\\n\\nBuyer's Order No.\\n\\nConsignee (Ship to)\\n\\nCANARA BANK\\n\\nOpposite Awari Mata mandir, Kankroli,\\nRajsamand-313324\\n\\nBy mail\\n\\nDated\\n7-Jul-23\\n\\nDispatch Doc No.\\n\\nDelivery Note Date\\n\\nDispatched through\\n\\nDestination\\n\\nVessel/Flight No.\\n\\nGSTIN/UIN : OBAAACC6106G2Z0\\nState Name : Rajasthan, Code : 08\\nBuyer (Bill to)\\n\\nCANARA BANK\\n\\nOpposite Awari Mata mandir, Kankroli,\\nRajsamand-313324\\n\\nGSTIN/UIN : O8BAAACC6106G2Z0\\nState Name : Rajasthan, Code : 08\\nPlace of Supply : Rajasthan\\n\\nPlace of receipt by shipper:\\n\\nCity/Port of Loading\\n\\nCity/Port of Discharge\\n\\nTerms of Delivery\\n\\nsl Description of Goods HSN/SAC GST | Quantity Rate per Amount\\nNo. Rate\\n1 |HP CF228A Toner Cartridge 84439959 18% 1 no. 5,978.00 | no. 5,978.00\\nS.No. 100674301478\\nCGST Output 538.02\\nSGST Output 538.02\\nTotal 1 no. = 7,054.04\\nAmount Chargeable (in words) E.&O.E\\nRupees Seven Thousand Fifty Four and Four paise Only\\nHSN/SAC Taxable Central Tax State Tax Total\\nValue Rate Amount Rate Amount Tax Amount\\n84439959 5,978.00! 9% 538.02 9% 538.02 1,076.04 |\\nTotal 5,978.00| 538.02 538.02 1,076.04\\n\\nTax Amount (in words) :\\n\\nCompany’s PAN : AAECB8518R\\n\\nDeclaration\\n\\n1. Please note that this sale is subject to warranty terms\\nlaid down by our principals and we take no responsibility for\\nany kind of omissions or errors on their part. 2. Goods one\\nsold will not be taken back or replaced. 3. Any dispute or\\ndifference of opinion arising out of this invoice shall be\\nresolved through Arbitration. A sole arbitrator shall be\\nappointed by B M Infotrade Private Limited. The seat of\\nArbitration shall be Jaipur Certified that the particular given\\n\\nRupees One Thousand Seventy Six and Four paise Only\\n\\nCompany’s Bank Details\\nBank Name\\n\\nAlc No.\\n\\nBranch & IFS Code\\n\\n: 32377323083\\n\\n: State Bank of India\\n\\n- Bajaj Nagar & SBIN0003227\\n\\nCustomer's Seal and Signature\\n\\nDigitally signed by BEENA GtjB Manfotrade Private Limited\\nDate: 2023.07.10 15:23:32 +05:30\\n\\nReason: Verified\\n\\nAuthorised Signatory\\n\\ntocatior:\\nSUBJECT TO JAIPUR JURISDICTION\\n\\nThis is a Computer Generated Invoice\\n\\n\", \"pdf5\\n\\n\\nTax Invoice\\n\\nB M Infotrade Private Limited\\n\\n53 A, Vishnupuri. Dalda Factory Road,\\nDurgapura, Jaipur\\nUDYAM-RJ-17-0010127\\n\\nGSTIN/UIN: O8AAECB8518R12ZZ\\nState Name: Rajasthan, Code : 08\\nCIN: U52190RJ2012PTCO37624\\nContact : 9829189200, 9314508367\\nE-Mail : beena@bmtraders.com\\nhttps://bminfotrade.com\\n\\nConsignee (Ship to)\\n\\nFS Housing Private Limited\\n\\nThe Crest, A-4, Airport Enclave, Near Marriott\\nHotel, Tonk Road, Jaipur\\n\\nState Name : Rajasthan, Code : 08\\n\\nInvoice No. Dated\\n\\nBM/23-24/5688 1-Jul-23\\n\\nDelivery Note Mode/Terms of Payment\\n1 Days\\n\\nReference No. & Date. Other References\\n\\nBuyer's Order No. Dated\\n\\nFSHPL/ G-Suite/2021-22/099 27-Jul-21\\n\\nDispatch Doc No. Delivery Note Date\\n\\nDispatched through Destination\\n\\nBuyer (Bill to)\\n\\nFS Housing Private Limited\\n\\nThe Crest, A-4, Airport Enclave, Near Marriott\\nHotel, Tonk Road, Jaipur\\n\\nState Name : Rajasthan, Code : 08\\n\\nVessel/Flight No. Place of receipt by shipper:\\n\\nCity/Port of Loading City/Port of Discharge\\n\\nTerms of Delivery\\n\\nPlace of Supply : Rajasthan\\nsl Description of HSN/SAC GST | Quantity Rate per Amount\\nNo. Services Rate\\n1 |G Suite Basic [998319 18% 101 no. 56.67 | no. 5,723.67\\nfsrealty.co.in\\nORDER ID 3030539972-02\\nFrom date 01-06-2023 to 08-06-2023\\n2 |Google Drive storage - 20 GB 998319 18% 2 no. 203.22 | no. 406.44\\nFrom date 01-06-2023 to 30-06-2023\\n3 |Google Drive storage 200 GB 998319 18% 1 no. 866.00 | no. 866.00\\nFrom date 01-06-2023 to 30-06-2023\\n4 |G Suite Basic 998319 18% 103 no. 14.16] no. 1,458.48\\nfsrealty.co.in\\nORDER ID 3030539972-02\\nFrom date 09-06-2023 to 10-06-2023\\n5 |G Suite Basic 998319 18% 102 no. 120.42| no. 12,282.84\\nfsrealty.co.in\\nORDER ID 3030539972-02\\nFrom date 11-06-2023 to 27-06-2023\\n6 |G Suite Basic 998319 18% 101 no. 21.25| no. 2,146.25\\nfsrealty.co.in\\nORDER ID 3030539972-02\\nFrom date 28-06-2023 to 30-06-2023\\n22,883.68\\nCGST Output 2,059.53\\nSGST Output 2,059.53\\n\\ncontinued to page number 2\\n\\nSUBJECT TO JAIPUR JURISDICTION\\n\\nThis is a Computer Generated Invoice\\n\\nTax Invoice(Page 2)\\nB M Infotrade Private Limited Invoice No. Dated\\n53 A, Vishnupuri. Dalda Factory Road, BM/23-24/5688 1-Jul-23\\nDurgapura, Jaipur -\\nUDYAM-RJ-17-0010127 Delivery Note Mode/Terms of Payment\\nGSTIN/UIN: O8AAECB8518R1ZZ 4 Days\\nState Name : Rajasthan, Code : 08\\nCIN: U52190RJ2012PTCO037624 Reference No. & Date. Other References\\nContact : 9829189200, 9314508367\\nE-Mail : beena@bmtraders.com\\nhttps://bminfotrade.com Buyer's Order No. Dated\\n\\nFSHPL/ G-Suite/2021-22/099 27-Jul-21\\n\\nConsignee (Ship to)\\n\\nFS Housing Private Limited\\n\\nThe Crest, A-4, Airport Enclave, Near Marriott\\nHotel, Tonk Road, Jaipur\\n\\nState Name : Rajasthan, Code : 08\\n\\nDispatch Doc No. Delivery Note Date\\n\\nDispatched through Destination\\n\\nBuyer (Bill to)\\n\\nFS Housing Private Limited\\n\\nThe Crest, A-4, Airport Enclave, Near Marriott\\nHotel, Tonk Road, Jaipur\\n\\nState Name : Rajasthan, Code : 08\\nPlace of Supply : Rajasthan\\n\\nVessel/Flight No. Place of receipt by shipper:\\n\\nCity/Port of Loading City/Port of Discharge\\n\\nTerms of Delivery\\n\\nsl Description of HSN/SAC GST | Quantity Rate per Amount\\nNo. Services Rate\\nRound Off 0.26\\nTotal 410 no. = 27,003.00\\nAmount Chargeable (in words) E.&O.E\\nRupees Twenty Seven Thousand Three Only\\nHSN/SAC Taxable Central Tax State Tax Total\\nValue Rate Amount Rate Amount Tax Amount\\n\\n|998319\\n\\n22,883.68| _ 9%| _2,059.53| _ 9% | _ __—-2,059.53 | _ 4,119.06 _|\\n\\nTotal\\n\\n22,883.68] 2,059.53 2,059.53 4,119.06\\n\\nTax Amount (in words) :\\n\\nCompany’s PAN : AAECB8518R\\n\\nDeclaration\\n\\n1. Please note that this sale is subject to warranty terms\\nlaid down by our principals and we take no responsibility for\\nany kind of omissions or errors on their part. 2. Goods one\\nsold will not be taken back or replaced. 3. Any dispute or\\ndifference of opinion arising out of this invoice shall be\\nresolved through Arbitration. A sole arbitrator shall be\\nappointed by B M Infotrade Private Limited. The seat of\\nArbitration shall be Jaipur Certified that the particular given\\n\\nRupees Four Thousand One Hundred Nineteen and Six paise Only\\n\\nCompany’s Bank Details\\n\\nBank Name : State Bank of India\\n\\nAlc No. : 32377323083\\n\\nBranch & IFS Code; Bajaj Nagar & SBIN0003227\\n\\nCustomer's Seal and Signature\\n\\nDigitally signed by BEENA GtiBHA rade Private Limited\\nDate: 2023.07.03 12:52:50 +05:30\\nReason: Verified\\n\\nAuthorised Signatory\\n\\ntocatior:\\nSUBJECT TO JAIPUR JURISDICTION\\n\\nThis is a Computer Generated Invoice\\n\", \"pdf6\\n\\n\\nTax Invoice e-Invoice\\n\\nIRN : 78d3c05a9648ad03726e943dafaf668a0ddcee78-\\n2e3df1cb10970d278afa21b4\\nAck No. : 172313089567462\\nAck Date —: 13-Jul-23 ‘\\nBis\\nB M Infotrade Private Limited Invoice No. Dated\\n53 A, Vishnupuri. Dalda Factory Road, BM/23-24/5707 13-Jul-23\\nDurgapura, Jaipur Delivery Note Mode/Terms of Payment\\nUDYAM-RJ-17-0010127 1 Days\\nGSTIN/UIN: O8AAECB8518R1ZZ Reference No. & Date. Other References\\nState Name : Rajasthan, Code : 08 ;\\nContact : 9829189200, 9314508367 Buyer's Order No. Dated\\nE-Mail : beena@bmtraders.com POGA/2122/0049 8-Jan-23\\nDispatch Doc No. Delivery Note Date\\nConsignee (Ship to)\\nHAL OFFSHORE LIMITED - —\\n4B ,32 CORPORATE AVENUE, OFF Dispatched through Destination\\nMAHAKALI CAVES ROAD, NEAR PAPER\\nBOX INDUS. ,ANDHERI (E), MUMBAI Vessel/Flight No. Place of receipt by shipper:\\nGSTIN/UIN : 27AAACH3144B1Z6\\nState Name _: Maharashtra, Code : 27 City/Port of Loading City/Port of Discharge\\nBuyer (Bill to)\\nHAL OFFSHORE LIMITED Terms of Delivery\\n4B ,32 CORPORATE AVENUE, OFF\\nMAHAKALI CAVES ROAD, NEAR PAPER\\nBOX INDUS. ,ANDHERI (E), MUMBAI\\nGSTIN/UIN : 27AAACH3144B1Z6\\nState Name : Maharashtra, Code : 27\\nsl Description of HSN/SAC_ | Quantity Rate per Amount\\nNo. Services\\n1 |Azure -Consumption Charges 998319 1 nos. | 59,932.47 |nos. 59,932.47\\nConsumption from 1 June to 30 June 2023\\nIGST Output @18% 10,787.84\\nLess: Round Off (-)0.31\\nTotal 1 nos. = 70,720.00\\nAmount Chargeable (in words) E.&O.E\\nRupees Seventy Thousand Seven Hundred Twenty Only\\nHSN/SAC Taxable IGST Total\\nValue Rate Amount Tax Amount\\n|998319 59,932.47 18%| 10,787.84 | 10,787.84 |\\nTotal 59,932.47 10,787.84 10,787.84\\n\\nTax Amount (in words): Rupees Ten Thousand Seven Hundred Eighty Seven and Eighty Four paise Only\\nCompany’s PAN : AAECB8518R\\n\\nDeclaration\\n\\n1. Please note that this sale is subject to warranty\\nterms laid down by our principals and we take no\\nresponsibility for any kind of omissions or errors on\\ntheir part. 2. Goods one sold will not be taken back or\\nreplaced. 3. Any dispute or difference of opinion\\narising out of this invoice shall be resolved through\\n\\nCompany’s Bank Details\\n\\nBank Name : State Bank of India\\n\\nAlc No. : 32377323083\\n\\nBranch & IFS Code : Bajaj Nagar & SBIN0003227\\n\\nfor B M Infotrade Private Limited\\n\\nArbitration. A sole arbitrator shall be appointed by B M Digitally signed by BEENA GUPTA\\nInfotrade Private Limited. The seat of Arbitration shall Date: 2023.07.13 18:26:55 +05:30\\nbe Jaipur Certified that the particular given above are Reason: Verified Authorised Signatory\\n\\nLocation J\\nSUBJECT TO JAIPUR JURISDICNON PUT\\n\\nThis is a Computer Generated Invoice\\n\", \"pdf7\\n\\n\\nTax Invoice e-Invoice\\n\\nIRN : 313€444837f4f05b538cae7f07 1ba10c717df7ee06c2-\\nc5b05103ba48e0dcb52c\\nAck No. : 172312903002099\\n\\nAck Date —: 5-Jun-23\\n\\nB M Infotrade Private Limited Invoice No. Dated\\n\\n53 A, Vishnupuri. Dalda Factory Road, BM/23-24/5546 5-Jun-23\\n\\nDurgapura, Jaipur -\\n\\nUDYAM-RJ-17-0010127 Delivery Note Mode/Terms of Payment\\nGSTIN/UIN: O8AAECB8518R1ZZ 30 Days\\n\\nState Name : Rajasthan, Code : 08\\n\\nCIN: U52190RJ2012PTCO037624 Reference No. & Date. Other References\\nContact : 9829189200, 9314508367 ‘ i\\n\\nE-Mail : beena@bmtraders.com Marine Policy No. 033547028\\nhttps://bminfotrade.com Buyer's Order No. Dated\\n\\nConsignee (Ship to) P171625 29-May-23\\n\\nHanon Climate Systems India Pvt. Ltd. Dispatch Doc No. Delivery Note Date\\n\\nSP 812A, Industrial Area, Phase-2, Bhiwadi- - —\\n\\n301019, Mr. Vikram singh ji / 9887478593 Dispatched through Destination\\nGSTIN/UIN : OBAAACC1074D1Z6 - - -\\nState Name : Rajasthan, Code : 08 Vessel/Flight No. Place of receipt by shipper:\\nBi Bill\\n\\naos climate Systems India Pvt. Ltd. City/Port of Loading City/Port of Discharge\\nSP 812A, Industrial Area, Phase-2, Bhiwadi-\\n\\n301019, Mr. Vikram singh ji / 9887478593\\n\\nGSTIN/UIN : O8AAACC1074D1Z6 Terms of Delivery\\n\\nState Name : Rajasthan, Code : 08\\n\\nPlace of Supply: Rajasthan\\n\\nsl Description of Goods HSN/SAC GST | Quantity Rate per Amount\\nNo. Rate\\n\\n1 |HP CE505AC Toner Cartridge 84439959 18% 2 no. 6,632.00 | no. 13,264.00\\n\\nS.No. 100655524196, 100655524231,\\n\\nCGST Output 1,193.76\\nSGST Output 1,193.76\\nRound Off 0.48\\nTotal 2 no. = 15,652.00\\nAmount Chargeable (in words) E.&O.E\\nRupees Fifteen Thousand Six Hundred Fifty Two Only\\nHSN/SAC Taxable Central Tax State Tax Total\\nValue Rate Amount Rate Amount Tax Amount\\n84439959 13,264.00 9% 1,193.76 9% 1,193.76 2,387.52 |\\nTotal 13,264.00 1,193.76 1,193.76 2,387.52\\n\\nTax Amount (in words) : Rupees Two Thousand Three Hundred Eighty Seven and Fifty Two paise Only\\nCompany’s PAN : AAECB8518R\\n\\nDeclaration\\n\\n1. Please note that this sale is subject to warranty terms\\nlaid down by our principals and we take no responsibility for\\nany kind of omissions or errors on their part. 2. Goods one\\nsold will not be taken back or replaced. 3. Any dispute or\\n\\ndifference of opinion arising out of this invoice shall be Company's Bank Details\\n\\nresolved through Arbitration. A sole arbitrator shall be Bank Name : State Bank of India\\n\\nappointed by B M Infotrade Private Limited. The seat of Alc No. : 32377323083\\n\\nArbitration shall be Jaipur Certified that the particular given Branch & IFS Code : Bajaj Nagar & SBIN0003227\\n\\nCustomer's Seal and Signature Digitally signed by BEENA (cul=ay Infotrade Private Limited\\n\\nDate: 2023.06.05 18:07:01 +05:30\\nReason: Verified\\n\\nAuthorised Signatory\\n\\ntocatior:\\nSUBJECT TO JAIPUR JURISDICTION\\n\\nThis is a Computer Generated Invoice\\n\", 'pdf8\\n\\n\\nTax Invoice\\n\\nIRN : 66f48af02e9b70d4aa1df943915d018179975146464-\\n1751adb7e2888f5640808\\n\\nAck No. : 172312880091990\\n\\nAck Date 21-Jun-23\\n\\ne-Invoice\\n\\nBeet\\n\\nB M Infotrade Private Limited\\n\\n53 A, Vishnupuri. Dalda Factory Road,\\nDurgapura, Jaipur\\nUDYAM-RJ-17-0010127\\n\\nGSTIN/UIN: O8AAECB8518R12ZZ\\nState Name: Rajasthan, Code : 08\\nCIN: US52190RJ2012PTC037624\\nContact : 9829189200, 9314508367\\nE-Mail : beena@bmtraders.com\\nhttps://bminfotrade.com\\n\\nInvoice No. eWay BillNo. |Dated\\nBM/23-24/5535 701343146281 [31-May-23\\nDelivery Note Mode/Terms of Payment\\n\\nReference No. & Date. Other References\\n\\nBuyer\\'s Order No. Dated\\n\\nConsignee (Ship to)\\n\\nMIRACLE CORO PLAST PRIVATE LIMITED\\nE-140, PHASE-2, RIICO IND., AREA, BAGRU,\\nJAIPUR - 303007\\nGSTIN/UIN\\n\\nState Name\\n\\n: O8AAGCM2501B1Z4\\n: Rajasthan, Code : 08\\n\\nMCP-FQ-000681\\nDispatch Doc No.\\n\\n29-May-23\\nDelivery Note Date\\n\\nDispatched through Destination\\n\\nVessel/Flight No. Place of receipt by shipper:\\n\\nBuyer (Bill to)\\n\\nMIRACLE CORO PLAST PRIVATE LIMITED\\nE-140, PHASE-2, RIICO IND., AREA, BAGRU,\\nJAIPUR - 303007\\n\\nCity/Port of Loading City/Port of Discharge\\n\\nTerms of Delivery\\n\\nGSTIN/UIN : OBAAGCM2501B1Z4\\nState Name : Rajasthan, Code : 08\\nPlace of Supply : Rajasthan\\nsl Description of Goods HSN/SAC GST | Quantity Rate per Amount\\nNo. Rate\\n1 |Lenovo E 14 G4/14.0\" FHD/i3-1215U/8GB 84713010 18% 2no.| 47,276.00 | no. 94,552.00\\n/512 GB SSD/W11 Pro (21E3SOEE00)\\nintegrated graphic/HD RGB Camera/FPR/Wifi + BT/1year premium/CO2 Offset\\n1 year warranty\\nS.No. PF48KESX, PF48PS26\\n2 |Back Pack of Laptop 142029200 18% 2 no.\\n94,552.00\\nCGST Output 8,509.68\\nDigitally signed by BEENA GUPTA\\nDate: 2023107.07 15:44:12 +05:30\\nReason: Verified continued to page number 2\\nLocation: Jaipur\\nSUBJECT TO JAIPUR JURISDICTION\\nThis is a Computer Generated Invoice\\n\\nTax Invoice(Page 2)\\n\\nB M Infotrade Private Limited Invoice No. e-Way BillNo. |Dated\\n\\n53 A, Vishnupuri. Dalda Factory Road, BM/23-24/5535 701343146281 [31-May-23\\nDurgapura, Jaipur ~\\n\\nUDYAM-RJ-17-0010127 Delivery Note Mode/Terms of Payment\\n\\nGSTIN/UIN: O8AAECB8518R1ZZ\\nState Name : Rajasthan, Code : 08\\nCIN: U52190RJ2012PTCO037624 Reference No. & Date. Other References\\nContact : 9829189200, 9314508367\\nE-Mail : beena@bmtraders.com\\n\\nhttps://bminfotrade.com Buyer’s Order No. Dated\\n\\nConsignee (Ship to) MCP-FQ-000681 29-May-23\\n\\nMIRACLE CORO PLAST PRIVATE LIMITED Dispatch Doc No. Delivery Note Date\\nE-140, PHASE-2, RIICO IND., AREA, BAGRU,\\n\\nJAIPUR - 303007 Dispatched through Destination\\nGSTIN/UIN : OBAAGCM2501B1Z4 - - -\\nState Name : Rajasthan, Code : 08 Vessel/Flight No. Place of receipt by shipper:\\nBuyer (Bill to) City/Port of Loading City/Port of Discharge\\n\\nMIRACLE CORO PLAST PRIVATE LIMITED\\nE-140, PHASE-2, RIICO IND., AREA, BAGRU,\\nJAIPUR - 303007\\n\\nGSTIN/UIN : O8AAGCM2501B1Z4\\n\\nState Name : Rajasthan, Code : 08\\n\\nPlace of Supply : Rajasthan\\n\\nTerms of Delivery\\n\\nsl Description of Goods HSN/SAC GST | Quantity Rate per Amount\\nNo. Rate\\nSGST Output 8,509.68\\nTotal 4no. = 1,11,571.36\\nAmount Chargeable (in words) E.&O.E\\nRupees One Lakh Eleven Thousand Five Hundred Seventy One and Thirty Six paise Only\\nHSN/SAC Taxable Central Tax State Tax Total\\nValue Rate Amount Rate Amount Tax Amount\\n84713010 94,552.00 9% 8,509.68 9% 8,509.68 17,019.36\\n42029200 2% 9%\\nTotal 94,552.00 8,509.68 8,509.68 17,019.36\\n\\nTax Amount (in words): Rupees Seventeen Thousand Nineteen and Thirty Six paise Only\\nCompany’s PAN : AAECB8518R\\n\\nDeclaration\\n\\n1. Please note that this sale is subject to warranty terms\\nlaid down by our principals and we take no responsibility for\\nany kind of omissions or errors on their part. 2. Goods one\\nsold will not be taken back or replaced. 3. Any dispute or\\n\\ndifference of opinion arising out of this invoice shall be Company\\'s Bank Details\\n\\nresolved through Arbitration. A sole arbitrator shall be Bank Name : State Bank of India\\n\\nappointed by B M Infotrade Private Limited. The seat of Alc No. : 32377323083\\n\\nArbitration shall be Jaipur Certified that the particular given Branch & IFS Code : Bajaj Nagar & SBIN0003227\\n\\nCustomer\\'s Seal and Signature for B M Infotrade Private Limited\\n\\nAuthorised Signatory\\n\\nSUBJECT TO JAIPUR JURISDICTION\\n\\nThis is a Computer Generated Invoice\\n\\ne-Way Bill\\n\\nDoc No. _ : Tax Invoice - BM/23-24/5535\\n\\nDate : 31-May-23\\n\\nIRN : 66f48af02e9b70d4aa1 df943915d0181799751464641751adb7e2888f5640808\\nAckNo. : 172312880091990\\n\\nAck Date: 1-Jun-23\\n\\n1. e-Way Bill Details\\n\\ne-Way Bill No. : 701343146281 Mode : 1-Road Generated Date : 1-Jun-23 1:08 PM\\nGenerated By : 08AAECB8518R1ZZ Approx Distance : 29KM Valid Upto : 2-Jun-23 11:59 PM\\nSupply Type =: Outward-Supply Transaction Type : Regular\\n\\n2. Address Details\\n\\nFrom To\\n\\nB M Infotrade Private Limited\\nGSTIN : O8AAECB8518R1ZZ\\nRajasthan\\n\\nDispatch From\\n\\n53 A, Vishnupuri. Dalda Factory Road,, Durgapura, Jaipur,\\nUDYAM-RJ-17-0010127\\nJaipur Rajasthan 302018\\n\\nMIRACLE CORO PLAST PRIVATE LIMITED\\nGSTIN : O8AAGCM2501B1Z4\\nRajasthan\\n\\nShip To\\n\\nE-140, PHASE-2, RIICO IND., AREA, BAGRU, JAIPUR -\\n303007\\nJaipur Rajasthan 303007\\n\\n3. Goods Details\\n\\nHSN Product Name & Desc Quantity Taxable Amt Tax Rate\\n\\nCode (C+S)\\n\\n84713010 Lenovo E 14 G4/14.0\" FHD/i3-1215U/8GB/512 GB SSD/W11 Pro ( 2 NOS 94,552.00 9+9\\n21E3S0EE00) & Lenovo Laptop\\n\\n42029200 Back Pack of Laptop & Backpack of Laptop 2 NOS 9+9\\n\\nTot.Taxable Amt 94,552.00 Other Amt Total Inv Amt 1,11,571.36\\n\\nCGST Amt 8,509.68 SGST Amt 8,509.68\\n\\n4. Transportation Details\\n\\nTransporter ID Doc No.\\n\\nName Date\\n\\n5. Vehicle Details\\n\\nVehicle No. : RJ14KW1597 From : Jaipur CEWB No.\\n\\n', 'pdf9\\n\\n\\nTax Invoice\\n\\nIRN\\n\\n308761f4ad162d39db52c7d2\\nAck No. : 172313089312631\\nAck Date —: 13-Jul-23\\n\\n: bf5c6f92c11532178c4af74dee5770b3e90b9bda-\\n\\ne-Invoice\\n\\nB M Infotrade Private Limited\\n\\n53 A, Vishnupuri. Dalda Factory Road,\\nDurgapura, Jaipur\\nUDYAM-RJ-17-0010127\\n\\nGSTIN/UIN: O8AAECB8518R1ZZ\\nState Name : Rajasthan, Code : 08\\n\\neaceeees\\nInvoice No. Dated\\nBM/23-24/5711 13-Jul-23\\n\\nDelivery Note Mode/Terms of Payment\\n\\n[Advance Payment\\n\\nReference No. & Date.\\n\\nOther References\\n\\nMarine Policy No. 033547028\\n\\nDated\\n6-Jul-23\\nDelivery Note Date\\n\\nBuyer’s Order No.\\n232420761\\nDispatch Doc No.\\n\\nContact : 9829189200, 9314508367\\nE-Mail : beena@bmtraders.com\\nConsignee (Ship to)\\n\\nNIPPON STEEL PIPE INDIA PVT.LTD\\nPlot No. SP2, 100-103, RIICO New\\nIndustrial Complex, Majrakath, Neemrana,\\nAlwar, Rajasthan - 301705\\n\\nGSTIN/UIN : O8AADCN3937B1ZO\\nState Name : Rajasthan, Code : 08\\nBuyer (Bill to)\\n\\nNIPPON STEEL PIPE INDIA PVT.LTD\\nPlot No. SP2, 100-103, RIICO New\\nIndustrial Complex, Majrakath, Neemrana,\\nAlwar, Rajasthan - 301705\\n\\nDispatched through Destination\\n\\nVessel/Flight No. Place of receipt by shipper:\\n\\nCity/Port of Loading City/Port of Discharge\\n\\nTerms of Delivery\\n\\nGSTIN/UIN : OBAADCN3937B1ZO\\nState Name : Rajasthan, Code : 08\\nsl Description of HSN/SAC_ | Quantity Rate per Amount\\nNo. Services\\n1 |Web Design with Content Writing 998314 1 no. |1,12,500.00 | no. 1,12,500.00\\nCGST Output 10,125.00\\nSGST Output 10,125.00\\nTotal 1 no. = 1,32,750.00\\nAmount Chargeable (in words) E.&O.E\\nRupees One Lakh Thirty Two Thousand Seven Hundred Fifty Only\\nHSN/SAC Taxable CGST SGST/UTGST Total\\nValue Rate Amount Rate Amount Tax Amount\\n,998314 1,12,500.00 9%| 10,125.00 9%| 10,125.00 20,250.00\\nTotal | 1,12,500.00 10,125.00 10,125.00 20,250.00\\n\\nTax Amount (in words): Rupees Twenty Thousand Two Hundred Fifty Only\\n\\nCompany’s PAN : AAECB8518R\\n\\nDeclaration\\n\\n1. Please note that this sale is subject to warranty\\nterms laid down by our principals and we take no\\nresponsibility for any kind of omissions or errors on\\ntheir part. 2. Goods one sold will not be taken back or\\nreplaced. 3. Any dispute or difference of opinion\\narising out of this invoice shall be resolved through\\nArbitration. A sole arbitrator shall be appointed by B M\\nInfotrade Private Limited. The seat of Arbitration shall\\nbe Jaipur Certified that the particular given above are\\n\\nCompany’s Bank Details\\nBank Name : State Bank of India\\nAlc No. : 32377323083\\nBranch & IFS Code : Bajaj Nagar & SBIN0003227\\n. . for B M Infotrade Private Limited\\nDigitally signed by BEENA GUPTA\\nDate: 2023.07.13 18:24:38 +05:30\\nReason: Verified Authorised Signatory\\n\\nLocation J\\nSUBJECT TO JAIPUR JURISDICNON PUT\\n\\nThis is a Computer Generated Invoice\\n\\n', 'pdf10\\n\\n\\ne-Invoice\\n\\nTax Invoice\\n\\nIRN : €08bc0855bf39dda285351541242de791a19e6f8-\\n78e30b84f699151ed818e2de\\nAck No. : 172313089270469\\nAck Date —: 13-Jul-23\\nB M Infotrade Private Limited Invoice No. Dated\\n53 A, Vishnupuri. Dalda Factory Road, BM/23-24/5709 13-Jul-23\\nDurgapura, Jaipur Delivery Note Mode/Terms of Payment\\n\\nUDYAM-RJ-17-0010127\\n\\nGSTIN/UIN: O8AAECB8518R1ZZ\\n\\nState Name : Rajasthan, Code : 08\\nContact : 9829189200, 9314508367\\nE-Mail : beena@bmtraders.com\\nConsignee (Ship to)\\n\\nQDEGREES SERVICES PVT LTD\\n\\nB9, 1st Floor, Mahalaxmi Nagar, Malviya\\nNagar, Behind WTP, South Block Jaipur\\nGSTIN/UIN : OBAAACQ4569M1ZV\\nState Name : Rajasthan, Code : 08\\nBuyer (Bill to)\\n\\nQDEGREES SERVICES PVT LTD\\n\\nB9, 1st Floor, Mahalaxmi Nagar, Malviya\\nNagar, Behind WTP, South Block Jaipur\\n\\nReference No. & Date. Other References\\n\\nDated\\n18-Jan-23\\nDelivery Note Date\\n\\nBuyer’s Order No.\\nQSPL222366\\nDispatch Doc No.\\n\\nDispatched through Destination\\n\\nVessel/Flight No. Place of receipt by shipper:\\n\\nCity/Port of Loading City/Port of Discharge\\n\\nTerms of Delivery\\n\\nGSTIN/UIN : OBAAACQ4569M1ZV\\nState Name : Rajasthan, Code : 08\\nsl Description of HSN/SAC_ | Quantity Rate per Amount\\nNo. Services\\n1 |Azure -Consumption Charges 998319 1 nos. | 19,064.04 |nos. 19,064.04\\nConsumption from 1 June to 30 June 2023\\nCGST Output 1,715.76\\nSGST Output 1,715.76\\nRound Off 0.44\\nTotal 1 nos. = 22,496.00\\nAmount Chargeable (in words) E.&O.E\\nRupees Twenty Two Thousand Four Hundred Ninety Six Only\\nHSN/SAC Taxable CGST SGST/UTGST Total\\nValue Rate Amount Rate Amount Tax Amount\\n|998319 19,064.04 9% 1,715.76 9% 1,715.76 3,431.52 |\\nTotal 19,064.04 1,715.76 1,715.76 3,431.52\\n\\nTax Amount (in words): Rupees Three Thousand Four Hundred Thirty One and Fifty Two paise Only\\n\\nCompany’s PAN : AAECB8518R\\n\\nDeclaration\\n\\n1. Please note that this sale is subject to warranty\\nterms laid down by our principals and we take no\\nresponsibility for any kind of omissions or errors on\\ntheir part. 2. Goods one sold will not be taken back or\\nreplaced. 3. Any dispute or difference of opinion\\n\\nCompany’s Bank Details\\n\\nBank Name : State Bank of India\\n\\nAlc No. : 32377323083\\n\\nBranch & IFS Code : Bajaj Nagar & SBIN0003227\\n\\narising out of this invoice shall be resolved through\\n\\nArbitration. A sole arbitrator shall be appointed by B M\\nInfotrade Private Limited. The seat of Arbitration shall\\nbe Jaipur Certified that the particular given above are\\n\\n. for B M Infotrade Private Limited\\nDigitally signed by BEENA GUPTA\\nDate: 2023.07.13 18:21:07 +05:30\\n\\nReason: Verified Authorised Signatory\\n\\nSUBJECT TO JAIPUR JURISDICHS\\n\\nation: Jaipur\\n\\nThis is a Computer Generated Invoice\\n\\n', \"pdf11\\n\\n\\nTax Invoice e-Invoice\\n\\nIRN : 1f9decd4eb6e823a7fb4dd90eb08283ba74b1 476d-\\n13386a6290006e17bc63cf4\\nAck No. : 172313053090703\\n\\nAck Date _—_: 6-Jul-23\\n\\nB M Infotrade Private Limited Invoice No. Dated\\n\\n53 A, Vishnupuri. Dalda Factory Road, BM/23-24/5695 6-Jul-23\\n\\nDurgapura, Jaipur -\\n\\nUDYAM-RJ-17-0010127 Delivery Note Mode/Terms of Payment\\nGSTIN/UIN: O8AAECB8518R1ZZ 30 Days\\n\\nState Name : Rajasthan, Code : 08\\n\\nCIN: U52190RJ2012PTCO037624 Reference No. & Date. Other References\\n\\nContact : 9829189200, 9314508367 ‘ i\\n\\nE-Mail: beena@bmtraders.com Marine Policy No. 033547028\\nhttps://bminfotrade.com Buyer's Order No. Dated\\n\\nConsignee (Ship to) 72301501 28-Jun-23\\n\\nRSWM LTD (Mordi) Dispatch Doc No. Delivery Note Date\\n\\nLNJ DENIM PO BOX 28, LNJ NAGAR, MORDI ,\\n\\nBANSWARA , 327001, 9828109219 Dispatched through Destination\\nGSTIN/UIN : OBAAACRY700M1Z3\\n\\nState Name : Rajasthan, Code : 08 Vessel/Flight No. Place of receipt by shipper:\\nContact person : Anil Choubisa 7 -\\n\\nContact - 09414102130 City/Port of Loading City/Port of Discharge\\nBuyer (Bill to)\\n\\nRSWM LTD (Mordi) Terms of Delivery\\n\\nLNJ DENIM PO BOX 28, LNJ NAGAR, MORDI,\\nBANSWARA , 327001, 9828109219\\nGSTIN/UIN : OBAAACR9Y700M1Z3,\\n\\nState Name Rajasthan, Code : 08\\n\\nPlace of Supply: Rajasthan\\nContact person : Anil Choubisa\\n\\nContact : 09414102130\\n\\nsl Description of Goods HSN/SAC | GST | Quantity Rate per Amount\\n\\nNo. Rate\\n\\n1 |Hp Laser Printer MFP 126NW 84433100 18% 1 no.| 16,950.00 | no. 16,950.00\\n\\nS.No. CNBRR4G1ZP\\n1 Year warranty\\n\\nCGST Output 1,525.50\\n\\nSGST Output 1,525.50\\n\\nTotal 1 no. = 20,001.00\\n\\nAmount Chargeable (in words) E.&O.E\\nRupees Twenty Thousand One Only\\n\\nHSN/SAC Taxable Central Tax State Tax Total\\n\\nValue Rate Amount Rate Amount Tax Amount\\n\\n84433100 16,950.00 9% 1,525.50 9% 1,525.50 3,051.00\\n\\nTotal 16,950.00 1,525.50 1,525.50 3,051.00\\n\\nTax Amount (in words): Rupees Three Thousand Fifty One Only\\nCompany’s PAN : AAECB8518R\\n\\nDeclaration\\n\\n1. Please note that this sale is subject to warranty terms\\nlaid down by our principals and we take no responsibility for\\nany kind of omissions or errors on their part. 2. Goods one\\nsold will not be taken back or replaced. 3. Any dispute or\\n\\ndifference of opinion arising out of this invoice shall be Company's Bank Details\\n\\nresolved through Arbitration. A sole arbitrator shall be Bank Name : State Bank of India\\n\\nappointed by B M Infotrade Private Limited. The seat of Alc No. : 32377323083\\n\\nArbitration shall be Jaipur Certified that the particular given Branch & IFS Code : Bajaj Nagar & SBIN0003227\\n\\nCustomer's Seal and Signature Digitally signed by BEENA (cul=ay Infotrade Private Limited\\n\\nDate: 2023.07.06 15:46:01 +05:30\\nReason: Verified\\n\\nAuthorised Signatory\\n\\ntocatior:\\nSUBJECT TO JAIPUR JURISDICTION\\n\\nThis is a Computer Generated Invoice\\n\"]\n"
     ]
    }
   ],
   "source": [
    "print(extracted_texts)"
   ]
  },
  {
   "cell_type": "code",
   "execution_count": null,
   "id": "9b90db6f",
   "metadata": {},
   "outputs": [],
   "source": []
  },
  {
   "cell_type": "code",
   "execution_count": null,
   "id": "c2ca622d",
   "metadata": {},
   "outputs": [],
   "source": [
    "p1 = r\"D:\\Data Science(Ekeeda)\\Projects\\document_classsification\\Purchase_invoice\\fwpurchaseinvoice\"\n",
    "p2 = r\"D:\\Data Science(Ekeeda)\\Projects\\document_classsification\\Purchase_invoice\\purchasebill\"\n",
    "p3 = r\"D:\\Data Science(Ekeeda)\\Projects\\document_classsification\\Purchase_invoice\\purchasebill (1)\"\n",
    "p4 = r\"D:\\Data Science(Ekeeda)\\Projects\\document_classsification\\Purchase_invoice\\purchasebill (2)\"\n",
    "p5 = r\"D:\\Data Science(Ekeeda)\\Projects\\document_classsification\\Purchase_invoice\\purchaseinvoice\"\n",
    "p6 = r\"D:\\Data Science(Ekeeda)\\Projects\\document_classsification\\Purchase_invoice\\purchaseinvoice (1)\"\n",
    "p7 = r\"D:\\Data Science(Ekeeda)\\Projects\\document_classsification\\Purchase_invoice\\purchaseinvoice (2)\"\n",
    "p8 = r\"D:\\Data Science(Ekeeda)\\Projects\\document_classsification\\Purchase_invoice\\purchaseinvoice (3)\"\n",
    "p9 = r\"D:\\Data Science(Ekeeda)\\Projects\\document_classsification\\Purchase_invoice\\purchaseinvoice (4)\"\n",
    "p10 = r\"D:\\Data Science(Ekeeda)\\Projects\\document_classsification\\Purchase_invoice\\purchaseinvoice(0)\"\n",
    "\n",
    "\n",
    "\n",
    "P1 = Data_collector(p1,\"Purchase\")\n",
    "P2 = Data_collector(p2,\"Purchase\")\n",
    "P3 = Data_collector(p3,\"Purchase\")\n",
    "P4 = Data_collector(p4,\"Purchase\")\n",
    "P5 = Data_collector(p5,\"Purchase\")\n",
    "P6 = Data_collector(p6,\"Purchase\")\n",
    "P7 = Data_collector(p7,\"Purchase\")\n",
    "P8 = Data_collector(p8,\"Purchase\")\n",
    "P9 = Data_collector(p9,\"Purchase\")\n",
    "P10 = Data_collector(p10,\"Purchase\")\n",
    "\n",
    "\n"
   ]
  },
  {
   "cell_type": "code",
   "execution_count": null,
   "id": "ed58bdb4",
   "metadata": {},
   "outputs": [],
   "source": [
    "s1 = r\"D:\\Data Science(Ekeeda)\\Projects\\document_classsification\\Sales_invoice\\fwsalesinvoice\"\n",
    "s2 = r\"D:\\Data Science(Ekeeda)\\Projects\\document_classsification\\Sales_invoice\\salesbill1\"\n",
    "s3 = r\"D:\\Data Science(Ekeeda)\\Projects\\document_classsification\\Sales_invoice\\salesbill2\"\n",
    "s4 = r\"D:\\Data Science(Ekeeda)\\Projects\\document_classsification\\Sales_invoice\\salesbill3\"\n",
    "s5 = r\"D:\\Data Science(Ekeeda)\\Projects\\document_classsification\\Sales_invoice\\salesbill4\"\n",
    "s6 = r\"D:\\Data Science(Ekeeda)\\Projects\\document_classsification\\Sales_invoice\\salesbill5\"\n",
    "s7 = r\"D:\\Data Science(Ekeeda)\\Projects\\document_classsification\\Sales_invoice\\salesbill6\"\n",
    "s8 = r\"D:\\Data Science(Ekeeda)\\Projects\\document_classsification\\Sales_invoice\\salesbill7\"\n",
    "s9 = r\"D:\\Data Science(Ekeeda)\\Projects\\document_classsification\\Sales_invoice\\salesbill8\"\n",
    "s10 = r\"D:\\Data Science(Ekeeda)\\Projects\\document_classsification\\Sales_invoice\\salesbill9\"\n",
    "s11 = r\"D:\\Data Science(Ekeeda)\\Projects\\document_classsification\\Sales_invoice\\salesinvoice\"\n",
    "s12 = r\"D:\\Data Science(Ekeeda)\\Projects\\document_classsification\\Sales_invoice\\salesinvoice (1)\"\n",
    "\n",
    "\n",
    "S1 = Data_collector(s1,\"Sales\")\n",
    "S2 = Data_collector(s2,\"Sales\")\n",
    "S3 = Data_collector(s3,\"Sales\")\n",
    "S4 = Data_collector(s4,\"Sales\")\n",
    "S5 = Data_collector(s5,\"Sales\")\n",
    "S6 = Data_collector(s6,\"Sales\")\n",
    "S7 = Data_collector(s7,\"Sales\")\n",
    "S8 = Data_collector(s8,\"Sales\")\n",
    "S9 = Data_collector(s9,\"Sales\")\n",
    "S10 = Data_collector(s10,\"Sales\")\n",
    "S11 = Data_collector(s11,\"Sales\")\n",
    "S12 = Data_collector(s12,\"Sales\")"
   ]
  },
  {
   "cell_type": "code",
   "execution_count": null,
   "id": "fbd1d493",
   "metadata": {},
   "outputs": [],
   "source": [
    "data = [P1, S1, P2, S2, P3, S3,P4,S4,P5,S5,P6,S6,P7,S7,P8,S8,P9,S9,P10,S10,S11,S12]"
   ]
  },
  {
   "cell_type": "code",
   "execution_count": null,
   "id": "30446b00",
   "metadata": {},
   "outputs": [],
   "source": [
    "Invoice_data = pd.concat(data, ignore_index=True)"
   ]
  },
  {
   "cell_type": "code",
   "execution_count": 2,
   "id": "5aab8c40",
   "metadata": {},
   "outputs": [],
   "source": [
    "Invoice_data = pd.read_csv('Invoice_data.csv')"
   ]
  },
  {
   "cell_type": "code",
   "execution_count": 3,
   "id": "563c339f",
   "metadata": {
    "scrolled": true
   },
   "outputs": [
    {
     "data": {
      "text/html": [
       "<div>\n",
       "<style scoped>\n",
       "    .dataframe tbody tr th:only-of-type {\n",
       "        vertical-align: middle;\n",
       "    }\n",
       "\n",
       "    .dataframe tbody tr th {\n",
       "        vertical-align: top;\n",
       "    }\n",
       "\n",
       "    .dataframe thead th {\n",
       "        text-align: right;\n",
       "    }\n",
       "</style>\n",
       "<table border=\"1\" class=\"dataframe\">\n",
       "  <thead>\n",
       "    <tr style=\"text-align: right;\">\n",
       "      <th></th>\n",
       "      <th>Text</th>\n",
       "      <th>Label</th>\n",
       "    </tr>\n",
       "  </thead>\n",
       "  <tbody>\n",
       "    <tr>\n",
       "      <th>0</th>\n",
       "      <td>Tax Invoice\\n\\nPBR NETWORKING SOLUTION\\nPLOT N...</td>\n",
       "      <td>Purchase</td>\n",
       "    </tr>\n",
       "    <tr>\n",
       "      <th>1</th>\n",
       "      <td>Tax Invoice cum Delivery Challan\\n\\n(Original)...</td>\n",
       "      <td>Purchase</td>\n",
       "    </tr>\n",
       "    <tr>\n",
       "      <th>2</th>\n",
       "      <td>GST TAX INVOICE\\n\\nAadhar Electronics\\n\\n69/57...</td>\n",
       "      <td>Purchase</td>\n",
       "    </tr>\n",
       "    <tr>\n",
       "      <th>3</th>\n",
       "      <td>Print\\n\\nfed on 23-Jun-23 at 13:41\\n\\nDeclarat...</td>\n",
       "      <td>Purchase</td>\n",
       "    </tr>\n",
       "    <tr>\n",
       "      <th>4</th>\n",
       "      <td>Tax Invoice\\n\\nCompany's PAN : ANPPS7094C\\n\\nD...</td>\n",
       "      <td>Purchase</td>\n",
       "    </tr>\n",
       "    <tr>\n",
       "      <th>5</th>\n",
       "      <td>Page: 3 of 3\\n\\nRedington\\n\\nInvoice no: J1900...</td>\n",
       "      <td>Purchase</td>\n",
       "    </tr>\n",
       "  </tbody>\n",
       "</table>\n",
       "</div>"
      ],
      "text/plain": [
       "                                                Text     Label\n",
       "0  Tax Invoice\\n\\nPBR NETWORKING SOLUTION\\nPLOT N...  Purchase\n",
       "1  Tax Invoice cum Delivery Challan\\n\\n(Original)...  Purchase\n",
       "2  GST TAX INVOICE\\n\\nAadhar Electronics\\n\\n69/57...  Purchase\n",
       "3  Print\\n\\nfed on 23-Jun-23 at 13:41\\n\\nDeclarat...  Purchase\n",
       "4  Tax Invoice\\n\\nCompany's PAN : ANPPS7094C\\n\\nD...  Purchase\n",
       "5  Page: 3 of 3\\n\\nRedington\\n\\nInvoice no: J1900...  Purchase"
      ]
     },
     "execution_count": 3,
     "metadata": {},
     "output_type": "execute_result"
    }
   ],
   "source": [
    "Invoice_data.drop([\"Unnamed: 0\"],axis=1,inplace=True)\n",
    "\n",
    "Invoice_data.head(6)"
   ]
  },
  {
   "cell_type": "code",
   "execution_count": 4,
   "id": "1680b12b",
   "metadata": {},
   "outputs": [
    {
     "data": {
      "text/plain": [
       "(665, 2)"
      ]
     },
     "execution_count": 4,
     "metadata": {},
     "output_type": "execute_result"
    }
   ],
   "source": [
    "Invoice_data.shape"
   ]
  },
  {
   "cell_type": "code",
   "execution_count": 5,
   "id": "35b018fd",
   "metadata": {},
   "outputs": [],
   "source": [
    "# Invoice_data.to_csv('Invoice_data.csv')"
   ]
  },
  {
   "cell_type": "markdown",
   "id": "ea038fd6",
   "metadata": {},
   "source": [
    "# Create copy of the data"
   ]
  },
  {
   "cell_type": "code",
   "execution_count": 6,
   "id": "709c0763",
   "metadata": {},
   "outputs": [],
   "source": [
    "df = Invoice_data.copy()"
   ]
  },
  {
   "cell_type": "markdown",
   "id": "72cd401f",
   "metadata": {},
   "source": [
    "# Data Cleaning"
   ]
  },
  {
   "cell_type": "code",
   "execution_count": 7,
   "id": "c2ed702b",
   "metadata": {},
   "outputs": [
    {
     "data": {
      "text/plain": [
       "Text     0\n",
       "Label    0\n",
       "dtype: int64"
      ]
     },
     "execution_count": 7,
     "metadata": {},
     "output_type": "execute_result"
    }
   ],
   "source": [
    "df.isna().sum()"
   ]
  },
  {
   "cell_type": "code",
   "execution_count": 8,
   "id": "3761ca90",
   "metadata": {},
   "outputs": [
    {
     "data": {
      "text/plain": [
       "38"
      ]
     },
     "execution_count": 8,
     "metadata": {},
     "output_type": "execute_result"
    }
   ],
   "source": [
    "df.duplicated().sum()"
   ]
  },
  {
   "cell_type": "code",
   "execution_count": 9,
   "id": "71e8951f",
   "metadata": {},
   "outputs": [],
   "source": [
    "df = df.drop_duplicates(keep='first')"
   ]
  },
  {
   "cell_type": "code",
   "execution_count": 10,
   "id": "91af6670",
   "metadata": {},
   "outputs": [
    {
     "data": {
      "text/plain": [
       "0"
      ]
     },
     "execution_count": 10,
     "metadata": {},
     "output_type": "execute_result"
    }
   ],
   "source": [
    "df.duplicated().sum()"
   ]
  },
  {
   "cell_type": "code",
   "execution_count": 11,
   "id": "659cb1bf",
   "metadata": {},
   "outputs": [],
   "source": [
    "def remove_space(text):\n",
    "    return text.replace('\\n\\n', ' ').replace('\\n', ' ')"
   ]
  },
  {
   "cell_type": "code",
   "execution_count": 12,
   "id": "065f9dd0",
   "metadata": {},
   "outputs": [],
   "source": [
    "df['Text'] = df['Text'].apply(remove_space)"
   ]
  },
  {
   "cell_type": "markdown",
   "id": "a3de853d",
   "metadata": {},
   "source": [
    "# EDA"
   ]
  },
  {
   "cell_type": "code",
   "execution_count": 13,
   "id": "759bbed1",
   "metadata": {},
   "outputs": [
    {
     "data": {
      "text/plain": [
       "Sales       416\n",
       "Purchase    211\n",
       "Name: Label, dtype: int64"
      ]
     },
     "execution_count": 13,
     "metadata": {},
     "output_type": "execute_result"
    }
   ],
   "source": [
    "df['Label'].value_counts()"
   ]
  },
  {
   "cell_type": "code",
   "execution_count": 14,
   "id": "c4c5005a",
   "metadata": {},
   "outputs": [
    {
     "data": {
      "image/png": "[encoded data removed]",
      "text/plain": [
       "<Figure size 300x300 with 1 Axes>"
      ]
     },
     "metadata": {},
     "output_type": "display_data"
    }
   ],
   "source": [
    "plt.figure(figsize=(3,3))\n",
    "plt.pie(df['Label'].value_counts(),labels = ['Sales','Purchase'],autopct=\"%0.2f%%\",explode=[0,0.08],shadow=True)\n",
    "plt.show()"
   ]
  },
  {
   "cell_type": "markdown",
   "id": "aabac715",
   "metadata": {},
   "source": [
    "# Data preprocpreprocessing "
   ]
  },
  {
   "cell_type": "raw",
   "id": "a765a331",
   "metadata": {},
   "source": [
    "# remove some un-necessary words\n",
    "\n",
    "1)  Remove '\\n\\n' and '\\n'\n",
    "2)  Remove unnecessary information (\"Page numbers,\" \"IRN,\" etc)\n",
    "3)  Remove special characters\n",
    "4)  Remove numbers\n",
    "5)  lowercase\n",
    "6)  Tokenize the text and remove stopwords"
   ]
  },
  {
   "cell_type": "code",
   "execution_count": 15,
   "id": "3b09f30c",
   "metadata": {},
   "outputs": [],
   "source": [
    "nlp = spacy.load(\"en_core_web_sm\")"
   ]
  },
  {
   "cell_type": "code",
   "execution_count": 16,
   "id": "19c884db",
   "metadata": {},
   "outputs": [],
   "source": [
    "def Preprocessing_data(text):\n",
    "    text = text.replace('\\n\\n', ' ').replace('\\n', '')\n",
    "    \n",
    "    text = re.sub(r'Page: \\d+ of \\d+|e-Way Bill|IRN : [a-f0-9]+', '', text)\n",
    "    \n",
    "    sc_except_at = ''.join(c for c in string.punctuation if c != '@')\n",
    "    \n",
    "    text = text.translate(str.maketrans('', '', sc_except_at))\n",
    "    \n",
    "    text = re.sub(r'\\d+', '', text)\n",
    "    \n",
    "    text = text.lower()\n",
    "    \n",
    "    doc = nlp(text)\n",
    "    words = [token.text for token in doc]\n",
    "    \n",
    "    stop_words = spacy.lang.en.stop_words.STOP_WORDS\n",
    "    \n",
    "    filtered_text = [word for word in words if word not in stop_words]\n",
    "    \n",
    "    return \" \".join(filtered_text)"
   ]
  },
  {
   "cell_type": "code",
   "execution_count": 17,
   "id": "f014253f",
   "metadata": {},
   "outputs": [],
   "source": [
    "df['Cleaned_text'] = df['Text'].apply(Preprocessing_data)"
   ]
  },
  {
   "cell_type": "code",
   "execution_count": 18,
   "id": "e495a6ad",
   "metadata": {},
   "outputs": [
    {
     "data": {
      "text/html": [
       "<div>\n",
       "<style scoped>\n",
       "    .dataframe tbody tr th:only-of-type {\n",
       "        vertical-align: middle;\n",
       "    }\n",
       "\n",
       "    .dataframe tbody tr th {\n",
       "        vertical-align: top;\n",
       "    }\n",
       "\n",
       "    .dataframe thead th {\n",
       "        text-align: right;\n",
       "    }\n",
       "</style>\n",
       "<table border=\"1\" class=\"dataframe\">\n",
       "  <thead>\n",
       "    <tr style=\"text-align: right;\">\n",
       "      <th></th>\n",
       "      <th>Text</th>\n",
       "      <th>Label</th>\n",
       "      <th>Cleaned_text</th>\n",
       "    </tr>\n",
       "  </thead>\n",
       "  <tbody>\n",
       "    <tr>\n",
       "      <th>0</th>\n",
       "      <td>Tax Invoice PBR NETWORKING SOLUTION PLOT NO. 5...</td>\n",
       "      <td>Purchase</td>\n",
       "      <td>tax invoice pbr networking solution plot kanti...</td>\n",
       "    </tr>\n",
       "    <tr>\n",
       "      <th>1</th>\n",
       "      <td>Tax Invoice cum Delivery Challan (Original) . ...</td>\n",
       "      <td>Purchase</td>\n",
       "      <td>tax invoice cum delivery challan original    i...</td>\n",
       "    </tr>\n",
       "    <tr>\n",
       "      <th>2</th>\n",
       "      <td>GST TAX INVOICE Aadhar Electronics 69/57, V.T....</td>\n",
       "      <td>Purchase</td>\n",
       "      <td>gst tax invoice aadhar electronics   vt road m...</td>\n",
       "    </tr>\n",
       "    <tr>\n",
       "      <th>3</th>\n",
       "      <td>Print fed on 23-Jun-23 at 13:41 Declaration We...</td>\n",
       "      <td>Purchase</td>\n",
       "      <td>print fed jun   declaration declare invoice sh...</td>\n",
       "    </tr>\n",
       "    <tr>\n",
       "      <th>4</th>\n",
       "      <td>Tax Invoice Company's PAN : ANPPS7094C Declara...</td>\n",
       "      <td>Purchase</td>\n",
       "      <td>tax invoice companys pan   anppsc declaration ...</td>\n",
       "    </tr>\n",
       "  </tbody>\n",
       "</table>\n",
       "</div>"
      ],
      "text/plain": [
       "                                                Text     Label  \\\n",
       "0  Tax Invoice PBR NETWORKING SOLUTION PLOT NO. 5...  Purchase   \n",
       "1  Tax Invoice cum Delivery Challan (Original) . ...  Purchase   \n",
       "2  GST TAX INVOICE Aadhar Electronics 69/57, V.T....  Purchase   \n",
       "3  Print fed on 23-Jun-23 at 13:41 Declaration We...  Purchase   \n",
       "4  Tax Invoice Company's PAN : ANPPS7094C Declara...  Purchase   \n",
       "\n",
       "                                        Cleaned_text  \n",
       "0  tax invoice pbr networking solution plot kanti...  \n",
       "1  tax invoice cum delivery challan original    i...  \n",
       "2  gst tax invoice aadhar electronics   vt road m...  \n",
       "3  print fed jun   declaration declare invoice sh...  \n",
       "4  tax invoice companys pan   anppsc declaration ...  "
      ]
     },
     "execution_count": 18,
     "metadata": {},
     "output_type": "execute_result"
    }
   ],
   "source": [
    "df.head()"
   ]
  },
  {
   "cell_type": "code",
   "execution_count": 19,
   "id": "2fc70f45",
   "metadata": {},
   "outputs": [],
   "source": [
    "# df.to_csv('Clean_data.csv')"
   ]
  },
  {
   "cell_type": "code",
   "execution_count": null,
   "id": "b4fce212",
   "metadata": {},
   "outputs": [],
   "source": []
  },
  {
   "cell_type": "code",
   "execution_count": 20,
   "id": "06a81a21",
   "metadata": {},
   "outputs": [
    {
     "name": "stdout",
     "output_type": "stream",
     "text": [
      "241\n"
     ]
    }
   ],
   "source": [
    "len_words = []\n",
    "for i in df['Cleaned_text']:\n",
    "    len_words.append(len(i))\n",
    "    \n",
    "print(min(len_words))"
   ]
  },
  {
   "cell_type": "code",
   "execution_count": null,
   "id": "ac324e60",
   "metadata": {},
   "outputs": [],
   "source": []
  },
  {
   "cell_type": "code",
   "execution_count": 21,
   "id": "353f425b",
   "metadata": {},
   "outputs": [],
   "source": [
    "X = df[['Cleaned_text']]\n",
    "Y = df['Label']"
   ]
  },
  {
   "cell_type": "code",
   "execution_count": 22,
   "id": "7ce760da",
   "metadata": {},
   "outputs": [
    {
     "data": {
      "text/plain": [
       "pandas.core.frame.DataFrame"
      ]
     },
     "execution_count": 22,
     "metadata": {},
     "output_type": "execute_result"
    }
   ],
   "source": [
    "type(X)"
   ]
  },
  {
   "cell_type": "code",
   "execution_count": 23,
   "id": "cc010cf4",
   "metadata": {},
   "outputs": [],
   "source": [
    "df['Words'] = df['Cleaned_text'].apply(lambda text: word_tokenize(text))"
   ]
  },
  {
   "cell_type": "code",
   "execution_count": 47,
   "id": "05d29887",
   "metadata": {},
   "outputs": [],
   "source": [
    "a = df['Cleaned_text'].apply(lambda text: \"\".join([token.text for token in nlp(text)]))"
   ]
  },
  {
   "cell_type": "code",
   "execution_count": 48,
   "id": "e700b466",
   "metadata": {},
   "outputs": [
    {
     "data": {
      "text/plain": [
       "  sellershallresponsiblewrongmisrepresentationbuyerrespectcloudservicestotalcumulativeliabilitysellerbuyercustomerspartycircumstancesshallexceedparticularinvoicegivingriseclaimsellershallliabledirectindirectspecialconsequentialdamagesadvisedpossibilitiesearliersignedrameshnatarajandate   istlocationchennai                                                                                                                                                                                                                                                                                                                                                                                                                                                                                                                                                                                                                                                                                                                                                                                                                                                                                                                                                                                                                                                                                                                                                                                                                                                                                                                                                                                                                                                                                                                                                                                                                                                                                                                                                                                                                                                                                                                                                                                                                                                                                                                                                                                                                                                                                                                                                                                                                                                                                                                                                                                                                                                                                                                                                                                                                                                                                                                                                                                                                                                                                                                                                                                                                                                                                                                                                   59\n",
       "qredington  seamlesspartnershipsinvoicej  buyerundertakesusepatentstrademarkstradenamessellermanufacturerproductpriorwrittenconsentseller  noticedocumentsshalldeemedvalidlyservedbuyersentordinarypost  reputedcourierknownaddressbuyerplaceproductsdeliveredcontractregisteredemailaddressbuyer  disputearisingtermscontractpartiesshallresolvedarbitrationpartynotifydisputepartyenablingfindamicablesettlementdispute  daysnotificationeventamicablesettlementarrived  daysstatedsuprapartysshallreferdisputearbitrationmsredingtonindialtdshallimmediatelyappointsolearbitratormonthreferencedisputearbitrationbuyerexplicitlyagreeswaivesrightquestionappointmentarbitratorproceedingsshallconductedenglishlanguageaccordanceprovisionsarbitrationconciliationact  amendedfindingsolearbitratorshallfinalbindingpartiesvenuefixedsolearbitratorbindingpartiesseatarbitrationshallexclusivelychennaigoverninglawsshallindianlawspartiesexplicitlyagreelegalproceedingsconnectionarbitrationproceedingsshallsubjectjurisdictioncourtschennaisellershallrightinitiateappropriatecivil  criminalproceedingsincludingcomplaint  niactapplicable  acknowledgedconfirmedsellershallrighttransferassignrightsarisingterms  invoiceincludinglimitationrighttransferassignreceivablespartyhavingsecureconsentbuyer  buyershallensurecomplianceapplicablelocallawsrelatingbusinessstorageproductsincludinglimitedenvironmentalprotectionlawsewastelawsforeignlawsapplicableclassproductssoldpresentsbuyershallensurecomplianceapplicablemanufacturertermsrespectproductspurchasedbuyerbuyershallensurebuyerscustomers  enduserscomplyrequirementresponsibilitybuyerascertainrespectivemanufacturertermspurposecomplianceshallinformcustomers  endusersrequirementsellershalleventliableactignoranceapplicablelawbuyercustomers  buyershallensurebuyercustomerscomplyanticorruptionlawsincludinglimitedfcpaukbriberyactpreventioncorruptionactmanufacturercountryspecificlawsapplicable  buyershallcircumstancesusesellcausesellpartyproductsuseapplicationsleadingproductsdangeroushazardousnuclearmassdestructionandorunauthorizedapplicationsoutsideindiabuyershallcircumstancessellcausesellpartyproductscustomerspreventedreceivingproductsapplicablelawsincludinglimitedexportregulationsetcbuyershallensurebuyerscustomerskeptfullyinformedcompliancerequirementseffortsensurecustomersadherecompliancerequirements  sellershallresponsiblewrong  misrepresentationbuyerrespectproductstotalcumulativeliabilitysellerbuyerpartycircumstancesshallexceedpurchasepricereceivedsellerparticularproductgivingriseclaimsubjectreturnproductssellersellershallliableindirectspecialconsequentialdamagesadvisedpossibilitiesearlier  general  buyershallensurestrictcomplianceproductspecifictermsconditionspublishedsellerswebsiteredingtonoemvendorproductspecifictcfordealer  enduseramendedtimetimesellerbuyersign  sign  date   personsigningdocumentgotauthoritybindbuyersignbehalfbuyeracknowledgingreceiptgoodshereonbuyerirrevocablyagreesabidetermsconditionsinvoicetermsagreedbuyersuppliersignedrameshnatarajandate  dpbftpanaabcrp—cinltnplcwebwwwredingtongroupcomlocationchennairegdofficeredingtonhousecentrepointplotnospthiruvikaindustrialestateguindyauthorizedsignatorychennaitaminaduindia                                                                                                                                                                                                                                                                                                                                                             2\n",
       "  redingtoninvoicej  buyerundertakesusepatentstrademarkstradenamessellermanufacturerproductpriorwrittenconsentseller  noticedocumentsshalldeemedvalidlyservedbuyersentordinarypost  reputedcourierknownaddressbuyerplaceproductsdeliveredcontractregisteredemailaddressbuyer  disputearisingtermscontractpartiesshallresolvedarbitrationeitherofpartynotifydisputepartyenablingtofindamicablesettlementdispute  daysnotificationeventamicablesettlementarrived  daysstatedsuprapartysshallreferdisputearbitrationmsredingtonlimitedshallimmediatelyappointsolearbitratormonthreferencedisputearbitrationbuyerexplicitlyagreeswaivesrightquestionappointmentarbitratorproceedingsshallconductedenglishlanguageaccordanceprovisionsarbitrationconciliationact  amendedfindingsolearbitratorshallfinalbindingpartiesvenuefixedsolearbitratorbindingpartiesseatarbitrationshallexclusivelychennaigoverninglawsshallindianlawspartiesexplicitlyagreelegalproceedingsconnectionarbitrationproceedingsshallsubjectjurisdictioncourtschennaisellershallrightinitiateappropriatecivil  criminalproceedingsincludingcomplaint  niactapplicable  acknowledgedconfirmedsellershallrighttransferassignrightsarisingterms  invoiceincludinglimitationrighttransferassignreceivablespartyhavingsecureconsentbuyer  buyershallensurecomplianceapplicablelocallawsrelatingbusinessstorageproductsincludinglimitedtoenvironmentalprotectionlawsewastelawsforeignlawsapplicableclassproductssoldpresentsbuyershallensurecomplianceapplicablemanufacturertermsrespectproductspurchasedbuyerbuyershallensurebuyerscustomers  enduserscomplyrequirementresponsibilitybuyerascertainrespectivemanufacturertermspurposecomplianceshallinformcustomers  endusersrequirementsellershalleventliableactignoranceapplicablelawbuyercustomers  buyershallensurebuyercustomerscomplyanticorruptionlawsincludinglimitedfcpaukbriberyactpreventioncorruptionactmanufacturercountryspecificlawsapplicable  buyershallcircumstancesusesellcausesellpartyproductsuseapplicationsleadingproductsdangeroushazardousnuclearmassdestructionunauthorizedapplicationsoutsideindiabuyershallcircumstancessellcausesellpartyproductscustomerspreventedreceivingproductsapplicablelawsincludinglimitedexportregulationsetcbuyershallensurebuyerscustomerskeptfullyinformedcompliancerequirementseffortsensurecustomersadherecompliancerequirements  sellershallresponsiblewrong  misrepresentationbuyerrespectproductstotalcumulativeliabilitysellerbuyerpartycircumstancesshallexceedpurchasepricereceivedclaimsubjectreturnproductssellersellershallliableindirectspecialconsequentialdamagesadvisedpossibilitiesearlier  proformainvoicevalid  day  confirmationwaystampsignrequiredsentredingtonprocessingorder  partialdeliveryallowed  shipmentrelasedreceiptpaymentincaseadvancecashcdcorders  stockallocationsubjectcreditstockavailabilitytimeexecutionfinalorder  executionfinalordersubjectinternalapprovals  termsconditionsstatedproformainvoicesupersedestermsconditionsmentionedmode  general  buyershallensurestrictcomplianceproductspecifictermsconditionspublishedsellerswebsiteredingtonoemvendorproductspecifictcfordealer  enduseramendedtimetimepersonsigningdocumentgotauthoritybindbuyersignbehalfbuyeracknowledgingreceiptgoodshereonbuyerirrevocablyagreesabidetermsconditionsinvoicetermsagreedbuyersuppliersignedrameshnatarajandate  dy  istpanaabcrp—cinltnplcwebwwwredingtongroupcomlocationchennairegdofficeredingtonlimitedrsnosa    ghaauthorizedsignatoryblock   plathin  redingtontowercommercialinnerringroadsaraswathynagarwestthstreetpuzhudhivakkamchennai   tamilnadu     2\n",
       "qredington  seamlesspartnershipsinvoicef  buyerundertakesusepatentstrademarkstradenamessellermanufacturerproductpriorwrittenconsentseller  noticedocumentsshalldeemedvalidlyservedbuyersentordinarypost  reputedcourierknownaddressbuyerplaceproductsdeliveredcontractregisteredemailaddressbuyer  disputearisingtermscontractpartiesshallresolvedarbitrationpartynotifydisputepartyenablingfindamicablesettlementdispute  daysnotificationeventamicablesettlementarrived  daysstatedsuprapartysshallreferdisputearbitrationmsredingtonindialtdshallimmediatelyappointsolearbitratormonthreferencedisputearbitrationbuyerexplicitlyagreeswaivesrightquestionappointmentarbitratorproceedingsshallconductedenglishlanguageaccordanceprovisionsarbitrationconciliationact  amendedfindingsolearbitratorshallfinalbindingpartiesvenuefixedsolearbitratorbindingpartiesseatarbitrationshallexclusivelychennaigoverninglawsshallindianlawspartiesexplicitlyagreelegalproceedingsconnectionarbitrationproceedingsshallsubjectjurisdictioncourtschennaisellershallrightinitiateappropriatecivil  criminalproceedingsincludingcomplaint  niactapplicable  acknowledgedconfirmedsellershallrighttransferassignrightsarisingterms  invoiceincludinglimitationrighttransferassignreceivablespartyhavingsecureconsentbuyer  buyershallensurecomplianceapplicablelocallawsrelatingbusinessstorageproductsincludinglimitedenvironmentalprotectionlawsewastelawsforeignlawsapplicableclassproductssoldpresentsbuyershallensurecomplianceapplicablemanufacturertermsrespectproductspurchasedbuyerbuyershallensurebuyerscustomers  enduserscomplyrequirementresponsibilitybuyerascertainrespectivemanufacturertermspurposecomplianceshallinformcustomers  endusersrequirementsellershalleventliableactignoranceapplicablelawbuyercustomers  buyershallensurebuyercustomerscomplyanticorruptionlawsincludinglimitedfcpaukbriberyactpreventioncorruptionactmanufacturercountryspecificlawsapplicable  buyershallcircumstancesusesellcausesellpartyproductsuseapplicationsleadingproductsdangeroushazardousnuclearmassdestructionandorunauthorizedapplicationsoutsideindiabuyershallcircumstancessellcausesellpartyproductscustomerspreventedreceivingproductsapplicablelawsincludinglimitedexportregulationsetcbuyershallensurebuyerscustomerskeptfullyinformedcompliancerequirementseffortsensurecustomersadherecompliancerequirements  sellershallresponsiblewrong  misrepresentationbuyerrespectproductstotalcumulativeliabilitysellerbuyerpartycircumstancesshallexceedpurchasepricereceivedsellerparticularproductgivingriseclaimsubjectreturnproductssellersellershallliableindirectspecialconsequentialdamagesadvisedpossibilitiesearlier  general  buyershallensurestrictcomplianceproductspecifictermsconditionspublishedsellerswebsiteredingtonoemvendorproductspecifictcfordealer  enduseramendedtimetimesellerbuyersign  sign  date   personsigningdocumentgotauthoritybindbuyersignbehalfbuyeracknowledgingreceiptgoodshereonbuyerirrevocablyagreesabidetermsconditionsinvoicetermsagreedbuyersuppliersignedrameshnatarajandate  onpi  tpanaabcrp—cinltnplcwebwwwredingtongroupcomlocationchennairegdofficeredingtonhousecentrepointplotnospthiruvikaindustrialestateguindyauthorizedsignatorychennaitaminaduindia                                                                                                                                                                                                                                                                                                                                                           2\n",
       "qredington  seamlesspartnershipsinvoicej  buyerundertakesusepatentstrademarkstradenamessellermanufacturerproductpriorwrittenconsentseller  noticedocumentsshalldeemedvalidlyservedbuyersentordinarypost  reputedcourierknownaddressbuyerplaceproductsdeliveredcontractregisteredemailaddressbuyer  disputearisingtermscontractpartiesshallresolvedarbitrationpartynotifydisputepartyenablingfindamicablesettlementdispute  daysnotificationeventamicablesettlementarrived  daysstatedsuprapartysshallreferdisputearbitrationmsredingtonindialtdshallimmediatelyappointsolearbitratormonthreferencedisputearbitrationbuyerexplicitlyagreeswaivesrightquestionappointmentarbitratorproceedingsshallconductedenglishlanguageaccordanceprovisionsarbitrationconciliationact  amendedfindingsolearbitratorshallfinalbindingpartiesvenuefixedsolearbitratorbindingpartiesseatarbitrationshallexclusivelychennaigoverninglawsshallindianlawspartiesexplicitlyagreelegalproceedingsconnectionarbitrationproceedingsshallsubjectjurisdictioncourtschennaisellershallrightinitiateappropriatecivil  criminalproceedingsincludingcomplaint  niactapplicable  acknowledgedconfirmedsellershallrighttransferassignrightsarisingterms  invoiceincludinglimitationrighttransferassignreceivablespartyhavingsecureconsentbuyer  buyershallensurecomplianceapplicablelocallawsrelatingbusinessstorageproductsincludinglimitedenvironmentalprotectionlawsewastelawsforeignlawsapplicableclassproductssoldpresentsbuyershallensurecomplianceapplicablemanufacturertermsrespectproductspurchasedbuyerbuyershallensurebuyerscustomers  enduserscomplyrequirementresponsibilitybuyerascertainrespectivemanufacturertermspurposecomplianceshallinformcustomers  endusersrequirementsellershalleventliableactignoranceapplicablelawbuyercustomers  buyershallensurebuyercustomerscomplyanticorruptionlawsincludinglimitedfcpaukbriberyactpreventioncorruptionactmanufacturercountryspecificlawsapplicable  buyershallcircumstancesusesellcausesellpartyproductsuseapplicationsleadingproductsdangeroushazardousnuclearmassdestructionandorunauthorizedapplicationsoutsideindiabuyershallcircumstancessellcausesellpartyproductscustomerspreventedreceivingproductsapplicablelawsincludinglimitedexportregulationsetcbuyershallensurebuyerscustomerskeptfullyinformedcompliancerequirementseffortsensurecustomersadherecompliancerequirements  sellershallresponsiblewrong  misrepresentationbuyerrespectproductstotalcumulativeliabilitysellerbuyerpartycircumstancesshallexceedpurchasepricereceivedsellerparticularproductgivingriseclaimsubjectreturnproductssellersellershallliableindirectspecialconsequentialdamagesadvisedpossibilitiesearlier  general  buyershallensurestrictcomplianceproductspecifictermsconditionspublishedsellerswebsiteredingtonoemvendorproductspecifictcfordealer  enduseramendedtimetimesellerbuyersign  sign  date   personsigningdocumentgotauthoritybindbuyersignbehalfbuyeracknowledgingreceiptgoodshereonbuyerirrevocablyagreesabidetermsconditionsinvoicetermsagreedbuyersuppliersignedrameshnatarajandate  bspfstpanaabcrp—cinltnplcwebwwwredingtongroupcomlocationchennairegdofficeredingtonhousecentrepointplotnospthiruvikaindustrialestateguindyauthorizedsignatorychennaitaminaduindia                                                                                                                                                                                                                                                                                                                                                            2\n",
       "                                                                                                                                                                                                                                                                                                                                                                                                                                                                                                                                                                                                                                                                                                                                                                                                                                                                                                                                                                                                                                                                                                                                                                                                                                                                                                                                                                                                                                                                                                                                                                                                                                                                                                                                                                                                                                                                                                                                                                                                                                                                                                                                                                                                                                                                                                                                                                                                                                                                                                                                                                                                                                                                                                                                                                                                                                                                                                                                                                                                                                                                                                                                                                                                                                                                                                                                                                                                                                                                                                                                                                                                                                                                      ..\n",
       "invoiceitijpgcustomer  b  seswserialspcmkc  spcmkl  fkarwwserialsvyc  svycannexurecontainingserialnumberdescriptionquantitydttcneotgen  gb  pcsnoos  lenovobizmonitor  inchcm  pcsehheohdmi  lenovoinvoicedate  customer   bminfotradepvtltdhosavextechonologiespvtltd  makerchembersiiinarimanpointmumbai    website  httpwwwsavexorgemaildinfo@savexineecinumhptcpanaaacshpage                                                                                                                                                                                                                                                                                                                                                                                                                                                                                                                                                                                                                                                                                                                                                                                                                                                                                                                                                                                                                                                                                                                                                                                                                                                                                                                                                                                                                                                                                                                                                                                                                                                                                                                                                                                                                                                                                                                                                                                                                                                                                                                                                                                                                                                                                                                                                                                                                                                                                                                                                                                                                                                                                                                                                                                                                                                                                                                                                                                                                                                                                                                                                                                                                                                                                       1\n",
       "address  thfloorkhivrajcomplexnoannasalainandhanamchennaitamilnadushipped  ssmestatelimitedbuilding  gntroadmadhavaramchennaitamilnadutaxinvoicestate  tamilnadustatecode   triplicatesuppliergstinnumber  aaacshzfinvoice  itichoaldocrefdeliverytermselectronicmediashipviaelectronicmediaspecialinstructions  invoicedate  porefbdttransporterdocket  customerordercchoalpaymenttermsnet  daysewb  invoice  billaddressbminfotradepvtltdplacesupplydeliveryaddress  bminfotradepvtltdirnbasementvishnupuridaldafactoryroaddurgapurajaipurstatecode  basementvishnupuridaldafactoryedefdcacrajasthanstate  rajasthanroaddurgapurajaipurrajasthanaccabstatecode  rajasthan  statecode  rajasthan  dcffeeapanno  aaecbrlandmark  cdcbcbfemail  sales@bmtraderscomgstin  oaaecbrzzemail  sales@bmtraderscomcontact   contact  debitnote  product  servicedescription  ditfreightgstkeralafloodtesroduervicedescriptioniscounreigcc  srqtybasictaxableessinvoice  receivablehsn  saccode  pcsratevaluevaluegstrate  raterate   jenenctypeamtamtgstamtmount  fcffwarrantysupportfortigatef    yearunifiedthreatprotectionutp         fortinethsn  saccode   tscontractualservicessubtotal  totalweight   kqtotalqty  pcs      netpayablewords  inrlacninetyseventhousandzeropaisecashdiscountcdtotal   tradediscounttdtotal   ratediscountrdtotaltotalreceivable  declarationcertifiedparticularsgiventruecorrectgstpayablereversechargebasisndisposalwasteelectricalelectronicscontactkarosambhavprivatelimited    visitwebsitehttpwwwsavexingreeninitiativesphpewastecollectionpointdetailselectronicmodespaymentprescribedsectionsuincometaxact  operationalkindlycontactconcernedbranch’remittancedetailsbankbranch  mittalcourtnarimanpointbeneficiarysavextechnologiesprivatelimitedbankkotakmahindrabankaccountsvxchnifsccode  kkbkgoodsreceivedgoodconditionmrpstickersterms  conditionssalementionedoverleafsavextechnologiesprivatelimitedauthorizedsignatorypage                                                                                                                                                                                                                                                                                                                                                                                                                                                                                                                                                                                                                                                                                                                                                                                                                                                                                                                                                                                                                                                                                                                                                                                                                                                                                                                                                                                                                                                                                                                                                                                                                                                                                               1\n",
       "originalbuyercopylltaxinvoice  hy       ingrammicroindiaprivatelimitedregdofficefifthfloorempireplazabuildinglbsmargvikhroliwmumbai   maharashtraindiaph     ingrammicroindiaprivatelimitedwebsitewwwingrammicrocom  thfloorempireplazabuildingcinumhptcpanaabctr  lbsmargvikhroliwesthamumbaimaharashtra  eggststate   maharashtragstinaabctrznbminfotradepvtltdpare  bminfotradepvtltd  vishnupuri   vishnupurifeydaldafactoryroadfeydaldafactoryroadfdurgapuraiadurgapurajaipur      jaipur   fagststate   rajasthan  ‘feetobaaecbessrizzfagststate   rajasthanpanaaecbr  ‘gstinaaecbrzzdrmukulgupta  drmukulgupta  irnnumberacbabddfabdeddffbdfbecdcconsmmenrovenofeneninooefewarsuinojesalesordernumber    customernumberbminjp  termsdate  dayspdcmskunumberqty  qty  unitpricesubtotalfreighttaxablegstrateextendeddescriptioncoderatediscountvaluesdvgla  ea    igst   microsoft  businessstandardelic  ncecomyraixfebvendpartmicrosoft  businesac  typeserviceseuaskautomobilesprivatelimitedodd  sp  subtotal  totalcgsttotalsgsttotaligsttotalcesssubtotal  discountgrandtotal     rupeessevenninetythousandzeropaisanumberboxesshippednumberboxesreceiveddatereceiptreceiverssignature  sealingrammicroindiaprivateltdelectronicallygenerateddigitallysignedacceptancegoodsservicesinvoicemakingpaymentacknowledgmentinvoicetreatedacceptancedhritimanchakrabortyterms  conditionsprintedoverleafacceptancesalesterms  conditionsingrammicroavailablewwwimonlinecoindate  july  “ingrammicroindiaprivateltdcustomeragreecasedisputearisingconnectiontransactionshallreferredsoletime  istarbitratorappointedingrammicroindiaprivateliddecisionshallfinalbindingpartiesneedeclareinvoiceshowsactualpricegoodsdescribedparticularstruecorrect”authorisedsignatorye  oe                                                                                                                                                                                                                                                                                                                                                                                                                                                                                                                                                                                                                                                                                                                                                                                                                                                                                                                                                                                                                                                                                                                                                                                                                                                                                                                                                                                                                                                                                                                                                                                                                                                                                                                                                                                                                                                                                       1\n",
       "originalbuyercopy      ingrammicroindiaprivatelimitedregdofficefifthfloorempireplazabuildinglbsmargvikhroliwingrammicroindiaprivatelimitedmicrotaxinvoice  mumbai—  maharashtraindiaph     websitewwwingrammicrocomfesthfloorempireplazabuildingcinumhptcpanaabctr  lbsmargvikhroliwestmumbaimaharashtra  gststate   maharashtraebgstinaabctrznbminfotradepvtltdaleftbminfotradepvtltd  vishnupuriseé  vishnupurifeydaldafactoryroadfeydaldafactoryroadsldurgapurafydurgapurajaipur    fyjaipur    fagststate   rajasthanx  ragcstsate   rajasthan  falgststate   rajasthanpanaaecbsbrjgstinaaecbrzzdrmukulgupta  drmukulgupta  irnnumberafbfecbbfeaecbfadfbbcafbacbfcaaacfconsignmentnotepfcarrier  modepyewaybillnoesalesordernumber   customernumberbminjp  termsdate  dayspdcmskunumberqty  qty  unitpricesubtotalfreighttaxablegstrateextendeddescriptioncoderatediscountvaluesdvgla  ea    igst   microsoft  businessstandardelic  ncecomyraixfebvendpartmicrosoft  businesac  typeserviceseudigambercapfinlimitedodd  sp  subtotal  totalcgsttotalsgsttotaligsttotalcesssubtotal  discountgrandtotal     rupeesseventhousandpaisanumberboxesshippednumberboxesreceiveddatereceiptreceiverssignature  sealingrammicroindiaprivateltdelectronicallygenerateddigitallysigneddhritimanchakraborty“acceptancegoodsservicesinvoicemakingpaymentacknowledgmentinvoicetreatedacceptanceterms  conditionsprintedoverleafacceptancesalesterms  conditionsingrammicroavailablewwwimonlinecoin“ingrammicroindiaprivateltdcustomeragreecasedisputearisingconnectiontransactionshallreferredsolearbitratorappointedingrammicroindiaprivateltddecisionshallfinalbindingparties“declareinvoiceshowsactualpricegoodsdescribedparticularstruecorrectdate  july  time  istauthorisedsignatorye  oe                                                                                                                                                                                                                                                                                                                                                                                                                                                                                                                                                                                                                                                                                                                                                                                                                                                                                                                                                                                                                                                                                                                                                                                                                                                                                                                                                                                                                                                                                                                                                                                                                                                                                                                                                                                                                                                                                 1\n",
       "taxinvoiceeinvoice  dafdack   ackdate  julbminfotradeprivatelimitedinvoicedated  vishnupuridaldafactoryroadbmjuldurgapurajaipur  udyamrjdeliverynotemodetermspaymentgstinuinoaaecbrzz  daysstate  rajasthancode   cinurjptcoreference  datereferencescontact    ‘emailbeena@pbmtraderscommarinepolicy  httpsbminfotradecombuyersorderdatedconsigneeship  jultajfatehprakashpalacedispatchdocdeliverynotedatecitypalaceudaipur  gstinuin  oaaactgzdispatcheddestinationstate  rajasthancode    vesselflightplacereceiptshipperbuyerbilltajfatehprakashpalacecityportloadingcityportdischargecitypalaceudaipur  gstinuin  obaaactgztfdelistate  rajasthancode   ermsdeliveryplacesupply  rajasthansldescriptiongoodshsnsacgstquantityraterate  ribboncartridgeerc          printeccgstoutput  sgstoutput  total     chargeablewordseoerupeesthousandhsnsactaxablecgstsgstutgsttotalvaluerateratetax          total     taxwordsrupeescompanypan  aaecbrdeclaration  notesalesubjectwarrantytermslaidprincipalsresponsibilitykindomissionserrors  goodssoldtakenreplaced  disputedifferenceopinionarisinginvoiceshallcompanysbankdetailsresolvedarbitrationsolearbitratorshallbank  statebankindiaappointedbminfotradeprivatelimitedseatalc   arbitrationshalljaipurcertifiedparticulargivenbranch  ifscode  bajajnagar  sbincustomerssealsignaturedigitallysignedbeenaerinfotradeprivatelimiteddate    reasonverifiedauthorisedsignatorylocationsubjectjaipurjurisdictioncomputergeneratedinvoice                                                                                                                                                                                                                                                                                                                                                                                                                                                                                                                                                                                                                                                                                                                                                                                                                                                                                                                                                                                                                                                                                                                                                                                                                                                                                                                                                                                                                                                                                                                                                                                                                                                                                                                                                                                                                                                                                                                                                                                                                                                                                                                                                                        1\n",
       "Name: Cleaned_text, Length: 561, dtype: int64"
      ]
     },
     "execution_count": 48,
     "metadata": {},
     "output_type": "execute_result"
    }
   ],
   "source": [
    "a.value_counts()"
   ]
  },
  {
   "cell_type": "code",
   "execution_count": null,
   "id": "5bb86be4",
   "metadata": {},
   "outputs": [],
   "source": []
  },
  {
   "cell_type": "code",
   "execution_count": null,
   "id": "e7e2f8af",
   "metadata": {},
   "outputs": [],
   "source": [
    "cv = CountVectorizer(max_features=400)"
   ]
  },
  {
   "cell_type": "code",
   "execution_count": null,
   "id": "935323dc",
   "metadata": {},
   "outputs": [],
   "source": [
    "X = cv.fit_transform(X).toarray()"
   ]
  },
  {
   "cell_type": "code",
   "execution_count": null,
   "id": "283bc3da",
   "metadata": {},
   "outputs": [],
   "source": [
    "train_x,test_x,train_y,test_y = train_test_split(X,Y,random_state=121,stratify=Y,test_size=.1)"
   ]
  },
  {
   "cell_type": "code",
   "execution_count": null,
   "id": "e287d3a7",
   "metadata": {},
   "outputs": [],
   "source": []
  },
  {
   "cell_type": "code",
   "execution_count": null,
   "id": "02e5c7ad",
   "metadata": {},
   "outputs": [],
   "source": [
    "svm_classifier = SVC(kernel='linear', C=1.0, random_state=42,class_weight='balanced')\n",
    "svm_classifier.fit(train_x,train_y)"
   ]
  },
  {
   "cell_type": "code",
   "execution_count": null,
   "id": "78eeaa62",
   "metadata": {},
   "outputs": [],
   "source": [
    "pred = svm_classifier.predict(test_x)"
   ]
  },
  {
   "cell_type": "code",
   "execution_count": null,
   "id": "6cd307c3",
   "metadata": {},
   "outputs": [],
   "source": [
    "print(classification_report(test_y,pred))"
   ]
  },
  {
   "cell_type": "code",
   "execution_count": null,
   "id": "f7ae94df",
   "metadata": {},
   "outputs": [],
   "source": [
    "rf_classifier = RandomForestClassifier(n_estimators=100, random_state=42, class_weight='balanced')\n",
    "rf_classifier.fit(train_x, train_y)"
   ]
  },
  {
   "cell_type": "code",
   "execution_count": null,
   "id": "7af23d46",
   "metadata": {},
   "outputs": [],
   "source": [
    "rf_pred = rf_classifier.predict(test_x)"
   ]
  },
  {
   "cell_type": "code",
   "execution_count": null,
   "id": "7317ab58",
   "metadata": {},
   "outputs": [],
   "source": [
    "print(classification_report(test_y,rf_pred))"
   ]
  },
  {
   "cell_type": "code",
   "execution_count": null,
   "id": "a0cf20ee",
   "metadata": {},
   "outputs": [],
   "source": [
    "from sklearn.pipeline import Pipeline"
   ]
  },
  {
   "cell_type": "code",
   "execution_count": null,
   "id": "d5acf312",
   "metadata": {},
   "outputs": [],
   "source": [
    "RF_pipeline = Pipeline([\n",
    "    ('Step_1', CountVectorizer(max_features=1000)),  # You can adjust the max_features as needed\n",
    "    ('Step_2', RandomForestClassifier(n_estimators=100, random_state=42, class_weight='balanced'))\n",
    "])"
   ]
  },
  {
   "cell_type": "code",
   "execution_count": null,
   "id": "ca0425cb",
   "metadata": {},
   "outputs": [],
   "source": [
    "RF_pipeline.fit(train_x,train_y)"
   ]
  },
  {
   "cell_type": "code",
   "execution_count": null,
   "id": "0ff32d60",
   "metadata": {},
   "outputs": [],
   "source": [
    "print(classification_report(test_y,RF_pipeline.predict(test_x)))"
   ]
  },
  {
   "cell_type": "code",
   "execution_count": null,
   "id": "e7b0f2eb",
   "metadata": {},
   "outputs": [],
   "source": []
  }
 ],
 "metadata": {
  "kernelspec": {
   "display_name": "Python 3 (ipykernel)",
   "language": "python",
   "name": "python3"
  },
  "language_info": {
   "codemirror_mode": {
    "name": "ipython",
    "version": 3
   },
   "file_extension": ".py",
   "mimetype": "text/x-python",
   "name": "python",
   "nbconvert_exporter": "python",
   "pygments_lexer": "ipython3",
   "version": "3.11.4"
  }
 },
 "nbformat": 4,
 "nbformat_minor": 5
}
