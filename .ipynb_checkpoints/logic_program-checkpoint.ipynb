{
 "cells": [
  {
   "cell_type": "code",
   "execution_count": 1,
   "id": "39a277a9",
   "metadata": {},
   "outputs": [],
   "source": [
    "import pandas as pd"
   ]
  },
  {
   "cell_type": "code",
   "execution_count": 2,
   "id": "117a9d02",
   "metadata": {},
   "outputs": [],
   "source": [
    "# invoice_data = pd.read_csv(\"Invoce_Data.csv\")\n",
    "# invoice_data.drop(['Unnamed: 0'],axis=1,inplace=True)\n",
    "# invoice_data.columns"
   ]
  },
  {
   "cell_type": "code",
   "execution_count": 3,
   "id": "d6be02d7",
   "metadata": {},
   "outputs": [],
   "source": [
    "# Are purchase/sales invoice same type ? if not then are there define number of format.\n",
    "\n",
    "# Docs B M Infotrade always provide same sales invoce format"
   ]
  },
  {
   "cell_type": "code",
   "execution_count": 4,
   "id": "6a0a6955",
   "metadata": {},
   "outputs": [],
   "source": [
    "text = \"Consignee (Ship to)B.M. Infotrade (P) Ltd (Jaipur)53-A Vishnupui Dalda Factory RoadDurgapura, Jaipur 0141-2545583/9829189200302018GSTIN/UIN : 08AAECB8518R1ZZState Name : Rajasthan, Code : 08\"\n",
    "\n",
    "condition_1 = text.find(\"B M Info\")\n",
    "\n",
    "condition_2 = text.find(\"B.M. Info\")\n",
    "\n",
    "condition_3 = text.find(\"B. M. Info\")\n"
   ]
  },
  {
   "cell_type": "code",
   "execution_count": null,
   "id": "bcae8522",
   "metadata": {},
   "outputs": [],
   "source": [
    "if condition_1 != -1:\n",
    "    index_text = condition_1\n",
    "elif condition_2 != -1:\n",
    "    index_text = condition_2\n",
    "elif condition_3 != -1:\n",
    "    index_text = condition_3\n",
    "else:\n",
    "    index_text = -1\n",
    "     "
   ]
  },
  {
   "cell_type": "code",
   "execution_count": null,
   "id": "ba30d04d",
   "metadata": {},
   "outputs": [],
   "source": [
    "print(index_text)"
   ]
  },
  {
   "cell_type": "code",
   "execution_count": null,
   "id": "e45ffbf9",
   "metadata": {},
   "outputs": [],
   "source": [
    "temp = text[index_text - 19: index_text]\n",
    "\n",
    "print(temp)"
   ]
  },
  {
   "cell_type": "code",
   "execution_count": null,
   "id": "15cb9221",
   "metadata": {},
   "outputs": [],
   "source": [
    "if \"Consignee\" in temp:\n",
    "    print(\"purchase\")\n",
    "else:\n",
    "    print(\"sales\")"
   ]
  },
  {
   "cell_type": "code",
   "execution_count": null,
   "id": "1d83de22",
   "metadata": {},
   "outputs": [],
   "source": [
    "invoice_data[invoice_data['Label']==1].shape"
   ]
  },
  {
   "cell_type": "code",
   "execution_count": null,
   "id": "c950a632",
   "metadata": {},
   "outputs": [],
   "source": [
    "invoice_data[invoice_data['Label']==0].shape"
   ]
  },
  {
   "cell_type": "code",
   "execution_count": 5,
   "id": "6a9d1ad1",
   "metadata": {},
   "outputs": [],
   "source": [
    "def invoice_predicter(invoice_data):\n",
    "\n",
    "    temp_list = []\n",
    "\n",
    "    for text in invoice_data['Text']:\n",
    "        condition_1 = text.find('B M Infotrade Private Limited')\n",
    "    #     print(condition_1)\n",
    "        temp = text[condition_1 - 35: condition_1]\n",
    "        temp_2 = text[condition_1 - 12: condition_1]\n",
    "        print(temp)\n",
    "    #     print(temp_2)\n",
    "        if \"Ack Date\" in temp or \"Tax Invoice\" in temp_2:\n",
    "            print(\"Sales\")\n",
    "            temp_list.append('Sales')\n",
    "        else:\n",
    "            print(\"Purchase\")\n",
    "            temp_list.append('purchase')\n",
    "    #         print(condition_1)\n",
    "    #         print(text)\n",
    "\n",
    "\n",
    "#         print(\"=\"*100)\n",
    "    return temp_list"
   ]
  },
  {
   "cell_type": "code",
   "execution_count": null,
   "id": "9af02477",
   "metadata": {},
   "outputs": [],
   "source": [
    "invoice_data"
   ]
  },
  {
   "cell_type": "code",
   "execution_count": 3,
   "id": "ecf2f062",
   "metadata": {},
   "outputs": [],
   "source": [
    "def invoice_predicter(text):\n",
    "    \n",
    "    condition_1 = text.find('B M Infotrade Private Limited')\n",
    "    temp = text[condition_1 - 35: condition_1]\n",
    "    temp_2 = text[condition_1 - 12: condition_1]\n",
    "    if \"Ack Date\" in temp or \"Tax Invoice\" in temp_2:\n",
    "        return 'Sales'\n",
    "    else:\n",
    "        return 'Purchase'\n"
   ]
  },
  {
   "cell_type": "code",
   "execution_count": null,
   "id": "7c8d287d",
   "metadata": {},
   "outputs": [],
   "source": [
    "invoice_data['Text'].apply(invoice_predicter)"
   ]
  },
  {
   "cell_type": "code",
   "execution_count": null,
   "id": "9337bdb8",
   "metadata": {},
   "outputs": [],
   "source": [
    "invoice_data[\"Pridected_label\"] = temp_list"
   ]
  },
  {
   "cell_type": "code",
   "execution_count": null,
   "id": "1a3f4179",
   "metadata": {},
   "outputs": [],
   "source": [
    "invoice_data"
   ]
  },
  {
   "cell_type": "code",
   "execution_count": null,
   "id": "98d97dd1",
   "metadata": {},
   "outputs": [],
   "source": []
  },
  {
   "cell_type": "code",
   "execution_count": 6,
   "id": "e6e5ac08",
   "metadata": {},
   "outputs": [],
   "source": [
    "import pytesseract\n",
    "from PIL import Image\n",
    "import cv2\n",
    "import numpy as np\n",
    "from pdf2image import convert_from_path\n",
    "import os\n",
    "\n",
    "import re\n",
    "\n",
    "poppler_path = r\"D:\\programing software\\Release-23.07.0-0\\poppler-23.07.0\\Library\\bin\"\n",
    "\n",
    "pdf_path = r\"D:\\Data Science(Ekeeda)\\Projects\\document_classsification\\Purchase_invoice\\purchasebill (1)\\C240176401.pdf\"\n",
    "\n",
    "image_array = convert_from_path(pdf_path, poppler_path=poppler_path)\n",
    "\n"
   ]
  },
  {
   "cell_type": "code",
   "execution_count": 7,
   "id": "78de0e04",
   "metadata": {},
   "outputs": [],
   "source": [
    "tesseract_path = r\"C:\\Users\\Rahul\\AppData\\Local\\Programs\\Tesseract-OCR\\tesseract.exe\""
   ]
  },
  {
   "cell_type": "code",
   "execution_count": 4,
   "id": "5e9f1a50",
   "metadata": {},
   "outputs": [],
   "source": [
    "import pytesseract\n",
    "\n",
    "# Set the path to the Tesseract executable (replace 'tesseract_path' with your actual path)\n",
    "pytesseract.pytesseract.tesseract_cmd = tesseract_path\n"
   ]
  },
  {
   "cell_type": "code",
   "execution_count": null,
   "id": "ae75cb67",
   "metadata": {},
   "outputs": [],
   "source": []
  },
  {
   "cell_type": "code",
   "execution_count": 8,
   "id": "ba2d806a",
   "metadata": {},
   "outputs": [],
   "source": [
    "def pdf_to_text(pdf_path):\n",
    "    poppler_path = r\"D:\\programing software\\Release-23.07.0-0\\poppler-23.07.0\\Library\\bin\"\n",
    "    \n",
    "    images = convert_from_path(pdf_path, poppler_path=poppler_path)\n",
    "    \n",
    "    extracted_text = \"\"\n",
    "    \n",
    "    for page_num, pdf_image in enumerate(images, start=1):\n",
    "        page_text = pytesseract.image_to_string(pdf_image)\n",
    "        extracted_text += f\"Page {page_num}:\\n{page_text}\"\n",
    "    \n",
    "    return extracted_text"
   ]
  },
  {
   "cell_type": "code",
   "execution_count": 6,
   "id": "bb2538a9",
   "metadata": {},
   "outputs": [],
   "source": [
    "pdf_path = r\"D:\\Data Science(Ekeeda)\\Projects\\document_classsification\\invoice_data\\Invoice_10.PDF\"\n",
    "text = pdf_to_text(pdf_path)"
   ]
  },
  {
   "cell_type": "code",
   "execution_count": 7,
   "id": "368214c9",
   "metadata": {},
   "outputs": [
    {
     "name": "stdout",
     "output_type": "stream",
     "text": [
      "Page 1:\n",
      "Tax Invoice cum Delivery Challan\n",
      "\n",
      "Invoice No.: $0800039591 Date: 07\n",
      "RP tech India Reference No.1500093262 Delivery\n",
      "\n",
      "(A Division of Rashi Peripherals Pvt Ltd)\n",
      "Regd Office : Ariisto House, 5th Floor, Telli Galli, Andheri (E),\n",
      "\n",
      "RP tech\n",
      "\n",
      ".12.2021\n",
      "No.: 85384700\n",
      "\n",
      "IRN:b6aeac7 8c34aec0602db7f8b1 aa1 b6 8ea4c99ffa39373f0e3 1 88ca88C45d6641\n",
      "\n",
      "Terms of Payment: 45th Day Payment with PDC\n",
      "Bank: STATE BANK OF INDIA\n",
      "\n",
      "Due Date: 21.01.2022\n",
      "Cheque Number: .\n",
      "\n",
      "Date:\n",
      "\n",
      "Mumbai-400069, INDIA - CIN: U30007MH1989PTC051039 Shipping Terms: CHARGED PO No: PAYMENT IN FAVOUR OF RASHI PERIPHERALS PVT LTD ONLY.\n",
      "Doc No: Carrier Name: We accept payment through electronic mode including the Modes\n",
      "specified under Rules 119AA of the income Tax Rules, 1962.Our\n",
      "SUPPLIED FROM: BILL TO (Place of Supply) : SHIP TO: bank account details for e-payment are as under:\n",
      "RP tech India BM30A17015 M. INFOTRADE PVT LTD\n",
      "- B-19, Sudarshanpura Industrial Area, M. INFOTRADE PVT LTD 53-A Bank Name Account No. IFSC Code\n",
      "Baise Godown, 53-A VISHNUPURI DALDA FACTORY RD DURGAPURA, Virtual A/C No RASHIPBM30A17015 = HDFC0000060\n",
      "Jaipur - 302006 - Rajasthan VISHNUPURI DALDA FACTORY RD DURGAPURA, | JAIPUR - 302018 - Rajasthan HDFC Bank Ltd 00600120000162 HDFC0000060\n",
      "No. : 0141-2219081/2219090. JAIPUR - 302018 - Rajasthan Tel. No. : 0141-2545583. Std Chartered Bank 22205330955 SCBLO036046\n",
      "GSTIN/PAN : 08AAACR2162H1ZK / AAACR2162H | Tel. No. : 0141-2545583. GSTIN/PAN : 08AAECB8518R1ZZ / AAECB8518R Axis Bank Ltd 919030097192477 UTIB9001394\n",
      "GSTIN/PAN : O8AAECB8518R1ZZ / AAECB8518R Indusind Bank Ltd 650014034038 INDB0000005\n",
      "Product Code Product Description HSN / SAC Pkg Qty Unit Total Value Discount | Freight Taxable Value Taxes\n",
      "Type Rate Tax Amt.\n",
      "9TN41A6#ACJ HP/CONSUMER MONITORS/ V19 18.5 VGA 85285200 1 7,100.00 7,100.00 7,100.00 |CGST |] 9.00 639.00\n",
      "MONITOR SGST | 9.00 639.00\n",
      "3€Q1400N40,\n",
      "55G74PA#ACJ HP/DESKTOP/ CI3 10100 4GB 1TB 84715000 1 25,400.00 25,400.00 25,400.00 |CGST | 9.00 2,286.00\n",
      "\\VGA/HDMI DOS 400G7 SGST | 9.00 2,286.00\n",
      "1N113901WH,\n",
      "Total 2 32,500.00 32,500.00 5,850.00\n",
      "Total Before TCS 38,350.00\n",
      "TCS 38.00\n",
      "Total Invoice Value RUPEES THIRTY-EIGHT THOUSAND THREE HUNDRED EIGHTY-EIGHT ONLY 38,388.00\n",
      "\n",
      "Received in good condition with MRP sticker (Name/Signature/Date/Seal)\n",
      "\n",
      "Terms of Payment : (1) Interest @ 2% p.m.+ GST will be payable on payment beyond due date. Penalty for cheque bounce will be\n",
      "Rs1000+ GST & Penal interest will also be payable on bounced cheque amount from due date to the date of realization. (2) In case of non\n",
      "payment of invoice by buyer, RP tech India shall exercise the rights of Unpaid Seller w.r.t lien of goods.\n",
      "\n",
      "Warranty : Carry in warranty against manufacturing defects only. Products under warranty will be either repaired or replaced at sole discretion\n",
      "of RP tech India and according to the standard warranty policy of the Manufacturer. Customers are required to approach the ASPs for those\n",
      "products for which manufacturers are Supporting Directly. More details on the warranty can be viewed at our website. www.rptechindia.com\n",
      "RP tech India reserves the right to reject any material received for warranty without manufacturer's original packing. Goods sold will be\n",
      "accepted for warranty repair/replacement only if they are in good physical condition. Products received with broken/burnt pins, pen/pencil\n",
      "markings, cracks, missing/tampered components or tampered warranty stickers will be rejected and considered warranty void. Goods once sold\n",
      "cannot be returned without a valid RMA(Returned Materials Authorization) issued by RP tech India\n",
      "\n",
      "For E-waste Disposal Toll-free Number : 1800-212-1520 Website :http://www.rptechindia.com/Ewaste-final.aspx\n",
      "\n",
      "For Rashi Peripherals Pvt. Ltd.\n",
      "\n",
      "Authorised Signatory\n",
      "\n",
      "E & O. E This is computer generated invoice & does not require any signature Subject to Mumbai Jurisdiction\n",
      "\n",
      "Page\n",
      "\n",
      "1 of 1\n",
      "\n",
      "\n"
     ]
    }
   ],
   "source": [
    "print(text)"
   ]
  },
  {
   "cell_type": "code",
   "execution_count": 98,
   "id": "8e316f12",
   "metadata": {},
   "outputs": [],
   "source": [
    "buyer_pattern = r\"[a-zA-Z]* [a-zA-Z]* [a-zA-Z]* LIMITED|[a-zA-Z]* BANK|[a-zA-Z]* [a-zA-Z]* Exports|[a-zA-Z]* Solutions|[a-zA-Z]* [a-zA-Z]* [a-zA-Z]*\\. LTD|[a-zA-Z]*.[a-zA-Z]*. [a-zA-Z]* \\([a-zA-Z]\\) Ltd|[a-zA-Z]* [a-zA-Z]* [a-zA-Z]* [a-zA-Z]* LIMITED|[A-Z]*.[A-Z]*. [A-Z]* [A-Z]* LTD|[A-Z]* [A-Z]* [A-Z]* [A-Z]* Ltd|[a-zA-z]*.[a-zA-z]*.[a-zA-z]*. [a-zA-z]*. Ltd\""
   ]
  },
  {
   "cell_type": "code",
   "execution_count": 99,
   "id": "97544c2c",
   "metadata": {},
   "outputs": [
    {
     "data": {
      "text/plain": [
       "['of Rashi Peripherals Pvt Ltd',\n",
       " 'STATE BANK',\n",
       " 'OF RASHI PERIPHERALS PVT LTD',\n",
       " ' M. INFOTRADE PVT LTD',\n",
       " ' M. INFOTRADE PVT LTD',\n",
       " ' Rajasthan HDFC Bank Ltd',\n",
       " '8R Axis Bank Ltd',\n",
       " '8R Indusind Bank Ltd',\n",
       " 'For Rashi Peripherals Pvt. Ltd']"
      ]
     },
     "execution_count": 99,
     "metadata": {},
     "output_type": "execute_result"
    }
   ],
   "source": [
    "re.findall(buyer_pattern,text)"
   ]
  },
  {
   "cell_type": "code",
   "execution_count": null,
   "id": "f3fba9f7",
   "metadata": {},
   "outputs": [],
   "source": []
  },
  {
   "cell_type": "code",
   "execution_count": 40,
   "id": "339a1688",
   "metadata": {},
   "outputs": [],
   "source": [
    "# invoice_predicter(text)"
   ]
  },
  {
   "cell_type": "markdown",
   "id": "a16e6399",
   "metadata": {},
   "source": [
    "# data which we want to collect"
   ]
  },
  {
   "cell_type": "raw",
   "id": "2035d97c",
   "metadata": {},
   "source": [
    "saler name \n",
    "buyer name\n",
    "items\n",
    "adress\n",
    "mail\n",
    "gstid\n"
   ]
  },
  {
   "cell_type": "markdown",
   "id": "2e25e567",
   "metadata": {},
   "source": [
    "### Sales invoice data collecting"
   ]
  },
  {
   "cell_type": "code",
   "execution_count": 41,
   "id": "f11059c3",
   "metadata": {},
   "outputs": [],
   "source": [
    "b = text[text.find('Consignee (Ship to)'):text.find('Consignee (Ship to)')+80]"
   ]
  },
  {
   "cell_type": "code",
   "execution_count": 42,
   "id": "13c5b1ff",
   "metadata": {},
   "outputs": [],
   "source": [
    "from nltk.tokenize import word_tokenize,sent_tokenize"
   ]
  },
  {
   "cell_type": "markdown",
   "id": "49e7a658",
   "metadata": {},
   "source": [
    "### buyer name"
   ]
  },
  {
   "cell_type": "code",
   "execution_count": 43,
   "id": "52d484d0",
   "metadata": {},
   "outputs": [],
   "source": [
    "c = word_tokenize(b)"
   ]
  },
  {
   "cell_type": "code",
   "execution_count": 44,
   "id": "e0676f0a",
   "metadata": {},
   "outputs": [
    {
     "data": {
      "text/plain": [
       "13"
      ]
     },
     "execution_count": 44,
     "metadata": {},
     "output_type": "execute_result"
    }
   ],
   "source": [
    "len(c)"
   ]
  },
  {
   "cell_type": "code",
   "execution_count": 45,
   "id": "aaa0c7f6",
   "metadata": {},
   "outputs": [
    {
     "data": {
      "text/plain": [
       "['Consignee',\n",
       " '(',\n",
       " 'Ship',\n",
       " 'to',\n",
       " ')',\n",
       " 'SHS22P0S001682',\n",
       " '22-Mar-23',\n",
       " 'CASABLANCA',\n",
       " 'INDUSTRIES',\n",
       " 'PVT',\n",
       " '.',\n",
       " 'LTD.',\n",
       " 'Dis']"
      ]
     },
     "execution_count": 45,
     "metadata": {},
     "output_type": "execute_result"
    }
   ],
   "source": [
    "c"
   ]
  },
  {
   "cell_type": "code",
   "execution_count": 46,
   "id": "796a433e",
   "metadata": {},
   "outputs": [
    {
     "name": "stdout",
     "output_type": "stream",
     "text": [
      "SHS22P0S00168222-Mar-23CASABLANCAINDUSTRIES\n"
     ]
    }
   ],
   "source": [
    "t = \"\"\n",
    "for i in c[5:9]:\n",
    "    t +=i\n",
    "print(t)"
   ]
  },
  {
   "cell_type": "code",
   "execution_count": null,
   "id": "d1fc20bf",
   "metadata": {},
   "outputs": [],
   "source": []
  },
  {
   "cell_type": "markdown",
   "id": "b8270345",
   "metadata": {},
   "source": [
    "### Saler name"
   ]
  },
  {
   "cell_type": "code",
   "execution_count": null,
   "id": "3586ed65",
   "metadata": {},
   "outputs": [],
   "source": [
    "print(text[text.find('Limited')-22:text.find('Limited')+8])"
   ]
  },
  {
   "cell_type": "markdown",
   "id": "5eb7774d",
   "metadata": {},
   "source": [
    "### Items"
   ]
  },
  {
   "cell_type": "code",
   "execution_count": null,
   "id": "36f03262",
   "metadata": {},
   "outputs": [],
   "source": [
    "i = text[text.find(\"Description\"):]"
   ]
  },
  {
   "cell_type": "code",
   "execution_count": null,
   "id": "81dfee41",
   "metadata": {},
   "outputs": [],
   "source": [
    "d = text[text.find('Description'):text.find('Description')+1000]"
   ]
  },
  {
   "cell_type": "code",
   "execution_count": null,
   "id": "70930054",
   "metadata": {},
   "outputs": [],
   "source": [
    "# print(d)"
   ]
  },
  {
   "cell_type": "code",
   "execution_count": null,
   "id": "c49d2225",
   "metadata": {},
   "outputs": [],
   "source": [
    "pattern_1 = r'\\d \\|.*'\n",
    "\n",
    "pattern_2 = r'\\d \\).*'\n",
    "\n",
    "pattern_3 = r'\\bTotal\\b .*'\n",
    "\n",
    "item = \"\"\n",
    "\n",
    "matches_1 = re.findall(pattern_1, text)\n",
    "matches_2 = re.findall(pattern_2, text)\n",
    "matches_3 = re.findall(pattern_3, text)\n",
    "\n",
    "\n",
    "print(matches_1)\n",
    "print(matches_2)\n",
    "print(matches_3)"
   ]
  },
  {
   "cell_type": "code",
   "execution_count": null,
   "id": "32189eb5",
   "metadata": {},
   "outputs": [],
   "source": [
    "for data in matches_1:\n",
    "    item += data\n",
    "for j in matches_2:\n",
    "    item += j"
   ]
  },
  {
   "cell_type": "code",
   "execution_count": null,
   "id": "fe7e883b",
   "metadata": {},
   "outputs": [],
   "source": [
    "print(item)"
   ]
  },
  {
   "cell_type": "code",
   "execution_count": null,
   "id": "8d5dbee1",
   "metadata": {},
   "outputs": [],
   "source": [
    "for i in matches_3:\n",
    "    amount = i.split(' = ')\n",
    "    print(amount[1])\n",
    "    break"
   ]
  },
  {
   "cell_type": "code",
   "execution_count": null,
   "id": "2264bf3d",
   "metadata": {},
   "outputs": [],
   "source": [
    "def Sales_data_collecting(text):\n",
    "\n",
    "    # buyer name \n",
    "\n",
    "    b = text[text.find('Consignee (Ship to)'):text.find('Consignee (Ship to)')+80]\n",
    "    c = word_tokenize(b)\n",
    "    buyer = \"\"\n",
    "    for i in c[5:9]:\n",
    "        buyer +=i\n",
    "    \n",
    "    # saler name \n",
    "\n",
    "    saler = text[text.find('Limited')-22:text.find('Limited')+8]\n",
    "\n",
    "    # Items \n",
    "\n",
    "    pattern_1 = r'\\d \\|.*'\n",
    "\n",
    "    pattern_2 = r'\\d \\).*'\n",
    "\n",
    "    pattern_3 = r'\\bTotal\\b .*'\n",
    "\n",
    "    matches_1 = re.findall(pattern_1, text)\n",
    "    matches_2 = re.findall(pattern_2, text)\n",
    "    matches_3 = re.findall(pattern_3, text)\n",
    "\n",
    "    def Item(matches_1,matches_2):\n",
    "        item = \"\"\n",
    "        for data_1 in matches_1:\n",
    "            item += data_1\n",
    "        \n",
    "        for data_2 in matches_2:\n",
    "            item += data_2\n",
    "\n",
    "        return item\n",
    "    \n",
    "    def amount(matches_3):\n",
    "        Total_amount = []\n",
    "        for i in matches_3:\n",
    "            a = i.split(' = ')\n",
    "            Total_amount.append(a[1])\n",
    "            break\n",
    "        return Total_amount\n",
    "    \n",
    "    item = Item(matches_1,matches_2)\n",
    "    Total_amount = amount(matches_3)\n",
    "    \n",
    "    return buyer,saler,item,Total_amount\n"
   ]
  },
  {
   "cell_type": "code",
   "execution_count": null,
   "id": "56e73260",
   "metadata": {},
   "outputs": [],
   "source": [
    "def Data_collector(folder_path):\n",
    "    salers_name = []\n",
    "    buyers_name = []\n",
    "    items = []\n",
    "    total_amount = []\n",
    "    \n",
    "    poppler_path = r\"D:\\programing software\\Release-23.07.0-0\\poppler-23.07.0\\Library\\bin\"\n",
    "    \n",
    "    for pdf_number, filename in enumerate(os.listdir(folder_path), start=1):\n",
    "        pdf_path = os.path.join(folder_path, filename)\n",
    "        \n",
    "        if filename.endswith('.pdf') or filename.endswith('.PDF'):\n",
    "            img = convert_from_path(pdf_path, poppler_path=poppler_path)  \n",
    "            \n",
    "            text = \"\"\n",
    "            for page_num, image in enumerate(img):\n",
    "                opencv_image = cv2.cvtColor(np.array(image), cv2.COLOR_RGB2BGR)\n",
    "                text_ = pytesseract.image_to_string(opencv_image, lang='eng')\n",
    "                text += text_\n",
    "                buyer,saler,item,Total_amount = sales_data_collecting(text)\n",
    "            buyers_name.append(buyer)\n",
    "            salers_name.append(saler)\n",
    "            items.append(item)\n",
    "            total_amount.append(Total_amount)\n",
    "    \n",
    "    return buyers_name,salers_name,items,total_amount"
   ]
  },
  {
   "cell_type": "code",
   "execution_count": 90,
   "id": "e0c31304",
   "metadata": {},
   "outputs": [],
   "source": [
    "# folder_path = r\"D:\\Data Science(Ekeeda)\\Projects\\document_classsification\\Sales_invoice\\fwsalesinvoice\"\n",
    "\n",
    "# buyers_name,salers_name,items,total_amount = Data_collector(folder_path)"
   ]
  },
  {
   "cell_type": "markdown",
   "id": "e684fbd2",
   "metadata": {},
   "source": [
    "# Purchase_data collecting"
   ]
  },
  {
   "cell_type": "code",
   "execution_count": 25,
   "id": "5bfa3ed6",
   "metadata": {},
   "outputs": [],
   "source": [
    "purchase_path = r\"D:\\Data Science(Ekeeda)\\Projects\\document_classsification\\invoice_data\\J190027389.pdf\"\n",
    "purchase_text = pdf_to_text(purchase_path)"
   ]
  },
  {
   "cell_type": "code",
   "execution_count": 26,
   "id": "5fd340f0",
   "metadata": {},
   "outputs": [
    {
     "name": "stdout",
     "output_type": "stream",
     "text": [
      "Page 1:\n",
      "Redington\n",
      "\n",
      "TAX INVOICE\n",
      "\n",
      "Page: 1 of 3\n",
      "\n",
      "REDINGTON LIMITED Invoice : J190027389\n",
      "C/O.PROCONNECT SUPPLY CHAIN Our Order : 3002052663 Date  : 24.07.2023 Time 12:12:27\n",
      "SOLUTION LTD Invoice date: 24.07.2023 Time: 12:17:59\n",
      "Plot Nos A-42 Laxmi Vihar Your Ref. —_ : SL2307190307\n",
      "KartarPura Area,\n",
      "Customer : N60372\n",
      "JAIPUR - 302019 GSTNO _: 08AAECB8518RIZZ\n",
      "Rajasthan Def. Pmnt. : Drop Shipment/ Credit days 30\n",
      "GST : 0O8AABCR0347P1Z3 Currency = INR\n",
      "Storage Location : 1001 Place of Supply : Rajasthan EAE\n",
      "IRN Number : 7d26d02e16a086b2£289 104ac490138c1 1bea222552bSbbf20b5 1 8bff0699309\n",
      "BILL-TO: SHIP-TO:\n",
      "BM INFOTRADE PVT LTD B M INFOTRADE PVT LTD\n",
      "53-A, VISHNUPURI Ex-Warehouse\n",
      "DADA FACTORY ROAD\n",
      "DURGAPURA\n",
      "JAIPUR-302018, Rajasthan\n",
      "O8AAECB8518R1ZZ\n",
      "ITEM CODE/ITEM HSN/SAC QUANTITY | UNIT PRICE | SGST/UGST CGST IGST TOTAL WEIGHT\n",
      "DESCRIPTION\n",
      "HPSPBK1371 CC388AC-Toner | 844399 1.000 2,941.00 264.69 264.69 2,941.00 0.800\n",
      "HPCC388AC Blk Contr L EAI 9.00 9.00 3,470.38\n",
      "CC388AC\n",
      "100648286681,\n",
      "Vol Wt 0.888\n",
      "\n",
      "NOTE: Interest rate against ove}due payments\n",
      "\n",
      "entioned in Clayse.14 of this inv:\n",
      "\n",
      "Certified that all the particulars shpwn in the above invoice are true ard correct based gn informatio:\n",
      "\n",
      "relevant GST Act is valid as on date of the invoice\n",
      "\n",
      "Contact: MUKUL GUPTA .\n",
      "Invoice value in Words: THREE THOUSAND FOU\n",
      "\n",
      "Please scan the QR code for Terns and Conditions\n",
      "\n",
      "http://ril-edi.redington.co.in/TermsAndConditions/gales.html\n",
      "\n",
      "IR HUNDRED S|\n",
      "\n",
      "IDECLARATION\n",
      "n available with us . I\n",
      "\n",
      "'VENTY RUPEES THIRTY EIGHT PAISE\n",
      "\n",
      "jice stands revised to 24% per annum with effect from 01 December! 2018.\n",
      "\n",
      "is further certified that our Registrdtion under\n",
      "\n",
      "Tax Total 264.69 264.69\n",
      "Total Wt. 0.800\n",
      "Total before Tax 2,941.00\n",
      "Tax Total 529.38\n",
      "TCS Total 0.00\n",
      "Invoice Total 3,470.38\n",
      "\n",
      "The person signing this document has got authority to bind the Buyer and to sign on behalf of the Buyer. By acknowledging receipt of goods hereon, the Buyer irrevocably\n",
      "agrees to abide by the terms and conditions along with this Invoice and over any other terms agreed elsewhere between the Buyer and Supplier.\n",
      "\n",
      "PAN: AABCR0347P —- CIN: L52599TN1961PLC028758 Web: www.redingtongroup.com\n",
      "\n",
      "Regd.Office: Redington Limited, RS Nos.27/2-A 27/4-A, 27/5 27/6, 27/7, 29/1-G, 29/1H,29/6-A,\n",
      "\n",
      "Block - 3, Plathin - Redington Tower Commercial, Inner Ring Road, Saraswathy Nagar West,\n",
      "\n",
      "4th Street, Puzhudhivakkam, Chennai - 600091, Tamil Nadu.\n",
      "\n",
      "Signed by\n",
      "\n",
      "For REDINGTON Limited\n",
      "\n",
      "RAMESH NATARAJAN\n",
      "\n",
      "Date: 202307124 *F3°04:25 IST\n",
      "Location: Chennai\n",
      "\n",
      "Page 2:\n",
      "Page: 2 of 3\n",
      "\n",
      "Redington\n",
      "\n",
      "Invoice no: J190027389\n",
      "\n",
      "TERMS AND CONDITIONS OF SALE\n",
      "\n",
      "1. Buyer shall mean the person / entity, who signs these Terms with Redington Limited, the Seller.\n",
      "\n",
      "2. Product shall mean hardware products, software licenses and / or services including cloud services and subscriptions, as the case may be ,invoiced by the Seller\n",
      "and governed by these terms.\n",
      "\n",
      "3. The terms herein are the binding Contract between the Seller and the Buyer. These terms shall prevail over all previous, contemporary communications exchanged]\n",
      "between the parties, whether or not in writing including the terms and conditions of invoices under which the Products were sold to the Buyer prior to the date\n",
      "hereof or Buyer s Purchase order terms. Parties shall not be entitled to vary, amend, add or alter any of these conditions. This Contract shall be in addition to the\n",
      "termsof the Dealership Registration Form / Dealer Registration Agreement executed by the Buyer. Buyer is not an agent, contractor or representative of the Seller\n",
      "and this Contract is being entered as Principal dealing with Principal.\n",
      "\n",
      "4. Buyer irrevocably agrees to pay for the Products pursuant to these terms of Sale which shall be deemed conclusive on acceptance of Productsby the Buyer or\n",
      "acceptance of these terms or acknowledgement of deliverynote (including GCN or POD submitted by the Carrier) accompanying these terms by and on behalf of the\n",
      "Buyer.\n",
      "\n",
      "5. Each lot of Products sold under these terms shall deemed to be a separate Contract. Seller shall have the right to combine individual Contracts for the purpose of\n",
      "making a combined claim, if the Buyer has availed revolving credit facility from the Seller.\n",
      "\n",
      "6. Buyer shall be responsible for payment of GST and all other duties / taxes as applicable to the sale. If at any time before or after delivery to the Buyer of all or any\n",
      "part of the Products, any duty /tariff / tax or charge of whatsoever nature is imposed / increased by the Government of India, the State Government or any other\n",
      "authority or railway or shipping freight is increased with retrospective effect, then shall be liable to reimburse the Seller the difference in the tax rate to the extent of\n",
      "such increase in respect of the supplies made prior to such change to the extent of the new imposition or increase the thereof.\n",
      "\n",
      "7. Delay in delivery or Part Delivery of the Products shall not render the contract voidable and the Seller will not be liable for damages, compensation or otherwise\n",
      "on account of a delay or partial even if the Seller is advised of such possibility earlier, whether or not the time is the essence of the contract. The Buyer shall not have\n",
      "any right to reject the Products or withhold payment, on account of any delay.\n",
      "\n",
      "8. If the Buyer fails to take delivery on arrival of Product at the delivery address, the Buyer is liable to reimburse the Seller all transport, storage and other related\n",
      "expenses including demurrages incurred by the Seller. The Seller shall have the right to sell off / dispose of the goods at its sole discretion.\n",
      "\n",
      "9. Buyer shall furnish all forms, declarations, way bill related to levyof tax, exemption, movement or otherwise, wherever applicable within thestipulated time, failing\n",
      "which the Seller shall have the right to raise supplementary invoice for all kinds of levies / difference in levies arising therefrom.\n",
      "\n",
      "10. Seller shall have a general lien on all the Products sold under these terms, whether or not the Products are in the possession of the Buyer or any third party, till\n",
      "such time the Seller is paid all payment due/s under this contract or any other contract with the Buyer.\n",
      "\n",
      "11. No credit, refund or set-off for tax and other statutory levies already collected will be allowed on rejected / returned Products unlesssuch Products are received\n",
      "back by the Seller before the end of the quarter of the Sale along with original document of invoice and with theconfirmation from the Buyer that no credit of tax is\n",
      "availed in respect of the product rejected / returned.\n",
      "\n",
      "12. Sale under these terms is subject to force majeure events. The Seller shall not be liable for delay or non-delivery for reasons beyond the control of the Seller.\n",
      "\n",
      "13. All payments for the Products sold must be made by the Buyer at the Seller#s Register Office at Block 3, Plathin - Redington Tower Commercial, Inner Ring\n",
      "Rd, 4th Street, Puzhudhivakkam, Chennai - 600 091 or existing Corporate Office. All payments made by cheques are subject to realization and if made by\n",
      "electronic mode (NACH etc.) payment would be subject to receipt of fund in Seller#s account. Buyer irrevocably undertakes not to hold payments due to the Seller\n",
      "on account of a dispute between the Buyer and the manufacturer or a third party or for whatever reason. Buyer shall pay interest @24% per annum or the\n",
      "maximum interest allowed under applicable laws for payment made beyond the due date of realization with applicable taxes and penalties.\n",
      "\n",
      "14. All bank charges (including collection or cheque bouncing charges, return charges pursuant to dishonor of standing instructions) and stamp duty on bills of\n",
      "exchange, hundies wherever applicable shall be paid by the Buyer with the GST as applicable. The Seller shall not be liable for any loss or theft of bank drafts,\n",
      "cheques ete. in transit.\n",
      "\n",
      "15. The bank receiving money against RR / LR / AWB / Bill of Lading or Products shall be deemed to be the Agent of the Buyer. Buyer#s responsibility for payment\n",
      "is calculated from the date of invoice and shall not cease till actual payment is received by the Seller. The invoice containing acknowledgement from the Buyer /\n",
      "Buyer representatives of receipt of the Products or a POD submitted by the Carrier to the Seller, shall be construed as valid Proof of Delivery of Products for the\n",
      "purpose of payment from the Bank.\n",
      "\n",
      "16. Buyer acknowledges that Products are sold AS IS received from the manufacturer or the third party suppliers of the manufacturer. Seller does not make any\n",
      "representations towards warranty or fitness for particular purpose in respect of the Products sold. Buyer explicitly agrees not to hold the Seller (not being the\n",
      "manufacturer) responsible and liable for quality, functionality or defect in workmanship of the Products sold under these terms including intellectual property\n",
      "infringement claims arising out of the products. All claims of warranty / DOA should be addressed only to the manufacturer of the Products. Seller will not accept\n",
      "any return of Products unless agreed earlier in writing.\n",
      "\n",
      "17. Seller s statement as to weight, measures, quantity and quality shall be presumed to be correct and final and their responsibility for the Products shall cease as\n",
      "soon as the Products are handed over to the Buyer / Buyer representatives or to the carrier appointed by the Buyer, as the case may be. The Buyer explicitly\n",
      "acknowledges receipt of the Products and packages in good condition with MRP label and other declaration required under the applicable provisions of the Legal\n",
      "Metrology Act and its related Central / State Rules, as amended from time to time. No dispute regarding the quantity, quality, fitness of Products or issues relating to\n",
      "declarations in the packages can be raised, without written notice to the Seller, within five days of receipt of the Products.\n",
      "\n",
      "The person signing this document has got authority to bind the Buyer and to sign on behalf of the Buyer. By acknowledging receipt of goods hereon, the Buyer irrevocably\n",
      "agrees to abide by the terms and conditions along with this Invoice and over any other terms agreed elsewhere between the Buyer and Supplier.\n",
      "\n",
      "Signed by RAMESH NATARAJAN\n",
      "\n",
      "Date: 20282007 DY 4'864:25 IST\n",
      "PAN: AABCR0347P —- CIN: L52599TN1961PLC028758 Web: www.redingtongroup.com Location: Chennai\n",
      "\n",
      "Regd.Office: Redington Limited, RS Nos.27/2-A 27/4-A, 27/5 27/6, 27/7, 29/1-G, 29/1H,29/6-A, Authorized Signatory\n",
      "Block - 3, Plathin - Redington Tower Commercial, Inner Ring Road, Saraswathy Nagar West,\n",
      "4th Street, Puzhudhivakkam, Chennai - 600091, Tamil Nadu.\n",
      "\n",
      "Page 3:\n",
      "Page: 3 of 3\n",
      "\n",
      "Redington\n",
      "\n",
      "Invoice no: J190027389\n",
      "\n",
      "18. Buyer undertakes not to use the Patents, Trademarks or Trade Names of the Seller or the manufacturer of the Product without the prior written consent of the\n",
      "Seller.\n",
      "\n",
      "19. Any notice or documents shall be deemed to be validly served on the Buyer if sent by ordinary post / reputed courier to the last known address of the Buyer or the|\n",
      "place where the Products are delivered under this Contract or to the registered email address of the Buyer.\n",
      "\n",
      "20. All or any Dispute arising out of all or any terms of the Contract between the Parties herein shall be resolved through Arbitration. Eitherof the Party may notify\n",
      "the Dispute to the other party, enabling them tofind an amicable settlement of the Dispute within 30 days of such notification. In the event of no amicable settlement\n",
      "is arrived within 30 days as stated supra, either of the party(s) shall refer the dispute to Arbitration M/s. Redington Limited, shall immediately appoint a Sole\n",
      "Arbitrator within one month of such reference of dispute to Arbitration. Buyer explicitly agrees and waives off any right to question the appointment of arbitrator as|\n",
      "above. Such proceedings shall be conducted in English language only and in accordance with the provisions of The Arbitration and Conciliation Act, 1996 as\n",
      "amended. The finding of the Sole Arbitrator shall be final and be binding on all parties. The Venue will be as fixed by the Sole Arbitrator and the same will be\n",
      "binding on the parties. The Seat for the Arbitration shall be exclusively at Chennai. The governing laws shall be Indian laws and the parties explicitly agree that all\n",
      "or any legal proceedings in connection with the Arbitration proceedings shall be subject to the Jurisdiction of Courts in Chennai alone. The Seller shall also have the\n",
      "right to initiate the appropriate civil / criminal proceedings including complaint u/s 138 of NI Act, as applicable.\n",
      "\n",
      "21. It is acknowledged and confirmed that the Seller shall have the right to transfer or assign any of its rights arising out of these terms / invoice including without\n",
      "limitation, the right to transfer and assign the receivables to any third party, without having to secure any consent from the Buyer.\n",
      "\n",
      "22. Buyer shall ensure compliance of all applicable local laws relating to its business and storage of the Products including but not limited toenvironmental protection\n",
      "laws, e-Waste laws as well as other foreign laws applicable for the class of Products sold under these presents. Buyer shall ensure compliance of all applicable\n",
      "manufacturer terms with respect to the Products purchased by the Buyer. Buyer shall also ensure that the Buyer#s Customers / end users comply with the above\n",
      "requirement. It is the responsibility of the Buyer to ascertain respective manufacturer terms on their own for the purpose of compliance and shall inform their\n",
      "Customers / end users of this requirement. Seller shall in no event be liable for an act of ignorance of applicable law by the Buyer or its Customers.\n",
      "\n",
      "23. Buyer shall ensure that Buyer and its customers comply with all anti-corruption laws including but not limited to FCPA, UK Bribery Act, Prevention of\n",
      "Corruption Act, or any other manufacturer country specific Laws as applicable.\n",
      "\n",
      "24. Buyer shall not, under any circumstances, use, sell or cause to sell through any third party, the Products for use in applications leading to products of dangerous,\n",
      "hazardous, nuclear, mass destruction and /or in any unauthorized applications, within or outside India. Buyer shall not, also under any circumstances, sell or cause\n",
      "to sell through any third party, the Products to customers who are prevented from receiving the Products under any applicable laws including but not limited to U.S\n",
      "export regulations, etc. The Buyer shall also ensure that the Buyer#s customers are kept fully informed of all such compliance requirements and make all efforts to\n",
      "ensure that the customers adhere to all the compliance requirements.\n",
      "\n",
      "25. The Seller shall not be responsible for any wrong / mis-representation made by the Buyer with respect to the Products. The total cumulative liability of the Seller\n",
      "to Buyer or to any third party, under any circumstances shall not exceed the purchase price received by such claim subject to return of the Products to the Seller.\n",
      "The Seller shall not be liable for indirect, special or consequential damages even if advised of such possibilities earlier.\n",
      "\n",
      "26. This Proforma Invoice is valid only for 1 day.\n",
      "\n",
      "27. A confirmation by the way of stamp and sign is required to be sent back to Redington for processing the order.\n",
      "\n",
      "28. Partial delivery is allowed.\n",
      "\n",
      "29. Shipment to be relased upon receipt of payment(In case of Advance/ Cash/CDC orders).\n",
      "\n",
      "30. Stock allocation is subject to credit and stock availability at the time of execution of final order.\n",
      "\n",
      "31. Execution of final order will be subject to internal approvals.\n",
      "\n",
      "32. The terms and conditions stated in this Proforma Invoice supersedes any other terms and conditions mentioned through any other mode.\n",
      "\n",
      "33. General : The Buyer shall ensure strict compliance of the product specific terms and conditions as published on the Seller#s website\n",
      "Redington_OEM/Vendor_Product specific T&C_for Dealer / End User which may be amended from time to time.\n",
      "\n",
      "The person signing this document has got authority to bind the Buyer and to sign on behalf of the Buyer. By acknowledging receipt of goods hereon, the Buyer irrevocably\n",
      "agrees to abide by the terms and conditions along with this Invoice and over any other terms agreed elsewhere between the Buyer and Supplier.\n",
      "\n",
      "Signed by RAMESH NATARAJAN\n",
      "\n",
      "Date: 20282007 DY 4'864:25 IST\n",
      "PAN: AABCR0347P —- CIN: L52599TN1961PLC028758 Web: www.redingtongroup.com Location: Chennai\n",
      "\n",
      "Regd.Office: Redington Limited, RS Nos.27/2-A 27/4-A, 27/5 27/6, 27/7, 29/1-G, 29/1H,29/6-A, Authorized Signatory\n",
      "Block - 3, Plathin - Redington Tower Commercial, Inner Ring Road, Saraswathy Nagar West,\n",
      "4th Street, Puzhudhivakkam, Chennai - 600091, Tamil Nadu.\n",
      "\n",
      "\n"
     ]
    }
   ],
   "source": [
    "print(purchase_text)"
   ]
  },
  {
   "cell_type": "markdown",
   "id": "e6153bc9",
   "metadata": {},
   "source": [
    "# saler"
   ]
  },
  {
   "cell_type": "code",
   "execution_count": 107,
   "id": "5e0efa48",
   "metadata": {},
   "outputs": [],
   "source": [
    "con_1 = purchase_text[purchase_text.find(\"Limited\")-18:purchase_text.find(\"Limited\")+7]"
   ]
  },
  {
   "cell_type": "code",
   "execution_count": 108,
   "id": "74136dd7",
   "metadata": {},
   "outputs": [],
   "source": [
    "con_2 = purchase_text[purchase_text.find(\"Ltd\")-22:purchase_text.find(\"Ltd\")+5]"
   ]
  },
  {
   "cell_type": "code",
   "execution_count": 109,
   "id": "1ceac9ee",
   "metadata": {},
   "outputs": [],
   "source": [
    "saler_pattern = r\"[A-z]* [A-z]* Limited\""
   ]
  },
  {
   "cell_type": "code",
   "execution_count": 110,
   "id": "e487a612",
   "metadata": {},
   "outputs": [
    {
     "data": {
      "text/plain": [
       "'Infotrade Private Limited'"
      ]
     },
     "execution_count": 110,
     "metadata": {},
     "output_type": "execute_result"
    }
   ],
   "source": [
    "re.findall(saler_pattern,purchase_text)[0]"
   ]
  },
  {
   "cell_type": "code",
   "execution_count": 111,
   "id": "8cd9d03d",
   "metadata": {},
   "outputs": [],
   "source": [
    "buyer_patter = r\"[A-Z]*.[A-Z]*. [A-Z]* [A-Z]* LTD|[A-Z]* [A-Z]* [A-Z]* [A-Z]* LTD\""
   ]
  },
  {
   "cell_type": "code",
   "execution_count": 112,
   "id": "39905107",
   "metadata": {},
   "outputs": [
    {
     "data": {
      "text/plain": [
       "'OF RASHI PERIPHERALS PVT LTD'"
      ]
     },
     "execution_count": 112,
     "metadata": {},
     "output_type": "execute_result"
    }
   ],
   "source": [
    "re.findall(buyer_patter,text)[0]"
   ]
  },
  {
   "cell_type": "code",
   "execution_count": null,
   "id": "43b38895",
   "metadata": {},
   "outputs": [],
   "source": []
  },
  {
   "cell_type": "markdown",
   "id": "5a952222",
   "metadata": {},
   "source": [
    "# items"
   ]
  },
  {
   "cell_type": "code",
   "execution_count": 185,
   "id": "69f06b70",
   "metadata": {},
   "outputs": [],
   "source": [
    "new_pattern = r\"\\d{1,2} \\[[a-zA-Z0-9]* [a-zA-Z0-9]*\\-[a-zA-Z0-9]*|\\d \\|.*|.*CGST.*|\\bDESCRIPTION\\b\\n.*\\n.*\\n.*\\n.*|\\d{1,2} \\|[a-zA-Z]\\-[a-zA-Z0-9]* [a-zA-Z]* \\-[a-zA-Z0-9]*-[a-zA-Z0-9], \""
   ]
  },
  {
   "cell_type": "code",
   "execution_count": 186,
   "id": "72ede0cc",
   "metadata": {},
   "outputs": [],
   "source": [
    "pu_item_1 = re.findall(new_pattern,purchase_text)"
   ]
  },
  {
   "cell_type": "code",
   "execution_count": 194,
   "id": "8b81b0ea",
   "metadata": {},
   "outputs": [
    {
     "data": {
      "text/plain": [
       "'DESCRIPTION\\nHPSPBK1371 CC388AC-Toner | 844399 1.000 2,941.00 264.69 264.69 2,941.00 0.800\\nHPCC388AC Blk Contr L EAI 9.00 9.00 3,470.38\\nCC388AC\\n100648286681,'"
      ]
     },
     "execution_count": 194,
     "metadata": {},
     "output_type": "execute_result"
    }
   ],
   "source": [
    "pu_item_1[1]"
   ]
  },
  {
   "cell_type": "code",
   "execution_count": 195,
   "id": "61e872bc",
   "metadata": {},
   "outputs": [
    {
     "data": {
      "text/plain": [
       "'DESCRIPTION\\nHPSPBK1371 CC388AC-Toner | 844399 1.000 2,941.00 264.69 264.69 2,941.00 0.800\\nHPCC388AC Blk Contr L EAI 9.00 9.00 3,470.38\\nCC388AC\\n100648286681,'"
      ]
     },
     "execution_count": 195,
     "metadata": {},
     "output_type": "execute_result"
    }
   ],
   "source": [
    "pu_item_1[1].strip()"
   ]
  },
  {
   "cell_type": "code",
   "execution_count": null,
   "id": "decd61d1",
   "metadata": {},
   "outputs": [],
   "source": []
  },
  {
   "cell_type": "code",
   "execution_count": 122,
   "id": "736e9312",
   "metadata": {},
   "outputs": [],
   "source": [
    "# pu_item_2 = re.findall(purchase_item_2,purchase_text)"
   ]
  },
  {
   "cell_type": "code",
   "execution_count": 126,
   "id": "7fe892a1",
   "metadata": {},
   "outputs": [],
   "source": [
    "# print(purchase_text[purchase_text.find(\"EXTENDEDA MOUNT\"):])"
   ]
  },
  {
   "cell_type": "code",
   "execution_count": 127,
   "id": "8b258cab",
   "metadata": {},
   "outputs": [],
   "source": [
    "# purchase_text.find(\"EXTENDEDA MOUNT\")"
   ]
  },
  {
   "cell_type": "code",
   "execution_count": 129,
   "id": "d96921b2",
   "metadata": {},
   "outputs": [],
   "source": [
    "# pu_item_2[0]"
   ]
  },
  {
   "cell_type": "code",
   "execution_count": 131,
   "id": "3dfd6d95",
   "metadata": {},
   "outputs": [],
   "source": [
    "match_item = re.findall(new_pattern,purchase_text)"
   ]
  },
  {
   "cell_type": "code",
   "execution_count": 132,
   "id": "0990ba11",
   "metadata": {},
   "outputs": [],
   "source": [
    "item_pattern_1 = r\"[a-zA-z0-9]* [a-zA-z0-9]*\\/[a-zA-z0-9]*\\/ \\||\\|[a-zA-Z0-9]*\\-[a-zA-Z0-9]* [a-zA-Z0-9]* \\-[a-zA-Z0-9]*-[a-zA-Z0-9]*\\, [a-zA-Z0-9]*\\+[a-zA-Z0-9]* [a-zA-Z0-9]* [a-zA-Z0-9]*\""
   ]
  },
  {
   "cell_type": "code",
   "execution_count": 133,
   "id": "3fb422ed",
   "metadata": {},
   "outputs": [],
   "source": [
    "item_pattern_2 = r\"\\|[a-zA-Z0-9]*\\-[a-zA-Z0-9]* [a-zA-Z0-9]* \\-[a-zA-Z0-9]*-[a-zA-Z0-9]*\\, [a-zA-Z0-9]*\\+[a-zA-Z0-9]* [a-zA-Z0-9]* [a-zA-Z0-9]*\""
   ]
  },
  {
   "cell_type": "code",
   "execution_count": 136,
   "id": "18590a35",
   "metadata": {},
   "outputs": [],
   "source": [
    "# re.findall(item_pattern_1,purchase_text)"
   ]
  },
  {
   "cell_type": "markdown",
   "id": "abc97fb8",
   "metadata": {},
   "source": [
    "# amount"
   ]
  },
  {
   "cell_type": "code",
   "execution_count": 139,
   "id": "211652bf",
   "metadata": {},
   "outputs": [],
   "source": [
    "amount_pattern = r'\\bTotal\\b .*'"
   ]
  },
  {
   "cell_type": "code",
   "execution_count": 140,
   "id": "83a9fa61",
   "metadata": {},
   "outputs": [],
   "source": [
    "amount_match = re.findall(amount_pattern,purchase_text)"
   ]
  },
  {
   "cell_type": "code",
   "execution_count": 144,
   "id": "31a76e21",
   "metadata": {},
   "outputs": [],
   "source": [
    "amount = amount_match[-1].split(\" \")[-1]"
   ]
  },
  {
   "cell_type": "code",
   "execution_count": 148,
   "id": "7c914883",
   "metadata": {},
   "outputs": [
    {
     "name": "stdout",
     "output_type": "stream",
     "text": [
      "5,883.15\n"
     ]
    }
   ],
   "source": [
    "print(amount)"
   ]
  },
  {
   "cell_type": "code",
   "execution_count": 156,
   "id": "f95fbbc2",
   "metadata": {},
   "outputs": [
    {
     "name": "stdout",
     "output_type": "stream",
     "text": [
      "5883.15\n"
     ]
    }
   ],
   "source": [
    "amount_pattern = r'\\bTotal\\b .*'\n",
    "amount_match = re.findall(amount_pattern,purchase_text)\n",
    "amount = amount_match[-1].split(\" \")[-1]\n",
    "# print(type(amount))\n",
    "amount_without_comma = amount.replace(',', '')  # Remove the comma\n",
    "print(float(amount_without_comma))\n",
    "\n"
   ]
  },
  {
   "cell_type": "code",
   "execution_count": null,
   "id": "68ee98ea",
   "metadata": {},
   "outputs": [],
   "source": []
  },
  {
   "cell_type": "markdown",
   "id": "a0ef2d2f",
   "metadata": {},
   "source": [
    "# Date"
   ]
  },
  {
   "cell_type": "code",
   "execution_count": 99,
   "id": "963cc9ed",
   "metadata": {},
   "outputs": [],
   "source": [
    "import re\n",
    "from datetime import datetime\n",
    "\n",
    "# Check if dates were found\n",
    "def Date_format(dates_found):\n",
    "    if dates_found:\n",
    "        # Use the first date from the list\n",
    "        date_str = dates_found[0]\n",
    "\n",
    "        # Desired output date format\n",
    "        output_date_format = \"%d-%b-%y\"\n",
    "\n",
    "        # Convert and format the date\n",
    "        parsed_date = None\n",
    "        for input_format in [\"%d-%b-%y\", \"%d.%m.%Y\", \"%d.%m.%Y\"]:\n",
    "            try:\n",
    "                parsed_date = datetime.strptime(date_str, input_format)\n",
    "                formatted_date = parsed_date.strftime(output_date_format)\n",
    "                break\n",
    "            except ValueError:\n",
    "                pass\n",
    "        if parsed_date is None:\n",
    "            print(f\"Unable to parse date: {date_str}\")\n",
    "        else:\n",
    "            return formatted_date\n",
    "    else:\n",
    "        print(\"No dates found in the text.\")\n"
   ]
  },
  {
   "cell_type": "code",
   "execution_count": 100,
   "id": "4e48578c",
   "metadata": {},
   "outputs": [],
   "source": [
    "date_patern = r\"\\d{1,2}\\-[a-zA-Z]*\\-\\d{1,2}|\\d{1,2}\\.\\d{1,2}\\.\\d{2,4}\""
   ]
  },
  {
   "cell_type": "code",
   "execution_count": 101,
   "id": "16c2a8c0",
   "metadata": {},
   "outputs": [],
   "source": [
    "dates_found = re.findall(date_patern,purchase_text)"
   ]
  },
  {
   "cell_type": "code",
   "execution_count": 102,
   "id": "fc88ceab",
   "metadata": {},
   "outputs": [
    {
     "data": {
      "text/plain": [
       "['31-May-23', '06.06.2023', '23.12.2021']"
      ]
     },
     "execution_count": 102,
     "metadata": {},
     "output_type": "execute_result"
    }
   ],
   "source": [
    "dates_found"
   ]
  },
  {
   "cell_type": "code",
   "execution_count": null,
   "id": "8cd81f03",
   "metadata": {},
   "outputs": [],
   "source": []
  },
  {
   "cell_type": "code",
   "execution_count": 113,
   "id": "e5a06479",
   "metadata": {},
   "outputs": [],
   "source": [
    "def purchase_data_collecting(text):\n",
    "    \n",
    "    pu_buyer,new_item,amount_match,pu_saler = \"None\"\n",
    "\n",
    "    # items\n",
    "    purchase_item = r\"\\d{1,2} \\[[a-zA-Z0-9]* [a-zA-Z0-9]*\\-[a-zA-Z0-9]*|\\d \\|.*|.*CGST.*|\\bDESCRIPTION\\b\\n.*\\n.*\\n.*\\n.*|\\d{1,2} \\|[a-zA-Z]\\-[a-zA-Z0-9]* [a-zA-Z]* \\-[a-zA-Z0-9]*-[a-zA-Z0-9], \"\n",
    "\n",
    "    amount_pattern = r'\\bTotal\\b .*'\n",
    "\n",
    "    saler_pattern = r\"[a-zA-Z]* [a-zA-Z]* & Systems|[A-z]* [A-z]* Limited|[A-z]* [A-z]* [A-z]* Ltd|[a-zA-Z]* [a-zA-Z]* SOLUTION|[a-zA-Z]* Electronics\"\n",
    "    \n",
    "    buyer_pattern =  r\"[a-zA-Z]* [a-zA-Z]* [a-zA-Z]* Ltd|[a-zA-Z]* [a-zA-Z]* [a-zA-Z]* [a-zA-Z]* Limited|[a-zA-Z]*.[a-zA-Z]*. [a-zA-Z]* \\([a-zA-Z]\\) Ltd|[a-zA-Z]* [a-zA-Z]* [a-zA-Z]* [a-zA-Z]* LIMITED|[A-Z]*.[A-Z]*. [A-Z]* [A-Z]* LTD|[A-Z]* [A-Z]* [A-Z]* [A-Z]* Ltd|[a-zA-z]*.[a-zA-z]*.[a-zA-z]*. [a-zA-z]*. Ltd\"\n",
    "    \n",
    "    date_patern = r\"\\d{1,2}\\-[a-zA-Z]*\\-\\d{1,2}|\\d{1,2}\\.\\d{1,2}\\.\\d{2,4}\"\n",
    "        \n",
    "    new_item = re.findall(purchase_item,text)\n",
    "        \n",
    "    amount_match = re.findall(amount_pattern,text)\n",
    "\n",
    "    pu_saler = re.findall(saler_pattern,text)\n",
    "    \n",
    "    pu_buyer = re.findall(buyer_pattern,text)\n",
    "    \n",
    "    date = re.findall(date_patern,text)[0]\n",
    "\n",
    "    return pu_buyer[0],new_item,amount_match,pu_saler[0],date\n"
   ]
  },
  {
   "cell_type": "code",
   "execution_count": 9,
   "id": "a856d062",
   "metadata": {},
   "outputs": [],
   "source": [
    "pu_buyer,new_item,amount_match,pu_saler,date = purchase_data_collecting(purchase_text)"
   ]
  },
  {
   "cell_type": "markdown",
   "id": "944cc228",
   "metadata": {},
   "source": [
    "# Data_Fetching"
   ]
  },
  {
   "cell_type": "code",
   "execution_count": 12,
   "id": "8ef516d6",
   "metadata": {},
   "outputs": [],
   "source": [
    "def pdf_to_text(pdf_path):\n",
    "    poppler_path = r\"D:\\programing software\\Release-23.07.0-0\\poppler-23.07.0\\Library\\bin\"\n",
    "    \n",
    "    images = convert_from_path(pdf_path, poppler_path=poppler_path)\n",
    "    \n",
    "    extracted_text = \"\"\n",
    "    \n",
    "    for page_num, pdf_image in enumerate(images, start=1):\n",
    "        page_text = pytesseract.image_to_string(pdf_image)\n",
    "        extracted_text += f\"Page {page_num}:\\n{page_text}\"\n",
    "    \n",
    "    return extracted_text"
   ]
  },
  {
   "cell_type": "code",
   "execution_count": 50,
   "id": "0fcc6a6d",
   "metadata": {},
   "outputs": [],
   "source": [
    "path = r\"D:\\Data Science(Ekeeda)\\Projects\\document_classsification\\ALP Aeroflex Go Live Invoice.pdf\"\n",
    "\n",
    "text = pdf_to_text(path)"
   ]
  },
  {
   "cell_type": "code",
   "execution_count": 51,
   "id": "f8ee4f30",
   "metadata": {},
   "outputs": [
    {
     "data": {
      "text/plain": [
       "'Page 1:\\nPanthersCloud Technology Services Pvt.\\n\\nLtd.\\n\\n29, Old Govid Pura Extension, Street No. 3\\nDelhi - 110051, India\\n\\nPhone: +91 9650162690\\n\\nGSTIN Number: 07AAICP2470Q1ZU\\n\\nPAN Number: AAICP2470Q\\n\\nSCA Code: 998313\\n\\nTo:ALP Aeroflex India Pvt. Ltd.\\nKHASRA NO 82/9 & 83/9, FAZALPUR\\nMAHARULA RUDRAPUR Udham\\nSingh Nagar Uttarakhand 263153\\n\\nGST No: 05AAJCA4974F1ZM\\n\\nBilling Period\\n\\nDescription\\n\\nCloud\\npanthers\\n\\nTAX INVOICE\\n\\nInvoice : CP/23-24/46\\nDate of Issue : 09/08/2023\\n\\nFor: Salesforce Implementation\\n\\nAmount\\n\\nSalesforce Implementation - Go Live Milestone (25% of\\n\\nScope of work)\\n\\nINR 162500.00\\n\\nPayment Term: 7 Days\\nSWIFT Code: ICICINBBCTS\\nIFSC Code:ICIC0000037\\nAccount No: 003705017692\\n\\nINR 162,500.00\\n\\nGST @ 18.00% INR 29,250.00\\n\\nTotal Amount INR 191,750.00\\n\\nBeneficiary Name: PANTHERSCLOUD TECHNOLOGY SERVICES PVT LTD\\n\\nAccount Type: Current\\nBank Name: ICICI Bank\\n\\nBank Address: SINCERE TOWERS IV, COMMUNITY CENTRE, PREET VIHAR, DELHI. 110092, INDIA\\n\\nwww.cloudpanthers.com\\n\\nArchana Wale\\n\\nFor PanthersCloud Technology Services Pvt. Ltd.\\n'"
      ]
     },
     "execution_count": 51,
     "metadata": {},
     "output_type": "execute_result"
    }
   ],
   "source": [
    "text"
   ]
  },
  {
   "cell_type": "code",
   "execution_count": 53,
   "id": "1399b6f9",
   "metadata": {},
   "outputs": [],
   "source": [
    "import spacy\n",
    "from spacy import displacy\n",
    "\n",
    "NLP = spacy.load(\"en_core_web_sm\")"
   ]
  },
  {
   "cell_type": "code",
   "execution_count": 74,
   "id": "72178e6b",
   "metadata": {},
   "outputs": [
    {
     "name": "stdout",
     "output_type": "stream",
     "text": [
      "PanthersCloud Technology Services Pvt\n",
      "PAN\n",
      "COMMUNITY CENTRE\n",
      "DELHI\n",
      "PanthersCloud Technology Services\n"
     ]
    }
   ],
   "source": [
    "doc = NLP(text)\n",
    "buyer_pattern =  r\"[a-zA-Z]* [a-zA-Z]* [a-zA-Z]* Ltd|[a-zA-Z]* [a-zA-Z]* [a-zA-Z]* [a-zA-Z]* Limited|[a-zA-Z]*.[a-zA-Z]*. [a-zA-Z]* \\([a-zA-Z]\\) Ltd|[a-zA-Z]* [a-zA-Z]* [a-zA-Z]* [a-zA-Z]* LIMITED|[A-Z]*.[A-Z]*. [A-Z]* [A-Z]* LTD|[A-Z]* [A-Z]* [A-Z]* [A-Z]* Ltd|[a-zA-z]*.[a-zA-z]*.[a-zA-z]*. [a-zA-z]*. Ltd\"\n",
    "buyer = re.search(buyer_pattern,text).group()\n",
    "for ent in doc.ents:\n",
    "    if ent.label_ == \"ORG\" or buyer in text:\n",
    "        print(ent.text)"
   ]
  },
  {
   "cell_type": "code",
   "execution_count": 64,
   "id": "edebf6cd",
   "metadata": {},
   "outputs": [
    {
     "data": {
      "text/plain": [
       "'ALP Aeroflex India Pvt. Ltd'"
      ]
     },
     "execution_count": 64,
     "metadata": {},
     "output_type": "execute_result"
    }
   ],
   "source": [
    "match = re.search(buyer_pattern,text)\n",
    "match.group()"
   ]
  },
  {
   "cell_type": "code",
   "execution_count": 49,
   "id": "9c908ea1",
   "metadata": {},
   "outputs": [
    {
     "data": {
      "text/html": [
       "<span class=\"tex2jax_ignore\"><div class=\"entities\" style=\"line-height: 2.5; direction: ltr\">Page \n",
       "<mark class=\"entity\" style=\"background: #e4e7d2; padding: 0.45em 0.6em; margin: 0 0.25em; line-height: 1; border-radius: 0.35em;\">\n",
       "    1\n",
       "    <span style=\"font-size: 0.8em; font-weight: bold; line-height: 1; border-radius: 0.35em; vertical-align: middle; margin-left: 0.5rem\">CARDINAL</span>\n",
       "</mark>\n",
       ":<br>\n",
       "<mark class=\"entity\" style=\"background: #7aecec; padding: 0.45em 0.6em; margin: 0 0.25em; line-height: 1; border-radius: 0.35em;\">\n",
       "    PanthersCloud Technology Services Pvt\n",
       "    <span style=\"font-size: 0.8em; font-weight: bold; line-height: 1; border-radius: 0.35em; vertical-align: middle; margin-left: 0.5rem\">ORG</span>\n",
       "</mark>\n",
       ".<br><br>Ltd.<br><br>\n",
       "<mark class=\"entity\" style=\"background: #e4e7d2; padding: 0.45em 0.6em; margin: 0 0.25em; line-height: 1; border-radius: 0.35em;\">\n",
       "    29\n",
       "    <span style=\"font-size: 0.8em; font-weight: bold; line-height: 1; border-radius: 0.35em; vertical-align: middle; margin-left: 0.5rem\">CARDINAL</span>\n",
       "</mark>\n",
       ", Old Govid Pura Extension, Street No. \n",
       "<mark class=\"entity\" style=\"background: #e4e7d2; padding: 0.45em 0.6em; margin: 0 0.25em; line-height: 1; border-radius: 0.35em;\">\n",
       "    3\n",
       "    <span style=\"font-size: 0.8em; font-weight: bold; line-height: 1; border-radius: 0.35em; vertical-align: middle; margin-left: 0.5rem\">CARDINAL</span>\n",
       "</mark>\n",
       "<br>Delhi - 110051, \n",
       "<mark class=\"entity\" style=\"background: #feca74; padding: 0.45em 0.6em; margin: 0 0.25em; line-height: 1; border-radius: 0.35em;\">\n",
       "    India\n",
       "    <span style=\"font-size: 0.8em; font-weight: bold; line-height: 1; border-radius: 0.35em; vertical-align: middle; margin-left: 0.5rem\">GPE</span>\n",
       "</mark>\n",
       "<br><br>Phone: +91 9650162690<br><br>GSTIN Number: 07AAICP2470Q1ZU<br><br>\n",
       "<mark class=\"entity\" style=\"background: #7aecec; padding: 0.45em 0.6em; margin: 0 0.25em; line-height: 1; border-radius: 0.35em;\">\n",
       "    PAN\n",
       "    <span style=\"font-size: 0.8em; font-weight: bold; line-height: 1; border-radius: 0.35em; vertical-align: middle; margin-left: 0.5rem\">ORG</span>\n",
       "</mark>\n",
       " Number: AAICP2470Q<br><br>SCA Code: \n",
       "<mark class=\"entity\" style=\"background: #e4e7d2; padding: 0.45em 0.6em; margin: 0 0.25em; line-height: 1; border-radius: 0.35em;\">\n",
       "    998313\n",
       "    <span style=\"font-size: 0.8em; font-weight: bold; line-height: 1; border-radius: 0.35em; vertical-align: middle; margin-left: 0.5rem\">CARDINAL</span>\n",
       "</mark>\n",
       "<br><br>To:ALP Aeroflex India Pvt. Ltd.<br>KHASRA NO 82/9 &amp; 83/9, FAZALPUR<br>MAHARULA RUDRAPUR Udham<br>\n",
       "<mark class=\"entity\" style=\"background: #aa9cfc; padding: 0.45em 0.6em; margin: 0 0.25em; line-height: 1; border-radius: 0.35em;\">\n",
       "    Singh Nagar\n",
       "    <span style=\"font-size: 0.8em; font-weight: bold; line-height: 1; border-radius: 0.35em; vertical-align: middle; margin-left: 0.5rem\">PERSON</span>\n",
       "</mark>\n",
       " Uttarakhand \n",
       "<mark class=\"entity\" style=\"background: #bfe1d9; padding: 0.45em 0.6em; margin: 0 0.25em; line-height: 1; border-radius: 0.35em;\">\n",
       "    263153\n",
       "    <span style=\"font-size: 0.8em; font-weight: bold; line-height: 1; border-radius: 0.35em; vertical-align: middle; margin-left: 0.5rem\">DATE</span>\n",
       "</mark>\n",
       "<br><br>GST No: 05AAJCA4974F1ZM<br><br>Billing Period<br><br>Description<br><br>Cloud<br>panthers<br><br>TAX INVOICE<br><br>Invoice : CP/23-24/46<br>Date of Issue : 09/08/2023<br><br>For: Salesforce Implementation<br><br>Amount<br><br>Salesforce Implementation - Go Live Milestone (\n",
       "<mark class=\"entity\" style=\"background: #e4e7d2; padding: 0.45em 0.6em; margin: 0 0.25em; line-height: 1; border-radius: 0.35em;\">\n",
       "    25%\n",
       "    <span style=\"font-size: 0.8em; font-weight: bold; line-height: 1; border-radius: 0.35em; vertical-align: middle; margin-left: 0.5rem\">PERCENT</span>\n",
       "</mark>\n",
       " of<br><br>Scope of work)<br><br>INR \n",
       "<mark class=\"entity\" style=\"background: #e4e7d2; padding: 0.45em 0.6em; margin: 0 0.25em; line-height: 1; border-radius: 0.35em;\">\n",
       "    162500.00\n",
       "    <span style=\"font-size: 0.8em; font-weight: bold; line-height: 1; border-radius: 0.35em; vertical-align: middle; margin-left: 0.5rem\">CARDINAL</span>\n",
       "</mark>\n",
       "<br><br>\n",
       "<mark class=\"entity\" style=\"background: #f0d0ff; padding: 0.45em 0.6em; margin: 0 0.25em; line-height: 1; border-radius: 0.35em;\">\n",
       "    Payment Term:\n",
       "    <span style=\"font-size: 0.8em; font-weight: bold; line-height: 1; border-radius: 0.35em; vertical-align: middle; margin-left: 0.5rem\">WORK_OF_ART</span>\n",
       "</mark>\n",
       " \n",
       "<mark class=\"entity\" style=\"background: #bfe1d9; padding: 0.45em 0.6em; margin: 0 0.25em; line-height: 1; border-radius: 0.35em;\">\n",
       "    7 Days\n",
       "    <span style=\"font-size: 0.8em; font-weight: bold; line-height: 1; border-radius: 0.35em; vertical-align: middle; margin-left: 0.5rem\">DATE</span>\n",
       "</mark>\n",
       "<br>SWIFT Code: ICICINBBCTS<br>IFSC Code:ICIC0000037<br>Account No: 003705017692<br><br>INR 162,500.00<br><br>GST @ \n",
       "<mark class=\"entity\" style=\"background: #e4e7d2; padding: 0.45em 0.6em; margin: 0 0.25em; line-height: 1; border-radius: 0.35em;\">\n",
       "    18.00%\n",
       "    <span style=\"font-size: 0.8em; font-weight: bold; line-height: 1; border-radius: 0.35em; vertical-align: middle; margin-left: 0.5rem\">PERCENT</span>\n",
       "</mark>\n",
       " INR 29,250.00<br><br>Total Amount INR \n",
       "<mark class=\"entity\" style=\"background: #bfe1d9; padding: 0.45em 0.6em; margin: 0 0.25em; line-height: 1; border-radius: 0.35em;\">\n",
       "    191,750.00\n",
       "    <span style=\"font-size: 0.8em; font-weight: bold; line-height: 1; border-radius: 0.35em; vertical-align: middle; margin-left: 0.5rem\">DATE</span>\n",
       "</mark>\n",
       "<br><br>\n",
       "<mark class=\"entity\" style=\"background: #f0d0ff; padding: 0.45em 0.6em; margin: 0 0.25em; line-height: 1; border-radius: 0.35em;\">\n",
       "    Beneficiary Name: PANTHERSCLOUD TECHNOLOGY SERVICES PVT LTD\n",
       "\n",
       "Account Type: Current\n",
       "Bank Name: ICICI Bank\n",
       "\n",
       "Bank Address: SINCERE TOWERS IV\n",
       "    <span style=\"font-size: 0.8em; font-weight: bold; line-height: 1; border-radius: 0.35em; vertical-align: middle; margin-left: 0.5rem\">WORK_OF_ART</span>\n",
       "</mark>\n",
       ", \n",
       "<mark class=\"entity\" style=\"background: #7aecec; padding: 0.45em 0.6em; margin: 0 0.25em; line-height: 1; border-radius: 0.35em;\">\n",
       "    COMMUNITY CENTRE\n",
       "    <span style=\"font-size: 0.8em; font-weight: bold; line-height: 1; border-radius: 0.35em; vertical-align: middle; margin-left: 0.5rem\">ORG</span>\n",
       "</mark>\n",
       ", PREET VIHAR, \n",
       "<mark class=\"entity\" style=\"background: #7aecec; padding: 0.45em 0.6em; margin: 0 0.25em; line-height: 1; border-radius: 0.35em;\">\n",
       "    DELHI\n",
       "    <span style=\"font-size: 0.8em; font-weight: bold; line-height: 1; border-radius: 0.35em; vertical-align: middle; margin-left: 0.5rem\">ORG</span>\n",
       "</mark>\n",
       ". \n",
       "<mark class=\"entity\" style=\"background: #bfe1d9; padding: 0.45em 0.6em; margin: 0 0.25em; line-height: 1; border-radius: 0.35em;\">\n",
       "    110092\n",
       "    <span style=\"font-size: 0.8em; font-weight: bold; line-height: 1; border-radius: 0.35em; vertical-align: middle; margin-left: 0.5rem\">DATE</span>\n",
       "</mark>\n",
       ", \n",
       "<mark class=\"entity\" style=\"background: #feca74; padding: 0.45em 0.6em; margin: 0 0.25em; line-height: 1; border-radius: 0.35em;\">\n",
       "    INDIA\n",
       "    <span style=\"font-size: 0.8em; font-weight: bold; line-height: 1; border-radius: 0.35em; vertical-align: middle; margin-left: 0.5rem\">GPE</span>\n",
       "</mark>\n",
       "<br><br>www.cloudpanthers.com<br><br>\n",
       "<mark class=\"entity\" style=\"background: #aa9cfc; padding: 0.45em 0.6em; margin: 0 0.25em; line-height: 1; border-radius: 0.35em;\">\n",
       "    Archana Wale\n",
       "    <span style=\"font-size: 0.8em; font-weight: bold; line-height: 1; border-radius: 0.35em; vertical-align: middle; margin-left: 0.5rem\">PERSON</span>\n",
       "</mark>\n",
       "<br><br>For \n",
       "<mark class=\"entity\" style=\"background: #7aecec; padding: 0.45em 0.6em; margin: 0 0.25em; line-height: 1; border-radius: 0.35em;\">\n",
       "    PanthersCloud Technology Services\n",
       "    <span style=\"font-size: 0.8em; font-weight: bold; line-height: 1; border-radius: 0.35em; vertical-align: middle; margin-left: 0.5rem\">ORG</span>\n",
       "</mark>\n",
       " Pvt. Ltd.<br></div></span>"
      ],
      "text/plain": [
       "<IPython.core.display.HTML object>"
      ]
     },
     "metadata": {},
     "output_type": "display_data"
    }
   ],
   "source": [
    "displacy.render(doc,style=\"ent\")"
   ]
  },
  {
   "cell_type": "code",
   "execution_count": null,
   "id": "367aadf5",
   "metadata": {},
   "outputs": [],
   "source": []
  }
 ],
 "metadata": {
  "kernelspec": {
   "display_name": "Python 3 (ipykernel)",
   "language": "python",
   "name": "python3"
  },
  "language_info": {
   "codemirror_mode": {
    "name": "ipython",
    "version": 3
   },
   "file_extension": ".py",
   "mimetype": "text/x-python",
   "name": "python",
   "nbconvert_exporter": "python",
   "pygments_lexer": "ipython3",
   "version": "3.11.4"
  }
 },
 "nbformat": 4,
 "nbformat_minor": 5
}
