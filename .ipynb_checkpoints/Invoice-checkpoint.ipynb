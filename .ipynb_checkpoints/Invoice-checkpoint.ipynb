{
 "cells": [
  {
   "cell_type": "code",
   "execution_count": 1,
   "id": "5130e700",
   "metadata": {},
   "outputs": [],
   "source": [
    "# Road_Map of the task\n",
    "\n",
    "# first extract the data from pdf images\n",
    "# create the labled data set using collecting the data "
   ]
  },
  {
   "cell_type": "markdown",
   "id": "208e161a",
   "metadata": {},
   "source": [
    "# Collecting the data"
   ]
  },
  {
   "cell_type": "code",
   "execution_count": 16,
   "id": "e85c6721",
   "metadata": {},
   "outputs": [],
   "source": [
    "import pandas as pd\n",
    "import PyPDF2\n",
    "import os\n",
    "import warnings\n",
    "warnings.filterwarnings('ignore')"
   ]
  },
  {
   "cell_type": "code",
   "execution_count": 17,
   "id": "eea66dd3",
   "metadata": {},
   "outputs": [
    {
     "name": "stdout",
     "output_type": "stream",
     "text": [
      "1812\n"
     ]
    }
   ],
   "source": [
    "file_path = r\"D:\\Data Science(Ekeeda)\\Projects\\document_classsification\\fwpurchaseinvoice\\01.pdf\"\n",
    "\n",
    "\n",
    "with open(file_path, \"rb\") as file:\n",
    "    data = PyPDF2.PdfReader(file)\n",
    "    page = data.pages[0]\n",
    "    text = page.extract_text()\n",
    "    print(len(text))"
   ]
  },
  {
   "cell_type": "code",
   "execution_count": 18,
   "id": "9445ce4d",
   "metadata": {},
   "outputs": [],
   "source": [
    "path = r\"D:\\Data Science(Ekeeda)\\Projects\\document_classsification\\fwpurchaseinvoice\"\n",
    "\n",
    "def pdf_to_Data(path,label):\n",
    "    pdf_text_list = [] \n",
    "\n",
    "    for filename in os.listdir(path):\n",
    "        file_path = os.path.join(path, filename)\n",
    "        if filename.endswith('.pdf'):\n",
    "            with open(file_path, \"rb\") as file:\n",
    "                pdf_reader = PyPDF2.PdfReader(file)\n",
    "                pdf_text = \"\" \n",
    "                for i in range(len(pdf_reader.pages)):\n",
    "                    page = pdf_reader.pages[i]\n",
    "                    pdf_text += page.extract_text()\n",
    "                    pdf_text_list.append(pdf_text)\n",
    "    \n",
    "    data = pd.DataFrame(pdf_text_list,columns=['Text'])\n",
    "    for i in range(len(data[\"Text\"])):\n",
    "        data['Label'] = label\n",
    "    \n",
    "    return data"
   ]
  },
  {
   "cell_type": "code",
   "execution_count": 19,
   "id": "41f45c67",
   "metadata": {},
   "outputs": [
    {
     "name": "stderr",
     "output_type": "stream",
     "text": [
      "PdfReadError(\"Invalid Elementary Object starting with b'\\\\x00' @2736: b'ProcSet [/PDF /Text \\\\x00\\\\x00/ImageB]\\\\r\\\\n/Font <<\\\\r\\\\n/F2 11 0 R\\\\r\\\\n/F1 7 0 R\\\\r\\\\n/F4 13 0 R\\\\r\\\\n/F3'\")\n",
      " impossible to decode XFormObject /Im1\n"
     ]
    }
   ],
   "source": [
    "purchase_invoice_data = pdf_to_Data(path,1)"
   ]
  },
  {
   "cell_type": "code",
   "execution_count": 20,
   "id": "a143ad0b",
   "metadata": {},
   "outputs": [
    {
     "data": {
      "text/html": [
       "<div>\n",
       "<style scoped>\n",
       "    .dataframe tbody tr th:only-of-type {\n",
       "        vertical-align: middle;\n",
       "    }\n",
       "\n",
       "    .dataframe tbody tr th {\n",
       "        vertical-align: top;\n",
       "    }\n",
       "\n",
       "    .dataframe thead th {\n",
       "        text-align: right;\n",
       "    }\n",
       "</style>\n",
       "<table border=\"1\" class=\"dataframe\">\n",
       "  <thead>\n",
       "    <tr style=\"text-align: right;\">\n",
       "      <th></th>\n",
       "      <th>Text</th>\n",
       "      <th>Label</th>\n",
       "    </tr>\n",
       "  </thead>\n",
       "  <tbody>\n",
       "    <tr>\n",
       "      <th>0</th>\n",
       "      <td>Tax Invoice\\nPBR NETWORKING SOLUTION\\nPLOT NO....</td>\n",
       "      <td>1</td>\n",
       "    </tr>\n",
       "    <tr>\n",
       "      <th>1</th>\n",
       "      <td>Tax Invoice cum Delivery Challan \\n(Original) ...</td>\n",
       "      <td>1</td>\n",
       "    </tr>\n",
       "    <tr>\n",
       "      <th>2</th>\n",
       "      <td>GST TAX INVOICE\\nAadhar Electronics\\n69/57, V....</td>\n",
       "      <td>1</td>\n",
       "    </tr>\n",
       "    <tr>\n",
       "      <th>3</th>\n",
       "      <td>Printed on 23-Jun-23 at 13:41Tax Invoice\\nBina...</td>\n",
       "      <td>1</td>\n",
       "    </tr>\n",
       "    <tr>\n",
       "      <th>4</th>\n",
       "      <td>�����������\\n�����������������������������\\n��...</td>\n",
       "      <td>1</td>\n",
       "    </tr>\n",
       "  </tbody>\n",
       "</table>\n",
       "</div>"
      ],
      "text/plain": [
       "                                                Text  Label\n",
       "0  Tax Invoice\\nPBR NETWORKING SOLUTION\\nPLOT NO....      1\n",
       "1  Tax Invoice cum Delivery Challan \\n(Original) ...      1\n",
       "2  GST TAX INVOICE\\nAadhar Electronics\\n69/57, V....      1\n",
       "3  Printed on 23-Jun-23 at 13:41Tax Invoice\\nBina...      1\n",
       "4  �����������\\n�����������������������������\\n��...      1"
      ]
     },
     "execution_count": 20,
     "metadata": {},
     "output_type": "execute_result"
    }
   ],
   "source": [
    "purchase_invoice_data.head()"
   ]
  },
  {
   "cell_type": "code",
   "execution_count": 41,
   "id": "230c25b6",
   "metadata": {},
   "outputs": [],
   "source": [
    "sales_invoice_data = pdf_to_Data(r\"D:\\Data Science(Ekeeda)\\Projects\\document_classsification\\fwsalesinvoice\",0)"
   ]
  },
  {
   "cell_type": "code",
   "execution_count": 43,
   "id": "b2b154db",
   "metadata": {},
   "outputs": [
    {
     "data": {
      "text/html": [
       "<div>\n",
       "<style scoped>\n",
       "    .dataframe tbody tr th:only-of-type {\n",
       "        vertical-align: middle;\n",
       "    }\n",
       "\n",
       "    .dataframe tbody tr th {\n",
       "        vertical-align: top;\n",
       "    }\n",
       "\n",
       "    .dataframe thead th {\n",
       "        text-align: right;\n",
       "    }\n",
       "</style>\n",
       "<table border=\"1\" class=\"dataframe\">\n",
       "  <thead>\n",
       "    <tr style=\"text-align: right;\">\n",
       "      <th></th>\n",
       "      <th>Text</th>\n",
       "      <th>Label</th>\n",
       "    </tr>\n",
       "  </thead>\n",
       "  <tbody>\n",
       "    <tr>\n",
       "      <th>0</th>\n",
       "      <td>Tax Invoice\\nIRN :54bb0147c70619b645ee1425d3b4...</td>\n",
       "      <td>0</td>\n",
       "    </tr>\n",
       "    <tr>\n",
       "      <th>1</th>\n",
       "      <td>Tax Invoice\\nIRN :54bb0147c70619b645ee1425d3b4...</td>\n",
       "      <td>0</td>\n",
       "    </tr>\n",
       "    <tr>\n",
       "      <th>2</th>\n",
       "      <td>Tax Invoice\\nIRN :34e5f30cbdebad292553010c9e50...</td>\n",
       "      <td>0</td>\n",
       "    </tr>\n",
       "    <tr>\n",
       "      <th>3</th>\n",
       "      <td>Tax Invoice\\nIRN :f4dee3e2b2dd974fb9a0eae90a3d...</td>\n",
       "      <td>0</td>\n",
       "    </tr>\n",
       "    <tr>\n",
       "      <th>4</th>\n",
       "      <td>Tax Invoice\\nIRN :f4dee3e2b2dd974fb9a0eae90a3d...</td>\n",
       "      <td>0</td>\n",
       "    </tr>\n",
       "    <tr>\n",
       "      <th>5</th>\n",
       "      <td>Tax Invoice\\nIRN :af3d5e1550c90ff2776519a6260c...</td>\n",
       "      <td>0</td>\n",
       "    </tr>\n",
       "    <tr>\n",
       "      <th>6</th>\n",
       "      <td>Tax Invoice\\nB M Infotrade Private Limited\\n53...</td>\n",
       "      <td>0</td>\n",
       "    </tr>\n",
       "    <tr>\n",
       "      <th>7</th>\n",
       "      <td>Tax Invoice\\nB M Infotrade Private Limited\\n53...</td>\n",
       "      <td>0</td>\n",
       "    </tr>\n",
       "    <tr>\n",
       "      <th>8</th>\n",
       "      <td>Tax Invoice\\nIRN :78d3c05a9648ad03726e943dafaf...</td>\n",
       "      <td>0</td>\n",
       "    </tr>\n",
       "    <tr>\n",
       "      <th>9</th>\n",
       "      <td>Tax Invoice\\nIRN :313e444837f4f05b538cae7f071b...</td>\n",
       "      <td>0</td>\n",
       "    </tr>\n",
       "    <tr>\n",
       "      <th>10</th>\n",
       "      <td>Tax Invoice\\nIRN :66f48af02e9b70d4aa1df943915d...</td>\n",
       "      <td>0</td>\n",
       "    </tr>\n",
       "    <tr>\n",
       "      <th>11</th>\n",
       "      <td>Tax Invoice\\nIRN :66f48af02e9b70d4aa1df943915d...</td>\n",
       "      <td>0</td>\n",
       "    </tr>\n",
       "    <tr>\n",
       "      <th>12</th>\n",
       "      <td>Tax Invoice\\nIRN :66f48af02e9b70d4aa1df943915d...</td>\n",
       "      <td>0</td>\n",
       "    </tr>\n",
       "    <tr>\n",
       "      <th>13</th>\n",
       "      <td>Tax Invoice\\nIRN :bf5c6f92c11532178c4af74dee57...</td>\n",
       "      <td>0</td>\n",
       "    </tr>\n",
       "    <tr>\n",
       "      <th>14</th>\n",
       "      <td>Tax Invoice\\nIRN :e08bc0855bf39dda285351541242...</td>\n",
       "      <td>0</td>\n",
       "    </tr>\n",
       "    <tr>\n",
       "      <th>15</th>\n",
       "      <td>Tax Invoice\\nIRN :1f9decd4eb6e823a7fb4dd90eb08...</td>\n",
       "      <td>0</td>\n",
       "    </tr>\n",
       "  </tbody>\n",
       "</table>\n",
       "</div>"
      ],
      "text/plain": [
       "                                                 Text  Label\n",
       "0   Tax Invoice\\nIRN :54bb0147c70619b645ee1425d3b4...      0\n",
       "1   Tax Invoice\\nIRN :54bb0147c70619b645ee1425d3b4...      0\n",
       "2   Tax Invoice\\nIRN :34e5f30cbdebad292553010c9e50...      0\n",
       "3   Tax Invoice\\nIRN :f4dee3e2b2dd974fb9a0eae90a3d...      0\n",
       "4   Tax Invoice\\nIRN :f4dee3e2b2dd974fb9a0eae90a3d...      0\n",
       "5   Tax Invoice\\nIRN :af3d5e1550c90ff2776519a6260c...      0\n",
       "6   Tax Invoice\\nB M Infotrade Private Limited\\n53...      0\n",
       "7   Tax Invoice\\nB M Infotrade Private Limited\\n53...      0\n",
       "8   Tax Invoice\\nIRN :78d3c05a9648ad03726e943dafaf...      0\n",
       "9   Tax Invoice\\nIRN :313e444837f4f05b538cae7f071b...      0\n",
       "10  Tax Invoice\\nIRN :66f48af02e9b70d4aa1df943915d...      0\n",
       "11  Tax Invoice\\nIRN :66f48af02e9b70d4aa1df943915d...      0\n",
       "12  Tax Invoice\\nIRN :66f48af02e9b70d4aa1df943915d...      0\n",
       "13  Tax Invoice\\nIRN :bf5c6f92c11532178c4af74dee57...      0\n",
       "14  Tax Invoice\\nIRN :e08bc0855bf39dda285351541242...      0\n",
       "15  Tax Invoice\\nIRN :1f9decd4eb6e823a7fb4dd90eb08...      0"
      ]
     },
     "execution_count": 43,
     "metadata": {},
     "output_type": "execute_result"
    }
   ],
   "source": [
    "sales_invoice_data"
   ]
  },
  {
   "cell_type": "code",
   "execution_count": 13,
   "id": "303f1493",
   "metadata": {},
   "outputs": [],
   "source": [
    "invoice_data = pd.concat([sales_invoice_data,purchase_invoice_data],ignore_index=True)"
   ]
  },
  {
   "cell_type": "code",
   "execution_count": 40,
   "id": "25cb76fa",
   "metadata": {},
   "outputs": [
    {
     "data": {
      "text/html": [
       "<div>\n",
       "<style scoped>\n",
       "    .dataframe tbody tr th:only-of-type {\n",
       "        vertical-align: middle;\n",
       "    }\n",
       "\n",
       "    .dataframe tbody tr th {\n",
       "        vertical-align: top;\n",
       "    }\n",
       "\n",
       "    .dataframe thead th {\n",
       "        text-align: right;\n",
       "    }\n",
       "</style>\n",
       "<table border=\"1\" class=\"dataframe\">\n",
       "  <thead>\n",
       "    <tr style=\"text-align: right;\">\n",
       "      <th></th>\n",
       "      <th>Text</th>\n",
       "      <th>Label</th>\n",
       "    </tr>\n",
       "  </thead>\n",
       "  <tbody>\n",
       "    <tr>\n",
       "      <th>0</th>\n",
       "      <td>Tax Invoice\\nIRN :54bb0147c70619b645ee1425d3b4...</td>\n",
       "      <td>0</td>\n",
       "    </tr>\n",
       "    <tr>\n",
       "      <th>1</th>\n",
       "      <td>Tax Invoice\\nIRN :54bb0147c70619b645ee1425d3b4...</td>\n",
       "      <td>0</td>\n",
       "    </tr>\n",
       "    <tr>\n",
       "      <th>2</th>\n",
       "      <td>Tax Invoice\\nIRN :34e5f30cbdebad292553010c9e50...</td>\n",
       "      <td>0</td>\n",
       "    </tr>\n",
       "    <tr>\n",
       "      <th>3</th>\n",
       "      <td>Tax Invoice\\nIRN :f4dee3e2b2dd974fb9a0eae90a3d...</td>\n",
       "      <td>0</td>\n",
       "    </tr>\n",
       "    <tr>\n",
       "      <th>4</th>\n",
       "      <td>Tax Invoice\\nIRN :f4dee3e2b2dd974fb9a0eae90a3d...</td>\n",
       "      <td>0</td>\n",
       "    </tr>\n",
       "  </tbody>\n",
       "</table>\n",
       "</div>"
      ],
      "text/plain": [
       "                                                Text  Label\n",
       "0  Tax Invoice\\nIRN :54bb0147c70619b645ee1425d3b4...      0\n",
       "1  Tax Invoice\\nIRN :54bb0147c70619b645ee1425d3b4...      0\n",
       "2  Tax Invoice\\nIRN :34e5f30cbdebad292553010c9e50...      0\n",
       "3  Tax Invoice\\nIRN :f4dee3e2b2dd974fb9a0eae90a3d...      0\n",
       "4  Tax Invoice\\nIRN :f4dee3e2b2dd974fb9a0eae90a3d...      0"
      ]
     },
     "execution_count": 40,
     "metadata": {},
     "output_type": "execute_result"
    }
   ],
   "source": [
    "invoice_data.head()"
   ]
  },
  {
   "cell_type": "code",
   "execution_count": 54,
   "id": "de39bc72",
   "metadata": {},
   "outputs": [],
   "source": [
    "data  = sales_invoice_data[\"Text\"][0]"
   ]
  },
  {
   "cell_type": "code",
   "execution_count": null,
   "id": "7757336f",
   "metadata": {},
   "outputs": [],
   "source": []
  },
  {
   "cell_type": "code",
   "execution_count": 61,
   "id": "65019bc0",
   "metadata": {},
   "outputs": [
    {
     "name": "stdout",
     "output_type": "stream",
     "text": [
      "Company Names:\n",
      "[]\n"
     ]
    }
   ],
   "source": [
    "import re\n",
    "\n",
    "company_name_pattern = r\"e-Invoice\\\\n(.*?) (?:Ltd\\.|Limited)\\\\n\"\n",
    "\n",
    "matches = re.findall(company_name_pattern, data)\n",
    "\n",
    "print(\"Company Names:\")\n",
    "print(matches)"
   ]
  },
  {
   "cell_type": "code",
   "execution_count": 59,
   "id": "723baf82",
   "metadata": {},
   "outputs": [
    {
     "name": "stdout",
     "output_type": "stream",
     "text": [
      "Mail IDs:\n",
      "['beena@bmtraders.com', 'beena@bmtraders.com', 'beena@bmtraders.com', 'beena@bmtraders.com', 'beena@bmtraders.com', 'beena@bmtraders.com', 'beena@bmtraders.com', 'beena@bmtraders.com', 'beena@bmtraders.com', 'beena@bmtraders.com', 'beena@bmtraders.com', 'beena@bmtraders.com', 'beena@bmtraders.com', 'beena@bmtraders.com', 'beena@bmtraders.com', 'beena@bmtraders.com']\n"
     ]
    }
   ],
   "source": [
    "company_name_pattern = r\"e-Invoice\\\\n(.*?)(?:Limited|Ltd)\\\\n\"\n",
    "\n",
    "mail_ids = []\n",
    "\n",
    "for text in sales_invoice_data['Text']:\n",
    "\n",
    "    mail_match = re.search(mail_id_pattern, text)\n",
    "    if mail_match:\n",
    "        mail_id = mail_match.group()\n",
    "        mail_ids.append(mail_id)\n",
    "        \n",
    "print(\"Mail IDs:\")\n",
    "print(mail_ids)\n"
   ]
  }
 ],
 "metadata": {
  "kernelspec": {
   "display_name": "Python 3 (ipykernel)",
   "language": "python",
   "name": "python3"
  },
  "language_info": {
   "codemirror_mode": {
    "name": "ipython",
    "version": 3
   },
   "file_extension": ".py",
   "mimetype": "text/x-python",
   "name": "python",
   "nbconvert_exporter": "python",
   "pygments_lexer": "ipython3",
   "version": "3.9.13"
  }
 },
 "nbformat": 4,
 "nbformat_minor": 5
}
