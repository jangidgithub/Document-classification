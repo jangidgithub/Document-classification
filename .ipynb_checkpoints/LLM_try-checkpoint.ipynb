{
 "cells": [
  {
   "cell_type": "code",
   "execution_count": 9,
   "id": "aee9f318",
   "metadata": {},
   "outputs": [],
   "source": [
    "import pandas as pd"
   ]
  },
  {
   "cell_type": "code",
   "execution_count": 10,
   "id": "13ecc7a4",
   "metadata": {},
   "outputs": [],
   "source": [
    "main_data = pd.DataFrame(columns=[\"Buyer\", \"Saler\", \"Products\", \"Total_amount\", \"Invoice Type\"])"
   ]
  },
  {
   "cell_type": "code",
   "execution_count": 11,
   "id": "0fd6272e",
   "metadata": {},
   "outputs": [],
   "source": [
    "def data_creator(buyer, saler, item, amount=0, type_='NONE'):\n",
    "    data_dict = {\n",
    "        \"Buyer\": buyer,\n",
    "        \"Saler\": saler,\n",
    "        \"Products\": item,\n",
    "        \"Total_amount\": amount,\n",
    "        \"Invoice Type\": type_\n",
    "    }\n",
    "    data = pd.DataFrame([data_dict])\n",
    "    return data"
   ]
  },
  {
   "cell_type": "code",
   "execution_count": 13,
   "id": "ea4f6a9b",
   "metadata": {},
   "outputs": [],
   "source": [
    "sales_data = data_creator(buyer = \"IBM\", saler=\"Rahul\", item=\"Model\",amount = \"5Cr\")"
   ]
  },
  {
   "cell_type": "code",
   "execution_count": null,
   "id": "ba0a1c7b",
   "metadata": {},
   "outputs": [],
   "source": [
    "main_data = pd.concat([main_data, sales_data], ignore_index=True)"
   ]
  },
  {
   "cell_type": "code",
   "execution_count": null,
   "id": "efa65aa3",
   "metadata": {},
   "outputs": [],
   "source": []
  }
 ],
 "metadata": {
  "kernelspec": {
   "display_name": "Python 3 (ipykernel)",
   "language": "python",
   "name": "python3"
  },
  "language_info": {
   "codemirror_mode": {
    "name": "ipython",
    "version": 3
   },
   "file_extension": ".py",
   "mimetype": "text/x-python",
   "name": "python",
   "nbconvert_exporter": "python",
   "pygments_lexer": "ipython3",
   "version": "3.11.4"
  }
 },
 "nbformat": 4,
 "nbformat_minor": 5
}
