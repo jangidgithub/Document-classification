{
 "cells": [
  {
   "cell_type": "markdown",
   "metadata": {
    "id": "wN1DI8ImB2Zq"
   },
   "source": [
    "# Installs"
   ]
  },
  {
   "cell_type": "code",
   "execution_count": 1,
   "metadata": {
    "colab": {
     "base_uri": "https://localhost:8080/"
    },
    "executionInfo": {
     "elapsed": 8916,
     "status": "ok",
     "timestamp": 1617106112824,
     "user": {
      "displayName": "Bhavesh Bhatt",
      "photoUrl": "https://lh3.googleusercontent.com/a-/AOh14Ggn1iyaPhugkkpQYFRw42nt9ToNB-Rit7YeWtI4Zw=s64",
      "userId": "01561702845917398436"
     },
     "user_tz": -330
    },
    "id": "RJyQ6k4iJyax",
    "outputId": "7016c893-c414-4d90-ac13-519a24f01963"
   },
   "outputs": [],
   "source": [
    "# !pip install -q transformers==4.4.2"
   ]
  },
  {
   "cell_type": "code",
   "execution_count": 2,
   "metadata": {
    "colab": {
     "base_uri": "https://localhost:8080/",
     "height": 35
    },
    "executionInfo": {
     "elapsed": 3768,
     "status": "ok",
     "timestamp": 1617106131067,
     "user": {
      "displayName": "Bhavesh Bhatt",
      "photoUrl": "https://lh3.googleusercontent.com/a-/AOh14Ggn1iyaPhugkkpQYFRw42nt9ToNB-Rit7YeWtI4Zw=s64",
      "userId": "01561702845917398436"
     },
     "user_tz": -330
    },
    "id": "0g5YKgdw4sXi",
    "outputId": "8fa53680-5c33-4fdc-cab7-834e3bb2c959"
   },
   "outputs": [
    {
     "data": {
      "text/plain": [
       "'2.0.1+cpu'"
      ]
     },
     "execution_count": 2,
     "metadata": {},
     "output_type": "execute_result"
    }
   ],
   "source": [
    "import torch\n",
    "torch.__version__"
   ]
  },
  {
   "cell_type": "code",
   "execution_count": 3,
   "metadata": {
    "colab": {
     "base_uri": "https://localhost:8080/"
    },
    "executionInfo": {
     "elapsed": 4703,
     "status": "ok",
     "timestamp": 1617106144637,
     "user": {
      "displayName": "Bhavesh Bhatt",
      "photoUrl": "https://lh3.googleusercontent.com/a-/AOh14Ggn1iyaPhugkkpQYFRw42nt9ToNB-Rit7YeWtI4Zw=s64",
      "userId": "01561702845917398436"
     },
     "user_tz": -330
    },
    "id": "6lrnSxsTPhFC",
    "outputId": "b34cee9d-74de-4944-942a-4caf1645b9c3"
   },
   "outputs": [],
   "source": [
    "# !pip install torch-scatter -f https://pytorch-geometric.com/whl/torch-1.8.0+cu101.html"
   ]
  },
  {
   "cell_type": "code",
   "execution_count": 4,
   "metadata": {},
   "outputs": [],
   "source": [
    "# pip install transformers"
   ]
  },
  {
   "cell_type": "markdown",
   "metadata": {
    "id": "Gmdftz_CBWMR"
   },
   "source": [
    "# Imports"
   ]
  },
  {
   "cell_type": "code",
   "execution_count": 5,
   "metadata": {
    "executionInfo": {
     "elapsed": 4136,
     "status": "ok",
     "timestamp": 1617106166462,
     "user": {
      "displayName": "Bhavesh Bhatt",
      "photoUrl": "https://lh3.googleusercontent.com/a-/AOh14Ggn1iyaPhugkkpQYFRw42nt9ToNB-Rit7YeWtI4Zw=s64",
      "userId": "01561702845917398436"
     },
     "user_tz": -330
    },
    "id": "Q2r2JHK0N6yq"
   },
   "outputs": [],
   "source": [
    "from transformers import pipeline\n",
    "import pandas as pd"
   ]
  },
  {
   "cell_type": "code",
   "execution_count": 6,
   "metadata": {
    "colab": {
     "base_uri": "https://localhost:8080/",
     "height": 263,
     "referenced_widgets": [
      "aa220e30f04a4357925b7f37d22ea8a8",
      "c0d32a02e4df4f37a0e8cd4dd7a179ab",
      "7a74f0bb537c4296898fa5608e72f45f",
      "b166fcd77e704344ae4e4f234810095d",
      "8f2c6ef7a3d54f50af026f0cbe7ae9bf",
      "a9f25d62c4084afb97cf9075bcec2e3e",
      "8dd3126407ce4ef5bd6e629c352d1265",
      "63759a3f1ddf488d9fef72027f6065d0",
      "c90bd54229554ac4bd3fefbb2615975b",
      "13f136cfe70244d8b99e3b34b658c9a6",
      "ec0b16a187cd4643a08189a60cf4c057",
      "1bac2b32ff074233a365cbcac3039db6",
      "f1dc2daa21c54a06bbeb5d9bb1fcfb63",
      "62fbca1f9fde4628bf398be3cb3f2b80",
      "c358ee22865e44bb8e38bcaf520e3a3d",
      "b0e94f076fb7481f81fcae36fce7d964",
      "90c2f8a82885498192ac5e6bd24cd90c",
      "fd77ef7dee2542c8a7567d65f3208a4a",
      "168e784a1475442f9e6e438eb628ddc8",
      "a00f41c2933b4d3cb304de3ea711cf2c",
      "5fb4cae2e27e43089c0858abd3c6efd4",
      "4f2b5be1bd37474ca8d2f80807102b8d",
      "7f64c2fcbb304fb09c00de42cc8c4ecc",
      "062acdd66b8d467ab86cd01117c64de1",
      "5dd59a88e24d4b2395e759c732897f60",
      "062cd880b2ff441499704e33324f5979",
      "811b57105c8f4080952f1a1123d18484",
      "cae28d94c60a4d9e8e0ae353ab056888",
      "1647a219eed6473b96516eddcfd52232",
      "d0877f60eec846f5835cc42a9cb9cef3",
      "2ab145d5e2104d8582a71c01f7d74197",
      "73161ef594a140e6b19cd4fe9efc9a46",
      "79e78cc5b140428c9d4ce5d728fdc99d",
      "f6f74dbf2a91452d9a7a24192e11af33",
      "bbd65a0dc96243f7a6e2c13da1bcf9d8",
      "a9010111d88a4ae6b7122520233eead0",
      "725d1d255be6482bbe53a9559c61d025",
      "724a318a3eca4e4bb57f98451a4a8542",
      "186055eca65142498fcf332a5e0f82a6",
      "f3495ea4556d43f0a01c9a4f74d4ecad"
     ]
    },
    "executionInfo": {
     "elapsed": 21144,
     "status": "ok",
     "timestamp": 1617106194352,
     "user": {
      "displayName": "Bhavesh Bhatt",
      "photoUrl": "https://lh3.googleusercontent.com/a-/AOh14Ggn1iyaPhugkkpQYFRw42nt9ToNB-Rit7YeWtI4Zw=s64",
      "userId": "01561702845917398436"
     },
     "user_tz": -330
    },
    "id": "iNYJ2B_H31wx",
    "outputId": "65ee571f-ad88-4792-912b-7b838a7e04bc"
   },
   "outputs": [],
   "source": [
    "tqa = pipeline(task=\"table-question-answering\", \n",
    "               model=\"google/tapas-base-finetuned-wtq\")"
   ]
  },
  {
   "cell_type": "markdown",
   "metadata": {
    "id": "07mxxHBiBYZD"
   },
   "source": [
    "# Reading Data"
   ]
  },
  {
   "cell_type": "code",
   "execution_count": 7,
   "metadata": {},
   "outputs": [],
   "source": [
    "# pip install openpyxl"
   ]
  },
  {
   "cell_type": "code",
   "execution_count": 10,
   "metadata": {
    "executionInfo": {
     "elapsed": 918,
     "status": "ok",
     "timestamp": 1617106208686,
     "user": {
      "displayName": "Bhavesh Bhatt",
      "photoUrl": "https://lh3.googleusercontent.com/a-/AOh14Ggn1iyaPhugkkpQYFRw42nt9ToNB-Rit7YeWtI4Zw=s64",
      "userId": "01561702845917398436"
     },
     "user_tz": -330
    },
    "id": "6IxgPs-S36qW"
   },
   "outputs": [],
   "source": [
    "# table = pd.read_csv(\"data.csv\")\n",
    "table = pd.read_excel(r\"Yatra Data.xlsx\")\n",
    "table = table.astype(str)"
   ]
  },
  {
   "cell_type": "code",
   "execution_count": 11,
   "metadata": {
    "colab": {
     "base_uri": "https://localhost:8080/",
     "height": 546
    },
    "executionInfo": {
     "elapsed": 920,
     "status": "ok",
     "timestamp": 1617106211594,
     "user": {
      "displayName": "Bhavesh Bhatt",
      "photoUrl": "https://lh3.googleusercontent.com/a-/AOh14Ggn1iyaPhugkkpQYFRw42nt9ToNB-Rit7YeWtI4Zw=s64",
      "userId": "01561702845917398436"
     },
     "user_tz": -330
    },
    "id": "7Yt-WlPB6CQA",
    "outputId": "c682f6f9-b711-4a6a-9342-06f453c87fe3"
   },
   "outputs": [
    {
     "data": {
      "text/html": [
       "<div>\n",
       "<style scoped>\n",
       "    .dataframe tbody tr th:only-of-type {\n",
       "        vertical-align: middle;\n",
       "    }\n",
       "\n",
       "    .dataframe tbody tr th {\n",
       "        vertical-align: top;\n",
       "    }\n",
       "\n",
       "    .dataframe thead th {\n",
       "        text-align: right;\n",
       "    }\n",
       "</style>\n",
       "<table border=\"1\" class=\"dataframe\">\n",
       "  <thead>\n",
       "    <tr style=\"text-align: right;\">\n",
       "      <th></th>\n",
       "      <th>Corporate</th>\n",
       "      <th>Employee</th>\n",
       "      <th>From</th>\n",
       "      <th>To</th>\n",
       "      <th>Departure Date</th>\n",
       "      <th>Return Date</th>\n",
       "      <th>Flight Outbound</th>\n",
       "      <th>Flight Inbound</th>\n",
       "    </tr>\n",
       "  </thead>\n",
       "  <tbody>\n",
       "    <tr>\n",
       "      <th>0</th>\n",
       "      <td>BCG</td>\n",
       "      <td>Ravi Shankar</td>\n",
       "      <td>DEL</td>\n",
       "      <td>BOM</td>\n",
       "      <td>2023-07-01</td>\n",
       "      <td>2023-07-03</td>\n",
       "      <td>6E5112</td>\n",
       "      <td>6E2139</td>\n",
       "    </tr>\n",
       "    <tr>\n",
       "      <th>1</th>\n",
       "      <td>BCG</td>\n",
       "      <td>Anshul Gupta</td>\n",
       "      <td>JAI</td>\n",
       "      <td>DEL</td>\n",
       "      <td>2023-07-01</td>\n",
       "      <td>2023-07-04</td>\n",
       "      <td>6E2205</td>\n",
       "      <td>SG8185</td>\n",
       "    </tr>\n",
       "    <tr>\n",
       "      <th>2</th>\n",
       "      <td>BCG</td>\n",
       "      <td>Ravi Shankar</td>\n",
       "      <td>BOM</td>\n",
       "      <td>MAA</td>\n",
       "      <td>2022-07-15</td>\n",
       "      <td>2023-06-05</td>\n",
       "      <td>AI429</td>\n",
       "      <td>6E6276</td>\n",
       "    </tr>\n",
       "    <tr>\n",
       "      <th>3</th>\n",
       "      <td>BCG</td>\n",
       "      <td>Ditick Sharma</td>\n",
       "      <td>JAI</td>\n",
       "      <td>DEL</td>\n",
       "      <td>2023-07-02</td>\n",
       "      <td>2023-07-04</td>\n",
       "      <td>6E2405</td>\n",
       "      <td>SG8185</td>\n",
       "    </tr>\n",
       "    <tr>\n",
       "      <th>4</th>\n",
       "      <td>BCG</td>\n",
       "      <td>Yogesh Arora</td>\n",
       "      <td>DEL</td>\n",
       "      <td>BLR</td>\n",
       "      <td>2023-07-02</td>\n",
       "      <td>NaT</td>\n",
       "      <td>AI429</td>\n",
       "      <td>nan</td>\n",
       "    </tr>\n",
       "    <tr>\n",
       "      <th>...</th>\n",
       "      <td>...</td>\n",
       "      <td>...</td>\n",
       "      <td>...</td>\n",
       "      <td>...</td>\n",
       "      <td>...</td>\n",
       "      <td>...</td>\n",
       "      <td>...</td>\n",
       "      <td>...</td>\n",
       "    </tr>\n",
       "    <tr>\n",
       "      <th>73</th>\n",
       "      <td>BCG</td>\n",
       "      <td>Rahul Sharma</td>\n",
       "      <td>AMD</td>\n",
       "      <td>DEL</td>\n",
       "      <td>2023-07-20</td>\n",
       "      <td>2023-07-23</td>\n",
       "      <td>6E2405</td>\n",
       "      <td>6E2753</td>\n",
       "    </tr>\n",
       "    <tr>\n",
       "      <th>74</th>\n",
       "      <td>BCG</td>\n",
       "      <td>Jaydip Rathod</td>\n",
       "      <td>PNQ</td>\n",
       "      <td>ISK</td>\n",
       "      <td>2023-07-23</td>\n",
       "      <td>NaT</td>\n",
       "      <td>6E2205</td>\n",
       "      <td>nan</td>\n",
       "    </tr>\n",
       "    <tr>\n",
       "      <th>75</th>\n",
       "      <td>BCG</td>\n",
       "      <td>Ravi Shankar</td>\n",
       "      <td>JAI</td>\n",
       "      <td>PNQ</td>\n",
       "      <td>2023-07-23</td>\n",
       "      <td>2023-07-28</td>\n",
       "      <td>AI429</td>\n",
       "      <td>6E2205</td>\n",
       "    </tr>\n",
       "    <tr>\n",
       "      <th>76</th>\n",
       "      <td>BCG</td>\n",
       "      <td>Anshul Gupta</td>\n",
       "      <td>BLR</td>\n",
       "      <td>JAI</td>\n",
       "      <td>2023-07-25</td>\n",
       "      <td>NaT</td>\n",
       "      <td>6E2405</td>\n",
       "      <td>nan</td>\n",
       "    </tr>\n",
       "    <tr>\n",
       "      <th>77</th>\n",
       "      <td>BCG</td>\n",
       "      <td>Shakti Goel</td>\n",
       "      <td>JAI</td>\n",
       "      <td>DEL</td>\n",
       "      <td>2023-07-26</td>\n",
       "      <td>2023-08-01</td>\n",
       "      <td>6E2131</td>\n",
       "      <td>6E2131</td>\n",
       "    </tr>\n",
       "  </tbody>\n",
       "</table>\n",
       "<p>78 rows × 8 columns</p>\n",
       "</div>"
      ],
      "text/plain": [
       "   Corporate       Employee From   To Departure Date Return Date  \\\n",
       "0        BCG   Ravi Shankar  DEL  BOM     2023-07-01  2023-07-03   \n",
       "1        BCG   Anshul Gupta  JAI  DEL     2023-07-01  2023-07-04   \n",
       "2        BCG   Ravi Shankar  BOM  MAA     2022-07-15  2023-06-05   \n",
       "3        BCG  Ditick Sharma  JAI  DEL     2023-07-02  2023-07-04   \n",
       "4        BCG   Yogesh Arora  DEL  BLR     2023-07-02         NaT   \n",
       "..       ...            ...  ...  ...            ...         ...   \n",
       "73       BCG   Rahul Sharma  AMD  DEL     2023-07-20  2023-07-23   \n",
       "74       BCG  Jaydip Rathod  PNQ  ISK     2023-07-23         NaT   \n",
       "75       BCG   Ravi Shankar  JAI  PNQ     2023-07-23  2023-07-28   \n",
       "76       BCG   Anshul Gupta  BLR  JAI     2023-07-25         NaT   \n",
       "77       BCG    Shakti Goel  JAI  DEL     2023-07-26  2023-08-01   \n",
       "\n",
       "   Flight Outbound Flight Inbound  \n",
       "0           6E5112         6E2139  \n",
       "1           6E2205         SG8185  \n",
       "2            AI429         6E6276  \n",
       "3           6E2405         SG8185  \n",
       "4            AI429            nan  \n",
       "..             ...            ...  \n",
       "73          6E2405         6E2753  \n",
       "74          6E2205            nan  \n",
       "75           AI429         6E2205  \n",
       "76          6E2405            nan  \n",
       "77          6E2131         6E2131  \n",
       "\n",
       "[78 rows x 8 columns]"
      ]
     },
     "execution_count": 11,
     "metadata": {},
     "output_type": "execute_result"
    }
   ],
   "source": [
    "table"
   ]
  },
  {
   "cell_type": "markdown",
   "metadata": {
    "id": "-HBn0MbyBa8B"
   },
   "source": [
    "# Magic"
   ]
  },
  {
   "cell_type": "code",
   "execution_count": 13,
   "metadata": {
    "colab": {
     "base_uri": "https://localhost:8080/"
    },
    "executionInfo": {
     "elapsed": 2024,
     "status": "ok",
     "timestamp": 1617106249471,
     "user": {
      "displayName": "Bhavesh Bhatt",
      "photoUrl": "https://lh3.googleusercontent.com/a-/AOh14Ggn1iyaPhugkkpQYFRw42nt9ToNB-Rit7YeWtI4Zw=s64",
      "userId": "01561702845917398436"
     },
     "user_tz": -330
    },
    "id": "p0CW8-s3_eD1",
    "outputId": "996a1208-fa00-4131-8d8b-227053023aa7"
   },
   "outputs": [
    {
     "name": "stdout",
     "output_type": "stream",
     "text": [
      "SG8185\n"
     ]
    }
   ],
   "source": [
    "query = \"what flight did Anshul took to DEL?\"\n",
    "print(tqa(table=table, query=query)[\"answer\"])"
   ]
  },
  {
   "cell_type": "code",
   "execution_count": 18,
   "metadata": {
    "colab": {
     "base_uri": "https://localhost:8080/"
    },
    "executionInfo": {
     "elapsed": 2485,
     "status": "ok",
     "timestamp": 1617106278107,
     "user": {
      "displayName": "Bhavesh Bhatt",
      "photoUrl": "https://lh3.googleusercontent.com/a-/AOh14Ggn1iyaPhugkkpQYFRw42nt9ToNB-Rit7YeWtI4Zw=s64",
      "userId": "01561702845917398436"
     },
     "user_tz": -330
    },
    "id": "Ys1aDQdH4QSV",
    "outputId": "77f8917c-53a6-408a-86df-b85ca451c877"
   },
   "outputs": [
    {
     "name": "stdout",
     "output_type": "stream",
     "text": [
      "SG8185\n",
      "2023-07-01\n"
     ]
    }
   ],
   "source": [
    "query = [\"What flight Ditick taking from JAI?\", \n",
    "         \"When will anshul leave for DEL\"]\n",
    "answer = tqa(table=table, query=query)\n",
    "for ans in answer:\n",
    "    print(ans[\"answer\"])"
   ]
  },
  {
   "cell_type": "code",
   "execution_count": 22,
   "metadata": {
    "id": "8M3DvolwC4uZ"
   },
   "outputs": [
    {
     "name": "stdout",
     "output_type": "stream",
     "text": [
      "SG8185, AI514\n"
     ]
    }
   ],
   "source": [
    "query = \"List all flights for Ditick?\"\n",
    "print(tqa(table=table, query=query)['answer'])"
   ]
  },
  {
   "cell_type": "code",
   "execution_count": null,
   "metadata": {},
   "outputs": [],
   "source": []
  },
  {
   "cell_type": "markdown",
   "metadata": {},
   "source": [
    "## copy this code"
   ]
  },
  {
   "cell_type": "code",
   "execution_count": 25,
   "metadata": {},
   "outputs": [
    {
     "name": "stdout",
     "output_type": "stream",
     "text": [
      "Enter Your Query : what flight did Anshul took to DEL?\n",
      "SG8185\n",
      "Enter Your Query : q\n"
     ]
    }
   ],
   "source": [
    "## import transformers\n",
    "from transformers import pipeline\n",
    "import pandas as pd\n",
    "\n",
    "## craete a pipeline for table QA, use google TAPAS model\n",
    "tqa = pipeline(task=\"table-question-answering\", \n",
    "               model=\"google/tapas-base-finetuned-wtq\")\n",
    "\n",
    "\n",
    "filePath = r\"C:\\Users\\atalb\\Downloads\\Yatra Data.xlsx\"\n",
    "\n",
    "## load Data\n",
    "try:\n",
    "    table = pd.read_excel(filePath)\n",
    "except Exception as es:\n",
    "    print(\"Unable to read excel file.\")\n",
    "table = table.astype(str)\n",
    "\n",
    "def query_response(query):\n",
    "    ## use pipeline to get answer to the query\n",
    "#     response = \n",
    "#     answer = response\n",
    "    return tqa(table=table, query=query)[\"answer\"]\n",
    "\n",
    "\n",
    "\n",
    "## call query_response function to get answer --\n",
    "# query = [\"What flight Ditick taking from JAI?\", \n",
    "#              \"When will anshul leave for DEL\"]\n",
    "\n",
    "# query = \"what flight did Anshul took to DEL?\"\n",
    "\n",
    "# query = \"List all flights for Ditick?\"\n",
    "\n",
    "while True:\n",
    "    userQuery = input(\"Enter Your Query : \")\n",
    "    if userQuery == 'q':\n",
    "        break\n",
    "    response = query_response(userQuery)\n",
    "    print(response)\n",
    "    \n",
    "    "
   ]
  },
  {
   "cell_type": "code",
   "execution_count": null,
   "metadata": {},
   "outputs": [],
   "source": []
  }
 ],
 "metadata": {
  "colab": {
   "collapsed_sections": [
    "wN1DI8ImB2Zq",
    "Gmdftz_CBWMR",
    "07mxxHBiBYZD",
    "-HBn0MbyBa8B"
   ],
   "name": "TableQAPipeline.ipynb",
   "provenance": [
    {
     "file_id": "15i5hPANX9uDB03DyGNEqD_fCYwVv0xeQ",
     "timestamp": 1617103256478
    }
   ]
  },
  "kernelspec": {
   "display_name": "Python 3 (ipykernel)",
   "language": "python",
   "name": "python3"
  },
  "language_info": {
   "codemirror_mode": {
    "name": "ipython",
    "version": 3
   },
   "file_extension": ".py",
   "mimetype": "text/x-python",
   "name": "python",
   "nbconvert_exporter": "python",
   "pygments_lexer": "ipython3",
   "version": "3.11.4"
  },
  "widgets": {
   "application/vnd.jupyter.widget-state+json": {
    "062acdd66b8d467ab86cd01117c64de1": {
     "model_module": "@jupyter-widgets/base",
     "model_name": "LayoutModel",
     "state": {
      "_model_module": "@jupyter-widgets/base",
      "_model_module_version": "1.2.0",
      "_model_name": "LayoutModel",
      "_view_count": null,
      "_view_module": "@jupyter-widgets/base",
      "_view_module_version": "1.2.0",
      "_view_name": "LayoutView",
      "align_content": null,
      "align_items": null,
      "align_self": null,
      "border": null,
      "bottom": null,
      "display": null,
      "flex": null,
      "flex_flow": null,
      "grid_area": null,
      "grid_auto_columns": null,
      "grid_auto_flow": null,
      "grid_auto_rows": null,
      "grid_column": null,
      "grid_gap": null,
      "grid_row": null,
      "grid_template_areas": null,
      "grid_template_columns": null,
      "grid_template_rows": null,
      "height": null,
      "justify_content": null,
      "justify_items": null,
      "left": null,
      "margin": null,
      "max_height": null,
      "max_width": null,
      "min_height": null,
      "min_width": null,
      "object_fit": null,
      "object_position": null,
      "order": null,
      "overflow": null,
      "overflow_x": null,
      "overflow_y": null,
      "padding": null,
      "right": null,
      "top": null,
      "visibility": null,
      "width": null
     }
    },
    "062cd880b2ff441499704e33324f5979": {
     "model_module": "@jupyter-widgets/base",
     "model_name": "LayoutModel",
     "state": {
      "_model_module": "@jupyter-widgets/base",
      "_model_module_version": "1.2.0",
      "_model_name": "LayoutModel",
      "_view_count": null,
      "_view_module": "@jupyter-widgets/base",
      "_view_module_version": "1.2.0",
      "_view_name": "LayoutView",
      "align_content": null,
      "align_items": null,
      "align_self": null,
      "border": null,
      "bottom": null,
      "display": null,
      "flex": null,
      "flex_flow": null,
      "grid_area": null,
      "grid_auto_columns": null,
      "grid_auto_flow": null,
      "grid_auto_rows": null,
      "grid_column": null,
      "grid_gap": null,
      "grid_row": null,
      "grid_template_areas": null,
      "grid_template_columns": null,
      "grid_template_rows": null,
      "height": null,
      "justify_content": null,
      "justify_items": null,
      "left": null,
      "margin": null,
      "max_height": null,
      "max_width": null,
      "min_height": null,
      "min_width": null,
      "object_fit": null,
      "object_position": null,
      "order": null,
      "overflow": null,
      "overflow_x": null,
      "overflow_y": null,
      "padding": null,
      "right": null,
      "top": null,
      "visibility": null,
      "width": null
     }
    },
    "13f136cfe70244d8b99e3b34b658c9a6": {
     "model_module": "@jupyter-widgets/base",
     "model_name": "LayoutModel",
     "state": {
      "_model_module": "@jupyter-widgets/base",
      "_model_module_version": "1.2.0",
      "_model_name": "LayoutModel",
      "_view_count": null,
      "_view_module": "@jupyter-widgets/base",
      "_view_module_version": "1.2.0",
      "_view_name": "LayoutView",
      "align_content": null,
      "align_items": null,
      "align_self": null,
      "border": null,
      "bottom": null,
      "display": null,
      "flex": null,
      "flex_flow": null,
      "grid_area": null,
      "grid_auto_columns": null,
      "grid_auto_flow": null,
      "grid_auto_rows": null,
      "grid_column": null,
      "grid_gap": null,
      "grid_row": null,
      "grid_template_areas": null,
      "grid_template_columns": null,
      "grid_template_rows": null,
      "height": null,
      "justify_content": null,
      "justify_items": null,
      "left": null,
      "margin": null,
      "max_height": null,
      "max_width": null,
      "min_height": null,
      "min_width": null,
      "object_fit": null,
      "object_position": null,
      "order": null,
      "overflow": null,
      "overflow_x": null,
      "overflow_y": null,
      "padding": null,
      "right": null,
      "top": null,
      "visibility": null,
      "width": null
     }
    },
    "1647a219eed6473b96516eddcfd52232": {
     "model_module": "@jupyter-widgets/controls",
     "model_name": "ProgressStyleModel",
     "state": {
      "_model_module": "@jupyter-widgets/controls",
      "_model_module_version": "1.5.0",
      "_model_name": "ProgressStyleModel",
      "_view_count": null,
      "_view_module": "@jupyter-widgets/base",
      "_view_module_version": "1.2.0",
      "_view_name": "StyleView",
      "bar_color": null,
      "description_width": "initial"
     }
    },
    "168e784a1475442f9e6e438eb628ddc8": {
     "model_module": "@jupyter-widgets/controls",
     "model_name": "FloatProgressModel",
     "state": {
      "_dom_classes": [],
      "_model_module": "@jupyter-widgets/controls",
      "_model_module_version": "1.5.0",
      "_model_name": "FloatProgressModel",
      "_view_count": null,
      "_view_module": "@jupyter-widgets/controls",
      "_view_module_version": "1.5.0",
      "_view_name": "ProgressView",
      "bar_style": "success",
      "description": "Downloading: 100%",
      "description_tooltip": null,
      "layout": "IPY_MODEL_4f2b5be1bd37474ca8d2f80807102b8d",
      "max": 262028,
      "min": 0,
      "orientation": "horizontal",
      "style": "IPY_MODEL_5fb4cae2e27e43089c0858abd3c6efd4",
      "value": 262028
     }
    },
    "186055eca65142498fcf332a5e0f82a6": {
     "model_module": "@jupyter-widgets/controls",
     "model_name": "DescriptionStyleModel",
     "state": {
      "_model_module": "@jupyter-widgets/controls",
      "_model_module_version": "1.5.0",
      "_model_name": "DescriptionStyleModel",
      "_view_count": null,
      "_view_module": "@jupyter-widgets/base",
      "_view_module_version": "1.2.0",
      "_view_name": "StyleView",
      "description_width": ""
     }
    },
    "1bac2b32ff074233a365cbcac3039db6": {
     "model_module": "@jupyter-widgets/controls",
     "model_name": "HTMLModel",
     "state": {
      "_dom_classes": [],
      "_model_module": "@jupyter-widgets/controls",
      "_model_module_version": "1.5.0",
      "_model_name": "HTMLModel",
      "_view_count": null,
      "_view_module": "@jupyter-widgets/controls",
      "_view_module_version": "1.5.0",
      "_view_name": "HTMLView",
      "description": "",
      "description_tooltip": null,
      "layout": "IPY_MODEL_b0e94f076fb7481f81fcae36fce7d964",
      "placeholder": "​",
      "style": "IPY_MODEL_c358ee22865e44bb8e38bcaf520e3a3d",
      "value": " 443M/443M [00:10&lt;00:00, 43.5MB/s]"
     }
    },
    "2ab145d5e2104d8582a71c01f7d74197": {
     "model_module": "@jupyter-widgets/controls",
     "model_name": "DescriptionStyleModel",
     "state": {
      "_model_module": "@jupyter-widgets/controls",
      "_model_module_version": "1.5.0",
      "_model_name": "DescriptionStyleModel",
      "_view_count": null,
      "_view_module": "@jupyter-widgets/base",
      "_view_module_version": "1.2.0",
      "_view_name": "StyleView",
      "description_width": ""
     }
    },
    "4f2b5be1bd37474ca8d2f80807102b8d": {
     "model_module": "@jupyter-widgets/base",
     "model_name": "LayoutModel",
     "state": {
      "_model_module": "@jupyter-widgets/base",
      "_model_module_version": "1.2.0",
      "_model_name": "LayoutModel",
      "_view_count": null,
      "_view_module": "@jupyter-widgets/base",
      "_view_module_version": "1.2.0",
      "_view_name": "LayoutView",
      "align_content": null,
      "align_items": null,
      "align_self": null,
      "border": null,
      "bottom": null,
      "display": null,
      "flex": null,
      "flex_flow": null,
      "grid_area": null,
      "grid_auto_columns": null,
      "grid_auto_flow": null,
      "grid_auto_rows": null,
      "grid_column": null,
      "grid_gap": null,
      "grid_row": null,
      "grid_template_areas": null,
      "grid_template_columns": null,
      "grid_template_rows": null,
      "height": null,
      "justify_content": null,
      "justify_items": null,
      "left": null,
      "margin": null,
      "max_height": null,
      "max_width": null,
      "min_height": null,
      "min_width": null,
      "object_fit": null,
      "object_position": null,
      "order": null,
      "overflow": null,
      "overflow_x": null,
      "overflow_y": null,
      "padding": null,
      "right": null,
      "top": null,
      "visibility": null,
      "width": null
     }
    },
    "5dd59a88e24d4b2395e759c732897f60": {
     "model_module": "@jupyter-widgets/controls",
     "model_name": "HBoxModel",
     "state": {
      "_dom_classes": [],
      "_model_module": "@jupyter-widgets/controls",
      "_model_module_version": "1.5.0",
      "_model_name": "HBoxModel",
      "_view_count": null,
      "_view_module": "@jupyter-widgets/controls",
      "_view_module_version": "1.5.0",
      "_view_name": "HBoxView",
      "box_style": "",
      "children": [
       "IPY_MODEL_811b57105c8f4080952f1a1123d18484",
       "IPY_MODEL_cae28d94c60a4d9e8e0ae353ab056888"
      ],
      "layout": "IPY_MODEL_062cd880b2ff441499704e33324f5979"
     }
    },
    "5fb4cae2e27e43089c0858abd3c6efd4": {
     "model_module": "@jupyter-widgets/controls",
     "model_name": "ProgressStyleModel",
     "state": {
      "_model_module": "@jupyter-widgets/controls",
      "_model_module_version": "1.5.0",
      "_model_name": "ProgressStyleModel",
      "_view_count": null,
      "_view_module": "@jupyter-widgets/base",
      "_view_module_version": "1.2.0",
      "_view_name": "StyleView",
      "bar_color": null,
      "description_width": "initial"
     }
    },
    "62fbca1f9fde4628bf398be3cb3f2b80": {
     "model_module": "@jupyter-widgets/base",
     "model_name": "LayoutModel",
     "state": {
      "_model_module": "@jupyter-widgets/base",
      "_model_module_version": "1.2.0",
      "_model_name": "LayoutModel",
      "_view_count": null,
      "_view_module": "@jupyter-widgets/base",
      "_view_module_version": "1.2.0",
      "_view_name": "LayoutView",
      "align_content": null,
      "align_items": null,
      "align_self": null,
      "border": null,
      "bottom": null,
      "display": null,
      "flex": null,
      "flex_flow": null,
      "grid_area": null,
      "grid_auto_columns": null,
      "grid_auto_flow": null,
      "grid_auto_rows": null,
      "grid_column": null,
      "grid_gap": null,
      "grid_row": null,
      "grid_template_areas": null,
      "grid_template_columns": null,
      "grid_template_rows": null,
      "height": null,
      "justify_content": null,
      "justify_items": null,
      "left": null,
      "margin": null,
      "max_height": null,
      "max_width": null,
      "min_height": null,
      "min_width": null,
      "object_fit": null,
      "object_position": null,
      "order": null,
      "overflow": null,
      "overflow_x": null,
      "overflow_y": null,
      "padding": null,
      "right": null,
      "top": null,
      "visibility": null,
      "width": null
     }
    },
    "63759a3f1ddf488d9fef72027f6065d0": {
     "model_module": "@jupyter-widgets/base",
     "model_name": "LayoutModel",
     "state": {
      "_model_module": "@jupyter-widgets/base",
      "_model_module_version": "1.2.0",
      "_model_name": "LayoutModel",
      "_view_count": null,
      "_view_module": "@jupyter-widgets/base",
      "_view_module_version": "1.2.0",
      "_view_name": "LayoutView",
      "align_content": null,
      "align_items": null,
      "align_self": null,
      "border": null,
      "bottom": null,
      "display": null,
      "flex": null,
      "flex_flow": null,
      "grid_area": null,
      "grid_auto_columns": null,
      "grid_auto_flow": null,
      "grid_auto_rows": null,
      "grid_column": null,
      "grid_gap": null,
      "grid_row": null,
      "grid_template_areas": null,
      "grid_template_columns": null,
      "grid_template_rows": null,
      "height": null,
      "justify_content": null,
      "justify_items": null,
      "left": null,
      "margin": null,
      "max_height": null,
      "max_width": null,
      "min_height": null,
      "min_width": null,
      "object_fit": null,
      "object_position": null,
      "order": null,
      "overflow": null,
      "overflow_x": null,
      "overflow_y": null,
      "padding": null,
      "right": null,
      "top": null,
      "visibility": null,
      "width": null
     }
    },
    "724a318a3eca4e4bb57f98451a4a8542": {
     "model_module": "@jupyter-widgets/base",
     "model_name": "LayoutModel",
     "state": {
      "_model_module": "@jupyter-widgets/base",
      "_model_module_version": "1.2.0",
      "_model_name": "LayoutModel",
      "_view_count": null,
      "_view_module": "@jupyter-widgets/base",
      "_view_module_version": "1.2.0",
      "_view_name": "LayoutView",
      "align_content": null,
      "align_items": null,
      "align_self": null,
      "border": null,
      "bottom": null,
      "display": null,
      "flex": null,
      "flex_flow": null,
      "grid_area": null,
      "grid_auto_columns": null,
      "grid_auto_flow": null,
      "grid_auto_rows": null,
      "grid_column": null,
      "grid_gap": null,
      "grid_row": null,
      "grid_template_areas": null,
      "grid_template_columns": null,
      "grid_template_rows": null,
      "height": null,
      "justify_content": null,
      "justify_items": null,
      "left": null,
      "margin": null,
      "max_height": null,
      "max_width": null,
      "min_height": null,
      "min_width": null,
      "object_fit": null,
      "object_position": null,
      "order": null,
      "overflow": null,
      "overflow_x": null,
      "overflow_y": null,
      "padding": null,
      "right": null,
      "top": null,
      "visibility": null,
      "width": null
     }
    },
    "725d1d255be6482bbe53a9559c61d025": {
     "model_module": "@jupyter-widgets/controls",
     "model_name": "ProgressStyleModel",
     "state": {
      "_model_module": "@jupyter-widgets/controls",
      "_model_module_version": "1.5.0",
      "_model_name": "ProgressStyleModel",
      "_view_count": null,
      "_view_module": "@jupyter-widgets/base",
      "_view_module_version": "1.2.0",
      "_view_name": "StyleView",
      "bar_color": null,
      "description_width": "initial"
     }
    },
    "73161ef594a140e6b19cd4fe9efc9a46": {
     "model_module": "@jupyter-widgets/base",
     "model_name": "LayoutModel",
     "state": {
      "_model_module": "@jupyter-widgets/base",
      "_model_module_version": "1.2.0",
      "_model_name": "LayoutModel",
      "_view_count": null,
      "_view_module": "@jupyter-widgets/base",
      "_view_module_version": "1.2.0",
      "_view_name": "LayoutView",
      "align_content": null,
      "align_items": null,
      "align_self": null,
      "border": null,
      "bottom": null,
      "display": null,
      "flex": null,
      "flex_flow": null,
      "grid_area": null,
      "grid_auto_columns": null,
      "grid_auto_flow": null,
      "grid_auto_rows": null,
      "grid_column": null,
      "grid_gap": null,
      "grid_row": null,
      "grid_template_areas": null,
      "grid_template_columns": null,
      "grid_template_rows": null,
      "height": null,
      "justify_content": null,
      "justify_items": null,
      "left": null,
      "margin": null,
      "max_height": null,
      "max_width": null,
      "min_height": null,
      "min_width": null,
      "object_fit": null,
      "object_position": null,
      "order": null,
      "overflow": null,
      "overflow_x": null,
      "overflow_y": null,
      "padding": null,
      "right": null,
      "top": null,
      "visibility": null,
      "width": null
     }
    },
    "79e78cc5b140428c9d4ce5d728fdc99d": {
     "model_module": "@jupyter-widgets/controls",
     "model_name": "HBoxModel",
     "state": {
      "_dom_classes": [],
      "_model_module": "@jupyter-widgets/controls",
      "_model_module_version": "1.5.0",
      "_model_name": "HBoxModel",
      "_view_count": null,
      "_view_module": "@jupyter-widgets/controls",
      "_view_module_version": "1.5.0",
      "_view_name": "HBoxView",
      "box_style": "",
      "children": [
       "IPY_MODEL_bbd65a0dc96243f7a6e2c13da1bcf9d8",
       "IPY_MODEL_a9010111d88a4ae6b7122520233eead0"
      ],
      "layout": "IPY_MODEL_f6f74dbf2a91452d9a7a24192e11af33"
     }
    },
    "7a74f0bb537c4296898fa5608e72f45f": {
     "model_module": "@jupyter-widgets/controls",
     "model_name": "FloatProgressModel",
     "state": {
      "_dom_classes": [],
      "_model_module": "@jupyter-widgets/controls",
      "_model_module_version": "1.5.0",
      "_model_name": "FloatProgressModel",
      "_view_count": null,
      "_view_module": "@jupyter-widgets/controls",
      "_view_module_version": "1.5.0",
      "_view_name": "ProgressView",
      "bar_style": "success",
      "description": "Downloading: 100%",
      "description_tooltip": null,
      "layout": "IPY_MODEL_a9f25d62c4084afb97cf9075bcec2e3e",
      "max": 1629,
      "min": 0,
      "orientation": "horizontal",
      "style": "IPY_MODEL_8f2c6ef7a3d54f50af026f0cbe7ae9bf",
      "value": 1629
     }
    },
    "7f64c2fcbb304fb09c00de42cc8c4ecc": {
     "model_module": "@jupyter-widgets/controls",
     "model_name": "DescriptionStyleModel",
     "state": {
      "_model_module": "@jupyter-widgets/controls",
      "_model_module_version": "1.5.0",
      "_model_name": "DescriptionStyleModel",
      "_view_count": null,
      "_view_module": "@jupyter-widgets/base",
      "_view_module_version": "1.2.0",
      "_view_name": "StyleView",
      "description_width": ""
     }
    },
    "811b57105c8f4080952f1a1123d18484": {
     "model_module": "@jupyter-widgets/controls",
     "model_name": "FloatProgressModel",
     "state": {
      "_dom_classes": [],
      "_model_module": "@jupyter-widgets/controls",
      "_model_module_version": "1.5.0",
      "_model_name": "FloatProgressModel",
      "_view_count": null,
      "_view_module": "@jupyter-widgets/controls",
      "_view_module_version": "1.5.0",
      "_view_name": "ProgressView",
      "bar_style": "success",
      "description": "Downloading: 100%",
      "description_tooltip": null,
      "layout": "IPY_MODEL_d0877f60eec846f5835cc42a9cb9cef3",
      "max": 154,
      "min": 0,
      "orientation": "horizontal",
      "style": "IPY_MODEL_1647a219eed6473b96516eddcfd52232",
      "value": 154
     }
    },
    "8dd3126407ce4ef5bd6e629c352d1265": {
     "model_module": "@jupyter-widgets/controls",
     "model_name": "DescriptionStyleModel",
     "state": {
      "_model_module": "@jupyter-widgets/controls",
      "_model_module_version": "1.5.0",
      "_model_name": "DescriptionStyleModel",
      "_view_count": null,
      "_view_module": "@jupyter-widgets/base",
      "_view_module_version": "1.2.0",
      "_view_name": "StyleView",
      "description_width": ""
     }
    },
    "8f2c6ef7a3d54f50af026f0cbe7ae9bf": {
     "model_module": "@jupyter-widgets/controls",
     "model_name": "ProgressStyleModel",
     "state": {
      "_model_module": "@jupyter-widgets/controls",
      "_model_module_version": "1.5.0",
      "_model_name": "ProgressStyleModel",
      "_view_count": null,
      "_view_module": "@jupyter-widgets/base",
      "_view_module_version": "1.2.0",
      "_view_name": "StyleView",
      "bar_color": null,
      "description_width": "initial"
     }
    },
    "90c2f8a82885498192ac5e6bd24cd90c": {
     "model_module": "@jupyter-widgets/controls",
     "model_name": "HBoxModel",
     "state": {
      "_dom_classes": [],
      "_model_module": "@jupyter-widgets/controls",
      "_model_module_version": "1.5.0",
      "_model_name": "HBoxModel",
      "_view_count": null,
      "_view_module": "@jupyter-widgets/controls",
      "_view_module_version": "1.5.0",
      "_view_name": "HBoxView",
      "box_style": "",
      "children": [
       "IPY_MODEL_168e784a1475442f9e6e438eb628ddc8",
       "IPY_MODEL_a00f41c2933b4d3cb304de3ea711cf2c"
      ],
      "layout": "IPY_MODEL_fd77ef7dee2542c8a7567d65f3208a4a"
     }
    },
    "a00f41c2933b4d3cb304de3ea711cf2c": {
     "model_module": "@jupyter-widgets/controls",
     "model_name": "HTMLModel",
     "state": {
      "_dom_classes": [],
      "_model_module": "@jupyter-widgets/controls",
      "_model_module_version": "1.5.0",
      "_model_name": "HTMLModel",
      "_view_count": null,
      "_view_module": "@jupyter-widgets/controls",
      "_view_module_version": "1.5.0",
      "_view_name": "HTMLView",
      "description": "",
      "description_tooltip": null,
      "layout": "IPY_MODEL_062acdd66b8d467ab86cd01117c64de1",
      "placeholder": "​",
      "style": "IPY_MODEL_7f64c2fcbb304fb09c00de42cc8c4ecc",
      "value": " 262k/262k [00:00&lt;00:00, 282kB/s]"
     }
    },
    "a9010111d88a4ae6b7122520233eead0": {
     "model_module": "@jupyter-widgets/controls",
     "model_name": "HTMLModel",
     "state": {
      "_dom_classes": [],
      "_model_module": "@jupyter-widgets/controls",
      "_model_module_version": "1.5.0",
      "_model_name": "HTMLModel",
      "_view_count": null,
      "_view_module": "@jupyter-widgets/controls",
      "_view_module_version": "1.5.0",
      "_view_name": "HTMLView",
      "description": "",
      "description_tooltip": null,
      "layout": "IPY_MODEL_f3495ea4556d43f0a01c9a4f74d4ecad",
      "placeholder": "​",
      "style": "IPY_MODEL_186055eca65142498fcf332a5e0f82a6",
      "value": " 490/490 [00:00&lt;00:00, 1.61kB/s]"
     }
    },
    "a9f25d62c4084afb97cf9075bcec2e3e": {
     "model_module": "@jupyter-widgets/base",
     "model_name": "LayoutModel",
     "state": {
      "_model_module": "@jupyter-widgets/base",
      "_model_module_version": "1.2.0",
      "_model_name": "LayoutModel",
      "_view_count": null,
      "_view_module": "@jupyter-widgets/base",
      "_view_module_version": "1.2.0",
      "_view_name": "LayoutView",
      "align_content": null,
      "align_items": null,
      "align_self": null,
      "border": null,
      "bottom": null,
      "display": null,
      "flex": null,
      "flex_flow": null,
      "grid_area": null,
      "grid_auto_columns": null,
      "grid_auto_flow": null,
      "grid_auto_rows": null,
      "grid_column": null,
      "grid_gap": null,
      "grid_row": null,
      "grid_template_areas": null,
      "grid_template_columns": null,
      "grid_template_rows": null,
      "height": null,
      "justify_content": null,
      "justify_items": null,
      "left": null,
      "margin": null,
      "max_height": null,
      "max_width": null,
      "min_height": null,
      "min_width": null,
      "object_fit": null,
      "object_position": null,
      "order": null,
      "overflow": null,
      "overflow_x": null,
      "overflow_y": null,
      "padding": null,
      "right": null,
      "top": null,
      "visibility": null,
      "width": null
     }
    },
    "aa220e30f04a4357925b7f37d22ea8a8": {
     "model_module": "@jupyter-widgets/controls",
     "model_name": "HBoxModel",
     "state": {
      "_dom_classes": [],
      "_model_module": "@jupyter-widgets/controls",
      "_model_module_version": "1.5.0",
      "_model_name": "HBoxModel",
      "_view_count": null,
      "_view_module": "@jupyter-widgets/controls",
      "_view_module_version": "1.5.0",
      "_view_name": "HBoxView",
      "box_style": "",
      "children": [
       "IPY_MODEL_7a74f0bb537c4296898fa5608e72f45f",
       "IPY_MODEL_b166fcd77e704344ae4e4f234810095d"
      ],
      "layout": "IPY_MODEL_c0d32a02e4df4f37a0e8cd4dd7a179ab"
     }
    },
    "b0e94f076fb7481f81fcae36fce7d964": {
     "model_module": "@jupyter-widgets/base",
     "model_name": "LayoutModel",
     "state": {
      "_model_module": "@jupyter-widgets/base",
      "_model_module_version": "1.2.0",
      "_model_name": "LayoutModel",
      "_view_count": null,
      "_view_module": "@jupyter-widgets/base",
      "_view_module_version": "1.2.0",
      "_view_name": "LayoutView",
      "align_content": null,
      "align_items": null,
      "align_self": null,
      "border": null,
      "bottom": null,
      "display": null,
      "flex": null,
      "flex_flow": null,
      "grid_area": null,
      "grid_auto_columns": null,
      "grid_auto_flow": null,
      "grid_auto_rows": null,
      "grid_column": null,
      "grid_gap": null,
      "grid_row": null,
      "grid_template_areas": null,
      "grid_template_columns": null,
      "grid_template_rows": null,
      "height": null,
      "justify_content": null,
      "justify_items": null,
      "left": null,
      "margin": null,
      "max_height": null,
      "max_width": null,
      "min_height": null,
      "min_width": null,
      "object_fit": null,
      "object_position": null,
      "order": null,
      "overflow": null,
      "overflow_x": null,
      "overflow_y": null,
      "padding": null,
      "right": null,
      "top": null,
      "visibility": null,
      "width": null
     }
    },
    "b166fcd77e704344ae4e4f234810095d": {
     "model_module": "@jupyter-widgets/controls",
     "model_name": "HTMLModel",
     "state": {
      "_dom_classes": [],
      "_model_module": "@jupyter-widgets/controls",
      "_model_module_version": "1.5.0",
      "_model_name": "HTMLModel",
      "_view_count": null,
      "_view_module": "@jupyter-widgets/controls",
      "_view_module_version": "1.5.0",
      "_view_name": "HTMLView",
      "description": "",
      "description_tooltip": null,
      "layout": "IPY_MODEL_63759a3f1ddf488d9fef72027f6065d0",
      "placeholder": "​",
      "style": "IPY_MODEL_8dd3126407ce4ef5bd6e629c352d1265",
      "value": " 1.63k/1.63k [00:10&lt;00:00, 153B/s]"
     }
    },
    "bbd65a0dc96243f7a6e2c13da1bcf9d8": {
     "model_module": "@jupyter-widgets/controls",
     "model_name": "FloatProgressModel",
     "state": {
      "_dom_classes": [],
      "_model_module": "@jupyter-widgets/controls",
      "_model_module_version": "1.5.0",
      "_model_name": "FloatProgressModel",
      "_view_count": null,
      "_view_module": "@jupyter-widgets/controls",
      "_view_module_version": "1.5.0",
      "_view_name": "ProgressView",
      "bar_style": "success",
      "description": "Downloading: 100%",
      "description_tooltip": null,
      "layout": "IPY_MODEL_724a318a3eca4e4bb57f98451a4a8542",
      "max": 490,
      "min": 0,
      "orientation": "horizontal",
      "style": "IPY_MODEL_725d1d255be6482bbe53a9559c61d025",
      "value": 490
     }
    },
    "c0d32a02e4df4f37a0e8cd4dd7a179ab": {
     "model_module": "@jupyter-widgets/base",
     "model_name": "LayoutModel",
     "state": {
      "_model_module": "@jupyter-widgets/base",
      "_model_module_version": "1.2.0",
      "_model_name": "LayoutModel",
      "_view_count": null,
      "_view_module": "@jupyter-widgets/base",
      "_view_module_version": "1.2.0",
      "_view_name": "LayoutView",
      "align_content": null,
      "align_items": null,
      "align_self": null,
      "border": null,
      "bottom": null,
      "display": null,
      "flex": null,
      "flex_flow": null,
      "grid_area": null,
      "grid_auto_columns": null,
      "grid_auto_flow": null,
      "grid_auto_rows": null,
      "grid_column": null,
      "grid_gap": null,
      "grid_row": null,
      "grid_template_areas": null,
      "grid_template_columns": null,
      "grid_template_rows": null,
      "height": null,
      "justify_content": null,
      "justify_items": null,
      "left": null,
      "margin": null,
      "max_height": null,
      "max_width": null,
      "min_height": null,
      "min_width": null,
      "object_fit": null,
      "object_position": null,
      "order": null,
      "overflow": null,
      "overflow_x": null,
      "overflow_y": null,
      "padding": null,
      "right": null,
      "top": null,
      "visibility": null,
      "width": null
     }
    },
    "c358ee22865e44bb8e38bcaf520e3a3d": {
     "model_module": "@jupyter-widgets/controls",
     "model_name": "DescriptionStyleModel",
     "state": {
      "_model_module": "@jupyter-widgets/controls",
      "_model_module_version": "1.5.0",
      "_model_name": "DescriptionStyleModel",
      "_view_count": null,
      "_view_module": "@jupyter-widgets/base",
      "_view_module_version": "1.2.0",
      "_view_name": "StyleView",
      "description_width": ""
     }
    },
    "c90bd54229554ac4bd3fefbb2615975b": {
     "model_module": "@jupyter-widgets/controls",
     "model_name": "HBoxModel",
     "state": {
      "_dom_classes": [],
      "_model_module": "@jupyter-widgets/controls",
      "_model_module_version": "1.5.0",
      "_model_name": "HBoxModel",
      "_view_count": null,
      "_view_module": "@jupyter-widgets/controls",
      "_view_module_version": "1.5.0",
      "_view_name": "HBoxView",
      "box_style": "",
      "children": [
       "IPY_MODEL_ec0b16a187cd4643a08189a60cf4c057",
       "IPY_MODEL_1bac2b32ff074233a365cbcac3039db6"
      ],
      "layout": "IPY_MODEL_13f136cfe70244d8b99e3b34b658c9a6"
     }
    },
    "cae28d94c60a4d9e8e0ae353ab056888": {
     "model_module": "@jupyter-widgets/controls",
     "model_name": "HTMLModel",
     "state": {
      "_dom_classes": [],
      "_model_module": "@jupyter-widgets/controls",
      "_model_module_version": "1.5.0",
      "_model_name": "HTMLModel",
      "_view_count": null,
      "_view_module": "@jupyter-widgets/controls",
      "_view_module_version": "1.5.0",
      "_view_name": "HTMLView",
      "description": "",
      "description_tooltip": null,
      "layout": "IPY_MODEL_73161ef594a140e6b19cd4fe9efc9a46",
      "placeholder": "​",
      "style": "IPY_MODEL_2ab145d5e2104d8582a71c01f7d74197",
      "value": " 154/154 [00:00&lt;00:00, 199B/s]"
     }
    },
    "d0877f60eec846f5835cc42a9cb9cef3": {
     "model_module": "@jupyter-widgets/base",
     "model_name": "LayoutModel",
     "state": {
      "_model_module": "@jupyter-widgets/base",
      "_model_module_version": "1.2.0",
      "_model_name": "LayoutModel",
      "_view_count": null,
      "_view_module": "@jupyter-widgets/base",
      "_view_module_version": "1.2.0",
      "_view_name": "LayoutView",
      "align_content": null,
      "align_items": null,
      "align_self": null,
      "border": null,
      "bottom": null,
      "display": null,
      "flex": null,
      "flex_flow": null,
      "grid_area": null,
      "grid_auto_columns": null,
      "grid_auto_flow": null,
      "grid_auto_rows": null,
      "grid_column": null,
      "grid_gap": null,
      "grid_row": null,
      "grid_template_areas": null,
      "grid_template_columns": null,
      "grid_template_rows": null,
      "height": null,
      "justify_content": null,
      "justify_items": null,
      "left": null,
      "margin": null,
      "max_height": null,
      "max_width": null,
      "min_height": null,
      "min_width": null,
      "object_fit": null,
      "object_position": null,
      "order": null,
      "overflow": null,
      "overflow_x": null,
      "overflow_y": null,
      "padding": null,
      "right": null,
      "top": null,
      "visibility": null,
      "width": null
     }
    },
    "ec0b16a187cd4643a08189a60cf4c057": {
     "model_module": "@jupyter-widgets/controls",
     "model_name": "FloatProgressModel",
     "state": {
      "_dom_classes": [],
      "_model_module": "@jupyter-widgets/controls",
      "_model_module_version": "1.5.0",
      "_model_name": "FloatProgressModel",
      "_view_count": null,
      "_view_module": "@jupyter-widgets/controls",
      "_view_module_version": "1.5.0",
      "_view_name": "ProgressView",
      "bar_style": "success",
      "description": "Downloading: 100%",
      "description_tooltip": null,
      "layout": "IPY_MODEL_62fbca1f9fde4628bf398be3cb3f2b80",
      "max": 442791751,
      "min": 0,
      "orientation": "horizontal",
      "style": "IPY_MODEL_f1dc2daa21c54a06bbeb5d9bb1fcfb63",
      "value": 442791751
     }
    },
    "f1dc2daa21c54a06bbeb5d9bb1fcfb63": {
     "model_module": "@jupyter-widgets/controls",
     "model_name": "ProgressStyleModel",
     "state": {
      "_model_module": "@jupyter-widgets/controls",
      "_model_module_version": "1.5.0",
      "_model_name": "ProgressStyleModel",
      "_view_count": null,
      "_view_module": "@jupyter-widgets/base",
      "_view_module_version": "1.2.0",
      "_view_name": "StyleView",
      "bar_color": null,
      "description_width": "initial"
     }
    },
    "f3495ea4556d43f0a01c9a4f74d4ecad": {
     "model_module": "@jupyter-widgets/base",
     "model_name": "LayoutModel",
     "state": {
      "_model_module": "@jupyter-widgets/base",
      "_model_module_version": "1.2.0",
      "_model_name": "LayoutModel",
      "_view_count": null,
      "_view_module": "@jupyter-widgets/base",
      "_view_module_version": "1.2.0",
      "_view_name": "LayoutView",
      "align_content": null,
      "align_items": null,
      "align_self": null,
      "border": null,
      "bottom": null,
      "display": null,
      "flex": null,
      "flex_flow": null,
      "grid_area": null,
      "grid_auto_columns": null,
      "grid_auto_flow": null,
      "grid_auto_rows": null,
      "grid_column": null,
      "grid_gap": null,
      "grid_row": null,
      "grid_template_areas": null,
      "grid_template_columns": null,
      "grid_template_rows": null,
      "height": null,
      "justify_content": null,
      "justify_items": null,
      "left": null,
      "margin": null,
      "max_height": null,
      "max_width": null,
      "min_height": null,
      "min_width": null,
      "object_fit": null,
      "object_position": null,
      "order": null,
      "overflow": null,
      "overflow_x": null,
      "overflow_y": null,
      "padding": null,
      "right": null,
      "top": null,
      "visibility": null,
      "width": null
     }
    },
    "f6f74dbf2a91452d9a7a24192e11af33": {
     "model_module": "@jupyter-widgets/base",
     "model_name": "LayoutModel",
     "state": {
      "_model_module": "@jupyter-widgets/base",
      "_model_module_version": "1.2.0",
      "_model_name": "LayoutModel",
      "_view_count": null,
      "_view_module": "@jupyter-widgets/base",
      "_view_module_version": "1.2.0",
      "_view_name": "LayoutView",
      "align_content": null,
      "align_items": null,
      "align_self": null,
      "border": null,
      "bottom": null,
      "display": null,
      "flex": null,
      "flex_flow": null,
      "grid_area": null,
      "grid_auto_columns": null,
      "grid_auto_flow": null,
      "grid_auto_rows": null,
      "grid_column": null,
      "grid_gap": null,
      "grid_row": null,
      "grid_template_areas": null,
      "grid_template_columns": null,
      "grid_template_rows": null,
      "height": null,
      "justify_content": null,
      "justify_items": null,
      "left": null,
      "margin": null,
      "max_height": null,
      "max_width": null,
      "min_height": null,
      "min_width": null,
      "object_fit": null,
      "object_position": null,
      "order": null,
      "overflow": null,
      "overflow_x": null,
      "overflow_y": null,
      "padding": null,
      "right": null,
      "top": null,
      "visibility": null,
      "width": null
     }
    },
    "fd77ef7dee2542c8a7567d65f3208a4a": {
     "model_module": "@jupyter-widgets/base",
     "model_name": "LayoutModel",
     "state": {
      "_model_module": "@jupyter-widgets/base",
      "_model_module_version": "1.2.0",
      "_model_name": "LayoutModel",
      "_view_count": null,
      "_view_module": "@jupyter-widgets/base",
      "_view_module_version": "1.2.0",
      "_view_name": "LayoutView",
      "align_content": null,
      "align_items": null,
      "align_self": null,
      "border": null,
      "bottom": null,
      "display": null,
      "flex": null,
      "flex_flow": null,
      "grid_area": null,
      "grid_auto_columns": null,
      "grid_auto_flow": null,
      "grid_auto_rows": null,
      "grid_column": null,
      "grid_gap": null,
      "grid_row": null,
      "grid_template_areas": null,
      "grid_template_columns": null,
      "grid_template_rows": null,
      "height": null,
      "justify_content": null,
      "justify_items": null,
      "left": null,
      "margin": null,
      "max_height": null,
      "max_width": null,
      "min_height": null,
      "min_width": null,
      "object_fit": null,
      "object_position": null,
      "order": null,
      "overflow": null,
      "overflow_x": null,
      "overflow_y": null,
      "padding": null,
      "right": null,
      "top": null,
      "visibility": null,
      "width": null
     }
    }
   }
  }
 },
 "nbformat": 4,
 "nbformat_minor": 1
}
