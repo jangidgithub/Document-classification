{
 "cells": [
  {
   "cell_type": "code",
   "execution_count": 1,
   "id": "39a277a9",
   "metadata": {},
   "outputs": [],
   "source": [
    "import pandas as pd"
   ]
  },
  {
   "cell_type": "code",
   "execution_count": 2,
   "id": "117a9d02",
   "metadata": {},
   "outputs": [],
   "source": [
    "# invoice_data = pd.read_csv(\"Invoce_Data.csv\")\n",
    "# invoice_data.drop(['Unnamed: 0'],axis=1,inplace=True)\n",
    "# invoice_data.columns"
   ]
  },
  {
   "cell_type": "code",
   "execution_count": 3,
   "id": "d6be02d7",
   "metadata": {},
   "outputs": [],
   "source": [
    "# Are purchase/sales invoice same type ? if not then are there define number of format.\n",
    "\n",
    "# Docs B M Infotrade always provide same sales invoce format"
   ]
  },
  {
   "cell_type": "code",
   "execution_count": null,
   "id": "6a0a6955",
   "metadata": {},
   "outputs": [],
   "source": [
    "text = \"Consignee (Ship to)B.M. Infotrade (P) Ltd (Jaipur)53-A Vishnupui Dalda Factory RoadDurgapura, Jaipur 0141-2545583/9829189200302018GSTIN/UIN : 08AAECB8518R1ZZState Name : Rajasthan, Code : 08\"\n",
    "\n",
    "condition_1 = text.find(\"B M Info\")\n",
    "\n",
    "condition_2 = text.find(\"B.M. Info\")\n",
    "\n",
    "condition_3 = text.find(\"B. M. Info\")\n"
   ]
  },
  {
   "cell_type": "code",
   "execution_count": null,
   "id": "bcae8522",
   "metadata": {},
   "outputs": [],
   "source": [
    "if condition_1 != -1:\n",
    "    index_text = condition_1\n",
    "elif condition_2 != -1:\n",
    "    index_text = condition_2\n",
    "elif condition_3 != -1:\n",
    "    index_text = condition_3\n",
    "else:\n",
    "    index_text = -1\n",
    "     "
   ]
  },
  {
   "cell_type": "code",
   "execution_count": null,
   "id": "ba30d04d",
   "metadata": {},
   "outputs": [],
   "source": [
    "print(index_text)"
   ]
  },
  {
   "cell_type": "code",
   "execution_count": null,
   "id": "e45ffbf9",
   "metadata": {},
   "outputs": [],
   "source": [
    "temp = text[index_text - 19: index_text]\n",
    "\n",
    "print(temp)"
   ]
  },
  {
   "cell_type": "code",
   "execution_count": null,
   "id": "15cb9221",
   "metadata": {},
   "outputs": [],
   "source": [
    "if \"Consignee\" in temp:\n",
    "    print(\"purchase\")\n",
    "else:\n",
    "    print(\"sales\")"
   ]
  },
  {
   "cell_type": "code",
   "execution_count": null,
   "id": "1d83de22",
   "metadata": {},
   "outputs": [],
   "source": [
    "invoice_data[invoice_data['Label']==1].shape"
   ]
  },
  {
   "cell_type": "code",
   "execution_count": null,
   "id": "c950a632",
   "metadata": {},
   "outputs": [],
   "source": [
    "invoice_data[invoice_data['Label']==0].shape"
   ]
  },
  {
   "cell_type": "code",
   "execution_count": null,
   "id": "6a9d1ad1",
   "metadata": {},
   "outputs": [],
   "source": [
    "def invoice_predicter(invoice_data):\n",
    "\n",
    "    temp_list = []\n",
    "\n",
    "    for text in invoice_data['Text']:\n",
    "        condition_1 = text.find('B M Infotrade Private Limited')\n",
    "    #     print(condition_1)\n",
    "        temp = text[condition_1 - 35: condition_1]\n",
    "        temp_2 = text[condition_1 - 12: condition_1]\n",
    "        print(temp)\n",
    "    #     print(temp_2)\n",
    "        if \"Ack Date\" in temp or \"Tax Invoice\" in temp_2:\n",
    "            print(\"Sales\")\n",
    "            temp_list.append('Sales')\n",
    "        else:\n",
    "            print(\"Purchase\")\n",
    "            temp_list.append('purchase')\n",
    "    #         print(condition_1)\n",
    "    #         print(text)\n",
    "\n",
    "\n",
    "#         print(\"=\"*100)\n",
    "    return temp_list"
   ]
  },
  {
   "cell_type": "code",
   "execution_count": null,
   "id": "9af02477",
   "metadata": {},
   "outputs": [],
   "source": [
    "invoice_data"
   ]
  },
  {
   "cell_type": "code",
   "execution_count": null,
   "id": "ecf2f062",
   "metadata": {},
   "outputs": [],
   "source": [
    "def invoice_predicter(text):\n",
    "    \n",
    "    condition_1 = text.find('B M Infotrade Private Limited')\n",
    "    temp = text[condition_1 - 35: condition_1]\n",
    "    temp_2 = text[condition_1 - 12: condition_1]\n",
    "    if \"Ack Date\" in temp or \"Tax Invoice\" in temp_2:\n",
    "        return 'Sales'\n",
    "    else:\n",
    "        return 'Purchase'\n"
   ]
  },
  {
   "cell_type": "code",
   "execution_count": null,
   "id": "7c8d287d",
   "metadata": {},
   "outputs": [],
   "source": [
    "invoice_data['Text'].apply(invoice_predicter)"
   ]
  },
  {
   "cell_type": "code",
   "execution_count": null,
   "id": "9337bdb8",
   "metadata": {},
   "outputs": [],
   "source": [
    "invoice_data[\"Pridected_label\"] = temp_list"
   ]
  },
  {
   "cell_type": "code",
   "execution_count": null,
   "id": "1a3f4179",
   "metadata": {},
   "outputs": [],
   "source": [
    "invoice_data"
   ]
  },
  {
   "cell_type": "code",
   "execution_count": null,
   "id": "98d97dd1",
   "metadata": {},
   "outputs": [],
   "source": []
  },
  {
   "cell_type": "code",
   "execution_count": 2,
   "id": "e6e5ac08",
   "metadata": {},
   "outputs": [],
   "source": [
    "import pytesseract\n",
    "from PIL import Image\n",
    "import cv2\n",
    "import numpy as np\n",
    "from pdf2image import convert_from_path\n",
    "import os\n",
    "\n",
    "import re\n",
    "\n",
    "poppler_path = r\"D:\\programing software\\Release-23.07.0-0\\poppler-23.07.0\\Library\\bin\"\n",
    "\n",
    "pdf_path = r\"D:\\Data Science(Ekeeda)\\Projects\\document_classsification\\Purchase_invoice\\purchasebill (1)\\C240176401.pdf\"\n",
    "\n",
    "image_array = convert_from_path(pdf_path, poppler_path=poppler_path)\n",
    "\n"
   ]
  },
  {
   "cell_type": "code",
   "execution_count": 3,
   "id": "78de0e04",
   "metadata": {},
   "outputs": [],
   "source": [
    "tesseract_path = r\"C:\\Users\\Rahul\\AppData\\Local\\Programs\\Tesseract-OCR\\tesseract.exe\""
   ]
  },
  {
   "cell_type": "code",
   "execution_count": 4,
   "id": "5e9f1a50",
   "metadata": {},
   "outputs": [],
   "source": [
    "import pytesseract\n",
    "\n",
    "# Set the path to the Tesseract executable (replace 'tesseract_path' with your actual path)\n",
    "pytesseract.pytesseract.tesseract_cmd = tesseract_path\n"
   ]
  },
  {
   "cell_type": "code",
   "execution_count": null,
   "id": "ae75cb67",
   "metadata": {},
   "outputs": [],
   "source": []
  },
  {
   "cell_type": "code",
   "execution_count": null,
   "id": "ba2d806a",
   "metadata": {},
   "outputs": [],
   "source": [
    "def pdf_to_text(pdf_path):\n",
    "    poppler_path = r\"D:\\programing software\\Release-23.07.0-0\\poppler-23.07.0\\Library\\bin\"\n",
    "    \n",
    "    images = convert_from_path(pdf_path, poppler_path=poppler_path)\n",
    "    \n",
    "    extracted_text = \"\"\n",
    "    \n",
    "    for page_num, pdf_image in enumerate(images, start=1):\n",
    "        page_text = pytesseract.image_to_string(pdf_image)\n",
    "        extracted_text += f\"Page {page_num}:\\n{page_text}\"\n",
    "    \n",
    "    return extracted_text"
   ]
  },
  {
   "cell_type": "code",
   "execution_count": null,
   "id": "bb2538a9",
   "metadata": {},
   "outputs": [],
   "source": [
    "pdf_path = r\"D:\\Data Science(Ekeeda)\\Projects\\document_classsification\\invoice_data\\Invoice_10.PDF\"\n",
    "text = pdf_to_text(pdf_path)"
   ]
  },
  {
   "cell_type": "code",
   "execution_count": null,
   "id": "368214c9",
   "metadata": {},
   "outputs": [],
   "source": [
    "print(text)"
   ]
  },
  {
   "cell_type": "code",
   "execution_count": null,
   "id": "8e316f12",
   "metadata": {},
   "outputs": [],
   "source": [
    "buyer_pattern = r\"[a-zA-Z]* [a-zA-Z]* [a-zA-Z]* LIMITED|[a-zA-Z]* BANK|[a-zA-Z]* [a-zA-Z]* Exports|[a-zA-Z]* Solutions|[a-zA-Z]* [a-zA-Z]* [a-zA-Z]*\\. LTD|[a-zA-Z]*.[a-zA-Z]*. [a-zA-Z]* \\([a-zA-Z]\\) Ltd|[a-zA-Z]* [a-zA-Z]* [a-zA-Z]* [a-zA-Z]* LIMITED|[A-Z]*.[A-Z]*. [A-Z]* [A-Z]* LTD|[A-Z]* [A-Z]* [A-Z]* [A-Z]* Ltd|[a-zA-z]*.[a-zA-z]*.[a-zA-z]*. [a-zA-z]*. Ltd\""
   ]
  },
  {
   "cell_type": "code",
   "execution_count": null,
   "id": "97544c2c",
   "metadata": {},
   "outputs": [],
   "source": [
    "re.findall(buyer_pattern,text)"
   ]
  },
  {
   "cell_type": "code",
   "execution_count": null,
   "id": "f3fba9f7",
   "metadata": {},
   "outputs": [],
   "source": []
  },
  {
   "cell_type": "code",
   "execution_count": null,
   "id": "339a1688",
   "metadata": {},
   "outputs": [],
   "source": [
    "# invoice_predicter(text)"
   ]
  },
  {
   "cell_type": "markdown",
   "id": "a16e6399",
   "metadata": {},
   "source": [
    "# data which we want to collect"
   ]
  },
  {
   "cell_type": "raw",
   "id": "2035d97c",
   "metadata": {},
   "source": [
    "saler name \n",
    "buyer name\n",
    "items\n",
    "adress\n",
    "mail\n",
    "gstid\n"
   ]
  },
  {
   "cell_type": "markdown",
   "id": "2e25e567",
   "metadata": {},
   "source": [
    "### Sales invoice data collecting"
   ]
  },
  {
   "cell_type": "code",
   "execution_count": null,
   "id": "f11059c3",
   "metadata": {},
   "outputs": [],
   "source": [
    "b = text[text.find('Consignee (Ship to)'):text.find('Consignee (Ship to)')+80]"
   ]
  },
  {
   "cell_type": "code",
   "execution_count": null,
   "id": "13c5b1ff",
   "metadata": {},
   "outputs": [],
   "source": [
    "from nltk.tokenize import word_tokenize,sent_tokenize"
   ]
  },
  {
   "cell_type": "markdown",
   "id": "49e7a658",
   "metadata": {},
   "source": [
    "### buyer name"
   ]
  },
  {
   "cell_type": "code",
   "execution_count": null,
   "id": "52d484d0",
   "metadata": {},
   "outputs": [],
   "source": [
    "c = word_tokenize(b)"
   ]
  },
  {
   "cell_type": "code",
   "execution_count": null,
   "id": "e0676f0a",
   "metadata": {},
   "outputs": [],
   "source": [
    "len(c)"
   ]
  },
  {
   "cell_type": "code",
   "execution_count": null,
   "id": "aaa0c7f6",
   "metadata": {},
   "outputs": [],
   "source": [
    "c"
   ]
  },
  {
   "cell_type": "code",
   "execution_count": null,
   "id": "796a433e",
   "metadata": {},
   "outputs": [],
   "source": [
    "t = \"\"\n",
    "for i in c[5:9]:\n",
    "    t +=i\n",
    "print(t)"
   ]
  },
  {
   "cell_type": "code",
   "execution_count": null,
   "id": "d1fc20bf",
   "metadata": {},
   "outputs": [],
   "source": []
  },
  {
   "cell_type": "markdown",
   "id": "b8270345",
   "metadata": {},
   "source": [
    "### Saler name"
   ]
  },
  {
   "cell_type": "code",
   "execution_count": null,
   "id": "3586ed65",
   "metadata": {},
   "outputs": [],
   "source": [
    "print(text[text.find('Limited')-22:text.find('Limited')+8])"
   ]
  },
  {
   "cell_type": "markdown",
   "id": "5eb7774d",
   "metadata": {},
   "source": [
    "### Items"
   ]
  },
  {
   "cell_type": "code",
   "execution_count": null,
   "id": "36f03262",
   "metadata": {},
   "outputs": [],
   "source": [
    "i = text[text.find(\"Description\"):]"
   ]
  },
  {
   "cell_type": "code",
   "execution_count": null,
   "id": "81dfee41",
   "metadata": {},
   "outputs": [],
   "source": [
    "d = text[text.find('Description'):text.find('Description')+1000]"
   ]
  },
  {
   "cell_type": "code",
   "execution_count": null,
   "id": "70930054",
   "metadata": {},
   "outputs": [],
   "source": [
    "# print(d)"
   ]
  },
  {
   "cell_type": "code",
   "execution_count": null,
   "id": "c49d2225",
   "metadata": {},
   "outputs": [],
   "source": [
    "pattern_1 = r'\\d \\|.*'\n",
    "\n",
    "pattern_2 = r'\\d \\).*'\n",
    "\n",
    "pattern_3 = r'\\bTotal\\b .*'\n",
    "\n",
    "item = \"\"\n",
    "\n",
    "matches_1 = re.findall(pattern_1, text)\n",
    "matches_2 = re.findall(pattern_2, text)\n",
    "matches_3 = re.findall(pattern_3, text)\n",
    "\n",
    "\n",
    "print(matches_1)\n",
    "print(matches_2)\n",
    "print(matches_3)"
   ]
  },
  {
   "cell_type": "code",
   "execution_count": null,
   "id": "32189eb5",
   "metadata": {},
   "outputs": [],
   "source": [
    "for data in matches_1:\n",
    "    item += data\n",
    "for j in matches_2:\n",
    "    item += j"
   ]
  },
  {
   "cell_type": "code",
   "execution_count": null,
   "id": "fe7e883b",
   "metadata": {},
   "outputs": [],
   "source": [
    "print(item)"
   ]
  },
  {
   "cell_type": "code",
   "execution_count": null,
   "id": "8d5dbee1",
   "metadata": {},
   "outputs": [],
   "source": [
    "for i in matches_3:\n",
    "    amount = i.split(' = ')\n",
    "    print(amount[1])\n",
    "    break"
   ]
  },
  {
   "cell_type": "code",
   "execution_count": null,
   "id": "2264bf3d",
   "metadata": {},
   "outputs": [],
   "source": [
    "def Sales_data_collecting(text):\n",
    "\n",
    "    # buyer name \n",
    "\n",
    "    b = text[text.find('Consignee (Ship to)'):text.find('Consignee (Ship to)')+80]\n",
    "    c = word_tokenize(b)\n",
    "    buyer = \"\"\n",
    "    for i in c[5:9]:\n",
    "        buyer +=i\n",
    "    \n",
    "    # saler name \n",
    "\n",
    "    saler = text[text.find('Limited')-22:text.find('Limited')+8]\n",
    "\n",
    "    # Items \n",
    "\n",
    "    pattern_1 = r'\\d \\|.*'\n",
    "\n",
    "    pattern_2 = r'\\d \\).*'\n",
    "\n",
    "    pattern_3 = r'\\bTotal\\b .*'\n",
    "\n",
    "    matches_1 = re.findall(pattern_1, text)\n",
    "    matches_2 = re.findall(pattern_2, text)\n",
    "    matches_3 = re.findall(pattern_3, text)\n",
    "\n",
    "    def Item(matches_1,matches_2):\n",
    "        item = \"\"\n",
    "        for data_1 in matches_1:\n",
    "            item += data_1\n",
    "        \n",
    "        for data_2 in matches_2:\n",
    "            item += data_2\n",
    "\n",
    "        return item\n",
    "    \n",
    "    def amount(matches_3):\n",
    "        Total_amount = []\n",
    "        for i in matches_3:\n",
    "            a = i.split(' = ')\n",
    "            Total_amount.append(a[1])\n",
    "            break\n",
    "        return Total_amount\n",
    "    \n",
    "    item = Item(matches_1,matches_2)\n",
    "    Total_amount = amount(matches_3)\n",
    "    \n",
    "    return buyer,saler,item,Total_amount\n"
   ]
  },
  {
   "cell_type": "code",
   "execution_count": null,
   "id": "56e73260",
   "metadata": {},
   "outputs": [],
   "source": [
    "def Data_collector(folder_path):\n",
    "    salers_name = []\n",
    "    buyers_name = []\n",
    "    items = []\n",
    "    total_amount = []\n",
    "    \n",
    "    poppler_path = r\"D:\\programing software\\Release-23.07.0-0\\poppler-23.07.0\\Library\\bin\"\n",
    "    \n",
    "    for pdf_number, filename in enumerate(os.listdir(folder_path), start=1):\n",
    "        pdf_path = os.path.join(folder_path, filename)\n",
    "        \n",
    "        if filename.endswith('.pdf') or filename.endswith('.PDF'):\n",
    "            img = convert_from_path(pdf_path, poppler_path=poppler_path)  \n",
    "            \n",
    "            text = \"\"\n",
    "            for page_num, image in enumerate(img):\n",
    "                opencv_image = cv2.cvtColor(np.array(image), cv2.COLOR_RGB2BGR)\n",
    "                text_ = pytesseract.image_to_string(opencv_image, lang='eng')\n",
    "                text += text_\n",
    "                buyer,saler,item,Total_amount = sales_data_collecting(text)\n",
    "            buyers_name.append(buyer)\n",
    "            salers_name.append(saler)\n",
    "            items.append(item)\n",
    "            total_amount.append(Total_amount)\n",
    "    \n",
    "    return buyers_name,salers_name,items,total_amount"
   ]
  },
  {
   "cell_type": "code",
   "execution_count": null,
   "id": "e0c31304",
   "metadata": {},
   "outputs": [],
   "source": [
    "# folder_path = r\"D:\\Data Science(Ekeeda)\\Projects\\document_classsification\\Sales_invoice\\fwsalesinvoice\"\n",
    "\n",
    "# buyers_name,salers_name,items,total_amount = Data_collector(folder_path)"
   ]
  },
  {
   "cell_type": "markdown",
   "id": "e684fbd2",
   "metadata": {},
   "source": [
    "# Purchase_data collecting"
   ]
  },
  {
   "cell_type": "code",
   "execution_count": null,
   "id": "5bfa3ed6",
   "metadata": {},
   "outputs": [],
   "source": [
    "purchase_path = r\"D:\\Data Science(Ekeeda)\\Projects\\document_classsification\\invoice_data\\J190027389.pdf\"\n",
    "purchase_text = pdf_to_text(purchase_path)"
   ]
  },
  {
   "cell_type": "code",
   "execution_count": null,
   "id": "5fd340f0",
   "metadata": {},
   "outputs": [],
   "source": [
    "print(purchase_text)"
   ]
  },
  {
   "cell_type": "markdown",
   "id": "e6153bc9",
   "metadata": {},
   "source": [
    "# saler"
   ]
  },
  {
   "cell_type": "code",
   "execution_count": null,
   "id": "5e0efa48",
   "metadata": {},
   "outputs": [],
   "source": [
    "con_1 = purchase_text[purchase_text.find(\"Limited\")-18:purchase_text.find(\"Limited\")+7]"
   ]
  },
  {
   "cell_type": "code",
   "execution_count": null,
   "id": "74136dd7",
   "metadata": {},
   "outputs": [],
   "source": [
    "con_2 = purchase_text[purchase_text.find(\"Ltd\")-22:purchase_text.find(\"Ltd\")+5]"
   ]
  },
  {
   "cell_type": "code",
   "execution_count": null,
   "id": "1ceac9ee",
   "metadata": {},
   "outputs": [],
   "source": [
    "saler_pattern = r\"[A-z]* [A-z]* Limited\""
   ]
  },
  {
   "cell_type": "code",
   "execution_count": null,
   "id": "e487a612",
   "metadata": {},
   "outputs": [],
   "source": [
    "re.findall(saler_pattern,purchase_text)[0]"
   ]
  },
  {
   "cell_type": "code",
   "execution_count": null,
   "id": "8cd9d03d",
   "metadata": {},
   "outputs": [],
   "source": [
    "buyer_patter = r\"[A-Z]*.[A-Z]*. [A-Z]* [A-Z]* LTD|[A-Z]* [A-Z]* [A-Z]* [A-Z]* LTD\""
   ]
  },
  {
   "cell_type": "code",
   "execution_count": null,
   "id": "39905107",
   "metadata": {},
   "outputs": [],
   "source": [
    "re.findall(buyer_patter,text)[0]"
   ]
  },
  {
   "cell_type": "code",
   "execution_count": null,
   "id": "43b38895",
   "metadata": {},
   "outputs": [],
   "source": []
  },
  {
   "cell_type": "markdown",
   "id": "5a952222",
   "metadata": {},
   "source": [
    "# items"
   ]
  },
  {
   "cell_type": "code",
   "execution_count": null,
   "id": "69f06b70",
   "metadata": {},
   "outputs": [],
   "source": [
    "new_pattern = r\"\\d{1,2} \\[[a-zA-Z0-9]* [a-zA-Z0-9]*\\-[a-zA-Z0-9]*|\\d \\|.*|.*CGST.*|\\bDESCRIPTION\\b\\n.*\\n.*\\n.*\\n.*|\\d{1,2} \\|[a-zA-Z]\\-[a-zA-Z0-9]* [a-zA-Z]* \\-[a-zA-Z0-9]*-[a-zA-Z0-9], \""
   ]
  },
  {
   "cell_type": "code",
   "execution_count": null,
   "id": "72ede0cc",
   "metadata": {},
   "outputs": [],
   "source": [
    "pu_item_1 = re.findall(new_pattern,purchase_text)"
   ]
  },
  {
   "cell_type": "code",
   "execution_count": null,
   "id": "8b81b0ea",
   "metadata": {},
   "outputs": [],
   "source": [
    "pu_item_1[1]"
   ]
  },
  {
   "cell_type": "code",
   "execution_count": null,
   "id": "61e872bc",
   "metadata": {},
   "outputs": [],
   "source": [
    "pu_item_1[1].strip()"
   ]
  },
  {
   "cell_type": "code",
   "execution_count": null,
   "id": "decd61d1",
   "metadata": {},
   "outputs": [],
   "source": []
  },
  {
   "cell_type": "code",
   "execution_count": null,
   "id": "736e9312",
   "metadata": {},
   "outputs": [],
   "source": [
    "# pu_item_2 = re.findall(purchase_item_2,purchase_text)"
   ]
  },
  {
   "cell_type": "code",
   "execution_count": null,
   "id": "7fe892a1",
   "metadata": {},
   "outputs": [],
   "source": [
    "# print(purchase_text[purchase_text.find(\"EXTENDEDA MOUNT\"):])"
   ]
  },
  {
   "cell_type": "code",
   "execution_count": null,
   "id": "8b258cab",
   "metadata": {},
   "outputs": [],
   "source": [
    "# purchase_text.find(\"EXTENDEDA MOUNT\")"
   ]
  },
  {
   "cell_type": "code",
   "execution_count": null,
   "id": "d96921b2",
   "metadata": {},
   "outputs": [],
   "source": [
    "# pu_item_2[0]"
   ]
  },
  {
   "cell_type": "code",
   "execution_count": null,
   "id": "3dfd6d95",
   "metadata": {},
   "outputs": [],
   "source": [
    "match_item = re.findall(new_pattern,purchase_text)"
   ]
  },
  {
   "cell_type": "code",
   "execution_count": null,
   "id": "0990ba11",
   "metadata": {},
   "outputs": [],
   "source": [
    "item_pattern_1 = r\"[a-zA-z0-9]* [a-zA-z0-9]*\\/[a-zA-z0-9]*\\/ \\||\\|[a-zA-Z0-9]*\\-[a-zA-Z0-9]* [a-zA-Z0-9]* \\-[a-zA-Z0-9]*-[a-zA-Z0-9]*\\, [a-zA-Z0-9]*\\+[a-zA-Z0-9]* [a-zA-Z0-9]* [a-zA-Z0-9]*\""
   ]
  },
  {
   "cell_type": "code",
   "execution_count": null,
   "id": "3fb422ed",
   "metadata": {},
   "outputs": [],
   "source": [
    "item_pattern_2 = r\"\\|[a-zA-Z0-9]*\\-[a-zA-Z0-9]* [a-zA-Z0-9]* \\-[a-zA-Z0-9]*-[a-zA-Z0-9]*\\, [a-zA-Z0-9]*\\+[a-zA-Z0-9]* [a-zA-Z0-9]* [a-zA-Z0-9]*\""
   ]
  },
  {
   "cell_type": "code",
   "execution_count": null,
   "id": "18590a35",
   "metadata": {},
   "outputs": [],
   "source": [
    "# re.findall(item_pattern_1,purchase_text)"
   ]
  },
  {
   "cell_type": "markdown",
   "id": "abc97fb8",
   "metadata": {},
   "source": [
    "# amount"
   ]
  },
  {
   "cell_type": "code",
   "execution_count": null,
   "id": "211652bf",
   "metadata": {},
   "outputs": [],
   "source": [
    "amount_pattern = r'\\bTotal\\b .*'"
   ]
  },
  {
   "cell_type": "code",
   "execution_count": null,
   "id": "83a9fa61",
   "metadata": {},
   "outputs": [],
   "source": [
    "amount_match = re.findall(amount_pattern,purchase_text)"
   ]
  },
  {
   "cell_type": "code",
   "execution_count": null,
   "id": "31a76e21",
   "metadata": {},
   "outputs": [],
   "source": [
    "amount = amount_match[-1].split(\" \")[-1]"
   ]
  },
  {
   "cell_type": "code",
   "execution_count": null,
   "id": "7c914883",
   "metadata": {},
   "outputs": [],
   "source": [
    "print(amount)"
   ]
  },
  {
   "cell_type": "code",
   "execution_count": null,
   "id": "f95fbbc2",
   "metadata": {},
   "outputs": [],
   "source": [
    "amount_pattern = r'\\bTotal\\b .*'\n",
    "amount_match = re.findall(amount_pattern,purchase_text)\n",
    "amount = amount_match[-1].split(\" \")[-1]\n",
    "# print(type(amount))\n",
    "amount_without_comma = amount.replace(',', '')  # Remove the comma\n",
    "print(float(amount_without_comma))\n",
    "\n"
   ]
  },
  {
   "cell_type": "code",
   "execution_count": null,
   "id": "68ee98ea",
   "metadata": {},
   "outputs": [],
   "source": []
  },
  {
   "cell_type": "markdown",
   "id": "a0ef2d2f",
   "metadata": {},
   "source": [
    "# Date"
   ]
  },
  {
   "cell_type": "code",
   "execution_count": null,
   "id": "963cc9ed",
   "metadata": {},
   "outputs": [],
   "source": [
    "import re\n",
    "from datetime import datetime\n",
    "\n",
    "# Check if dates were found\n",
    "def Date_format(dates_found):\n",
    "    if dates_found:\n",
    "        # Use the first date from the list\n",
    "        date_str = dates_found[0]\n",
    "\n",
    "        # Desired output date format\n",
    "        output_date_format = \"%d-%b-%y\"\n",
    "\n",
    "        # Convert and format the date\n",
    "        parsed_date = None\n",
    "        for input_format in [\"%d-%b-%y\", \"%d.%m.%Y\", \"%d.%m.%Y\"]:\n",
    "            try:\n",
    "                parsed_date = datetime.strptime(date_str, input_format)\n",
    "                formatted_date = parsed_date.strftime(output_date_format)\n",
    "                break\n",
    "            except ValueError:\n",
    "                pass\n",
    "        if parsed_date is None:\n",
    "            print(f\"Unable to parse date: {date_str}\")\n",
    "        else:\n",
    "            return formatted_date\n",
    "    else:\n",
    "        print(\"No dates found in the text.\")\n"
   ]
  },
  {
   "cell_type": "code",
   "execution_count": null,
   "id": "4e48578c",
   "metadata": {},
   "outputs": [],
   "source": [
    "date_patern = r\"\\d{1,2}\\-[a-zA-Z]*\\-\\d{1,2}|\\d{1,2}\\.\\d{1,2}\\.\\d{2,4}\""
   ]
  },
  {
   "cell_type": "code",
   "execution_count": null,
   "id": "16c2a8c0",
   "metadata": {},
   "outputs": [],
   "source": [
    "dates_found = re.findall(date_patern,purchase_text)"
   ]
  },
  {
   "cell_type": "code",
   "execution_count": null,
   "id": "fc88ceab",
   "metadata": {},
   "outputs": [],
   "source": [
    "dates_found"
   ]
  },
  {
   "cell_type": "code",
   "execution_count": null,
   "id": "8cd81f03",
   "metadata": {},
   "outputs": [],
   "source": []
  },
  {
   "cell_type": "code",
   "execution_count": null,
   "id": "e5a06479",
   "metadata": {},
   "outputs": [],
   "source": [
    "def purchase_data_collecting(text):\n",
    "    \n",
    "    pu_buyer,new_item,amount_match,pu_saler = \"None\"\n",
    "\n",
    "    # items\n",
    "    purchase_item = r\"\\d{1,2} \\[[a-zA-Z0-9]* [a-zA-Z0-9]*\\-[a-zA-Z0-9]*|\\d \\|.*|.*CGST.*|\\bDESCRIPTION\\b\\n.*\\n.*\\n.*\\n.*|\\d{1,2} \\|[a-zA-Z]\\-[a-zA-Z0-9]* [a-zA-Z]* \\-[a-zA-Z0-9]*-[a-zA-Z0-9], \"\n",
    "\n",
    "    amount_pattern = r'\\bTotal\\b .*'\n",
    "\n",
    "    saler_pattern = r\"[a-zA-Z]* [a-zA-Z]* & Systems|[A-z]* [A-z]* Limited|[A-z]* [A-z]* [A-z]* Ltd|[a-zA-Z]* [a-zA-Z]* SOLUTION|[a-zA-Z]* Electronics\"\n",
    "    \n",
    "    buyer_pattern =  r\"[a-zA-Z]* [a-zA-Z]* [a-zA-Z]* Ltd|[a-zA-Z]* [a-zA-Z]* [a-zA-Z]* [a-zA-Z]* Limited|[a-zA-Z]*.[a-zA-Z]*. [a-zA-Z]* \\([a-zA-Z]\\) Ltd|[a-zA-Z]* [a-zA-Z]* [a-zA-Z]* [a-zA-Z]* LIMITED|[A-Z]*.[A-Z]*. [A-Z]* [A-Z]* LTD|[A-Z]* [A-Z]* [A-Z]* [A-Z]* Ltd|[a-zA-z]*.[a-zA-z]*.[a-zA-z]*. [a-zA-z]*. Ltd\"\n",
    "    \n",
    "    date_patern = r\"\\d{1,2}\\-[a-zA-Z]*\\-\\d{1,2}|\\d{1,2}\\.\\d{1,2}\\.\\d{2,4}\"\n",
    "        \n",
    "    new_item = re.findall(purchase_item,text)\n",
    "        \n",
    "    amount_match = re.findall(amount_pattern,text)\n",
    "\n",
    "    pu_saler = re.findall(saler_pattern,text)\n",
    "    \n",
    "    pu_buyer = re.findall(buyer_pattern,text)\n",
    "    \n",
    "    date = re.findall(date_patern,text)[0]\n",
    "\n",
    "    return pu_buyer[0],new_item,amount_match,pu_saler[0],date\n"
   ]
  },
  {
   "cell_type": "code",
   "execution_count": null,
   "id": "a856d062",
   "metadata": {},
   "outputs": [],
   "source": [
    "pu_buyer,new_item,amount_match,pu_saler,date = purchase_data_collecting(purchase_text)"
   ]
  },
  {
   "cell_type": "markdown",
   "id": "b96ecd73",
   "metadata": {},
   "source": [
    "# Data_Fetching"
   ]
  },
  {
   "cell_type": "code",
   "execution_count": 5,
   "id": "06a3557e",
   "metadata": {},
   "outputs": [],
   "source": [
    "def pdf_to_text(pdf_path):\n",
    "    poppler_path = r\"D:\\programing software\\Release-23.07.0-0\\poppler-23.07.0\\Library\\bin\"\n",
    "    \n",
    "    images = convert_from_path(pdf_path, poppler_path=poppler_path)\n",
    "    \n",
    "    extracted_text = \"\"\n",
    "    \n",
    "    for page_num, pdf_image in enumerate(images, start=1):\n",
    "        page_text = pytesseract.image_to_string(pdf_image)\n",
    "        extracted_text += f\"Page {page_num}:\\n{page_text}\"\n",
    "    \n",
    "    return extracted_text"
   ]
  },
  {
   "cell_type": "code",
   "execution_count": 28,
   "id": "f6cbb7e2",
   "metadata": {},
   "outputs": [],
   "source": [
    "path_1 = r\"D:\\Data Science(Ekeeda)\\Projects\\document_classsification\\ALP Aeroflex Go Live Invoice.pdf\"\n",
    "\n",
    "path_2 = r\"D:\\Data Science(Ekeeda)\\Projects\\document_classsification\\Pedido compra - 2023-08-04T111702.513.pdf\"\n",
    "\n",
    "text = pdf_to_text(path_2)"
   ]
  },
  {
   "cell_type": "code",
   "execution_count": 31,
   "id": "37789e43",
   "metadata": {},
   "outputs": [
    {
     "data": {
      "text/plain": [
       "\"Page 1:\\nALP OVERSEAS PVT LTD\\nOPP P.G DEGREE COLLEGE\\nBILASPUR ROAD\\nRUDRAPUR, 263153\\nUDHAM SINGH NAGAR\\nINDIA\\n\\nBuy-from Vendor No.\\nVAT Registration No.\\n\\nOrder PO23-0444\\n\\nPayment Method\\nDocument Date\\n\\nPayment Terms\\nShipment Method\\n\\nALP Gieg\\n\\nReference No.\\n2436ASMS O9TP267\\n2455ASGHB O9TP231\\n2729ASMV 09GB268\\n3359ASMH 09060/19\\n3554ASMH 09GB344\\n3569ASMHB O9TP172\\n3735ASMV1H 09087/89\\n3743ASMV O9TP153\\n4435ASMMR O9TP619\\n4911ASGLT O9TP469\\n5184ASMH O9TP805\\n5364ASMST 09GB413\\n5438ASMV 09GC037\\n5439ASMV 09GC039GIEG\\n5689ASMR O9TP213\\n6011ASMH O9TPO87\\n6044ASMR1D O9TP379\\n6077AB ALPOP132\\n6089ASMH O9TP232\\n6091ASMR O9TP204\\n6292ASMVT O9TP120\\n6300ASMVT 09GB222\\n6307ASMV 09GB568\\n7012ASRR 09027/4\\n7246ASMV1H 09GB187\\n7247ASMV 09GB184\\n7249ASMHT 09GB552\\n7260ASMH O9TPO99\\n7274ASMV 09GB188\\n7281ASMV 09GB188P1\\n7300ASMR 09GB483\\n7810ASGHB O9TP170\\n8041ASMR O9TP294\\n8422ASMHB6K O9TP472\\n8537ASMV 09066/13\\n8554ASMHT-AV 09GB253\\n8613ASMHT O9TP423\\n8635CB-P ALPOP67\\n8649ASGRT O9TP658\\n8649CB-P\\n\\n8840ASCRS ALPOP365\\n\\nP70000\\nOSAAACG6366L2ZD\\n\\nTransf. bancaria\\n4. August 2023\\n\\nBank Transfer at 75 days\\nFOB BARCELONA\\n\\nDescription\\n\\nBMW E46 SERIES 3 1998-2005\\n\\nMINI COOPER R56 07- BOTTOM\\nCITROEN XSARA PICASSO 00- 07\\n\\nFIAT PANDA 03-11\\n\\nFORD KA 96 -\\n\\nFORD MONDEO 07- BOTTOM\\n\\nFIAT DUCATO II 94-06 / BOXER 94-98 /\\nJUMPER\\n\\nFORD TOURNEO/CONNECT 02- WS-MLD\\nKIA VENGA 2009- RIGHT SIDE\\n\\nMAN TGA, L/M small, 00-05, WS-RETAINER,\\n2.202mm\\n\\nMAZDA CX3 15- 3 SIDED WITH TAPE\\nMERCEDES CLASS C W204 07 -\\n\\nVW VITO II / VIANO 3\\n\\nMERCEDES SPRINTER 06-\\n\\nMITSUBISHI ASX 10-\\n\\nNISSAN MICRA K12 03 -\\n\\nNISSAN QASHQAI 2006-14 - SUNROOF (W/\\nHOTMELT)\\n\\nNISSAN LEAF 2018- COVER BRACKET\\nNISSAN PULSAR 14-\\n\\nNISSAN X-TRAIL 14 -\\n\\nOPEL CORSA C COMBO 00 -\\n\\nOPEL VIVARO, 01-, WS-MOULDING TOP\\nOPEL ZAFIRA 05- SOFT VERSION\\n\\nLAND ROVER DEFENDER 83-98\\nRENAULT KANGOO I! 01-08\\n\\nMASTER II 97-/DAILY 99- /MOVANO 99\\n-/INTERSTAR 03-\\n\\nRENAULT LAGUNA 01 -\\n\\nRENAULT MEGANE II 02-\\n\\nRENAULT KANGOO III 08-\\n\\nRENAULT MASTER Ill 10-\\n\\nRENAULT KADJAR 2015-\\n\\nSKODA OCTAVIA 04- BOTTOM\\n\\nSUZUKI VITARA 5P 2015-\\n\\nTOYOTA PRIUS RHD 2016- BOTTOM\\nVW TRANSPORTER T4 '90 - '97\\n\\nAUDI A3 96-03 TOP AUTOVER\\n\\nVW UP 2011- TOP TRIM\\n\\nVW CRAFTER 2017- CAMERA BRACKET\\nVWT-CROSS 2019- TOP TRIM\\n\\nVW T-Cross 21-, camera bracket\\n\\nCLIP VOLVO XC60 2008- SIDE\\n\\nf™\\n\\nALPGIEG\\n\\nVw\\n\\nALP GIEG SL\\n\\nC/ Edison 1\\n\\n08150 PARETS DEL VALLES\\nBarcelona - ESPANA\\n\\nVAT Registration No.\\nPhone No.\\n\\nPART OF ALP GROUP\\n\\nB65910887\\n+34 93 849 7007\\n\\nHome Page www.alpgieg.com\\nEmail info@alpgieg.com\\n\\nPurchaser Corina Meul\\n\\nPage 1\\n\\nDirect Expected\\nUnit Receipt\\n\\nQuantity Cost Date Amount\\n1.400,00 2,40 02.11.2023 3.360,00\\n1.800,00 1,34 02.11.2023 2.412,00\\n700,00 1,73 02.11.2023 1.211,00\\n520,00 2,08 02.11.2023 1.081,60\\n250,00 2,16 02.11.2023 540,00\\n1.560,00 2,05 02.11.2023 3.198,00\\n800,00 2,32 02.11.2023 1.856,00\\n490,00 2,17 02.11.2023 1.063,30\\n1.500,00 0,86 02.11.2023 1.290,00\\n1.200,00 2,74 02.11.2023 3.288,00\\n700,00 2,50 02.11.2023 1.750,00\\n2.100,00 0,93 02.11.2023 1.953,00\\n1.470,00 3,76 02.11.2023 5.527,20\\n840,00 4,26 02.11.2023 3.578,40\\n550,00 2,25 02.11.2023 1.237,50\\n750,00 1,14 02.11.2023 855,00\\n1.350,00 2,20 02.11.2023 2.970,00\\n480,00 1,34 02.11.2023 643,20\\n500,00 2,10 02.11.2023 1.050,00\\n750,00 1,67 02.11.2023 1.252,50\\n600,00 1,11 02.11.2023 666,00\\n1.650,00 1,78 02.11.2023 2.937,00\\n1.050,00 1,92 02.11.2023 2.016,00\\n800,00 5,95 02.11.2023 4.760,00\\n1.600,00 0,89 02.11.2023 1.424,00\\n600,00 1,92 02.11.2023 1.152,00\\n250,00 0,61 02.11.2023 152,50\\n1.000,00 1,90 02.11.2023 1.900,00\\n2.150,00 1,38 02.11.2023 2.967,00\\n1.950,00 1,67 02.11.2023 3.256,50\\n800,00 1,22 02.11.2023 976,00\\n1.040,00 1,99 02.11.2023 2.069,60\\n480,00 2,19 02.11.2023 1.051,20\\n720,00 3,53 02.11.2023 2.541,60\\n600,00 1,35 02.11.2023 810,00\\n1.800,00 0,58 02.11.2023 1.044,00\\n300,00 1,04 02.11.2023 312,00\\n280,00 1,06 02.11.2023 296,80\\n400,00 1,04 02.11.2023 416,00\\n300,00 1,45 02.11.2023 435,00\\n1.000,00 0,29 02.11.2023 290,00\\nTotal EUR Excl. VAT 71.589,90\\nVAT+EC Amount 0,00\\nTotal EUR Incl. VAT 71.589,90\\n\\nReg. Merc. de Barcelona, Tomo 43472, Folio 0113, Seccién General, Hoja 431006, Provincia B, Inscripcion. 1, N.I.F.: ESB65910887\\nPage 2:\\nALP OVERSEAS PVT LTD\\nOPP P.G DEGREE COLLEGE\\nBILASPUR ROAD\\nRUDRAPUR, 263153\\nUDHAM SINGH NAGAR\\n\\nINDIA\\n\\nBuy-from Vendor No. P70000\\n\\nVAT Registration No. O5AAACG6366L2ZD\\nOrder PO23-0444\\n\\nPayment Method Transf. bancaria\\nDocument Date 4. August 2023\\n\\nPayment Terms Bank Transfer at 75 days\\nShipment Method FOB BARCELONA\\n\\nShip-to Address\\n\\nAlmacén principal\\n\\nC/ Edison 1\\n\\n08150 PARETS DEL VALLES\\nBarcelona\\n\\nESPANA\\n\\nas\\nALPGIE\\n\\nALP GIEG SL\\n\\nC/ Edison 1\\n\\n08150 PARETS DEL VALLES\\nBarcelona - ESPANA\\n\\nVAT Registration No. B65910887\\nPhone No. +34 93 849 7007\\nHome Page www.alpgieg.com\\nEmail info@alpgieg.com\\nPurchaser Corina Meul\\nPage 2\\n\\nReg. Merc. de Barcelona, Tomo 43472, Folio 0113, Seccién General, Hoja 431006, Provincia B, Inscripcion. 1, N.I.F.: ESB65910887\\n\""
      ]
     },
     "execution_count": 31,
     "metadata": {},
     "output_type": "execute_result"
    }
   ],
   "source": [
    "text"
   ]
  },
  {
   "cell_type": "code",
   "execution_count": 14,
   "id": "96c6b9c5",
   "metadata": {},
   "outputs": [],
   "source": [
    "import spacy\n",
    "from spacy import displacy\n",
    "\n",
    "NLP = spacy.load(\"en_core_web_sm\")"
   ]
  },
  {
   "cell_type": "code",
   "execution_count": 15,
   "id": "a9e133db",
   "metadata": {},
   "outputs": [],
   "source": [
    "def data(text):\n",
    "#     create all the pattern's which are need for fetching the data from pdf \n",
    "#     all company_s name fetch pattern\n",
    "    company_pattern =  r\"[a-zA-Z]* [a-zA-Z]* [a-zA-Z]* Ltd|[a-zA-Z]* [a-zA-Z]* [a-zA-Z]* [a-zA-Z]* Limited|[a-zA-Z]*.[a-zA-Z]*. [a-zA-Z]* \\([a-zA-Z]\\) Ltd|[a-zA-Z]* [a-zA-Z]* [a-zA-Z]* [a-zA-Z]* LIMITED|[A-Z]*.[A-Z]*. [A-Z]* [A-Z]* LTD|[A-Z]* [A-Z]* [A-Z]* [A-Z]* Ltd|[a-zA-z]*.[a-zA-z]*.[a-zA-z]*. [a-zA-z]*. Ltd\"\n",
    "#     document creating date\n",
    "    document_date_patern = r\"\\b\\d+\\.\\s[a-zA-Z]+\\s\\d{2,4}\\b|\\d{1,2}\\/\\d{1,2}\\/\\d{2,4}\"\n",
    "    contact_numer_patern = r\"\\+\\d{2} \\d{2} \\d{3} \\d{4}|\\+\\d{2} \\d{10}\"\n",
    "    \n",
    "    \n",
    "    \n",
    "#     block of the all data received \n",
    "\n",
    "    document_date = re.findall(document_date_patern,text)\n",
    "    company_s = re.findall(company_pattern,text)\n",
    "    contact_numer = re.findall(contact_numer_patern,text)\n",
    "    \n",
    "    \n",
    "    return company_s,document_date,contact_numer"
   ]
  },
  {
   "cell_type": "code",
   "execution_count": 16,
   "id": "1a895ad8",
   "metadata": {},
   "outputs": [
    {
     "data": {
      "text/plain": [
       "'+34 93 849 7007'"
      ]
     },
     "execution_count": 16,
     "metadata": {},
     "output_type": "execute_result"
    }
   ],
   "source": [
    "data(text)[2][1]"
   ]
  },
  {
   "cell_type": "code",
   "execution_count": 17,
   "id": "8c581c2e",
   "metadata": {},
   "outputs": [
    {
     "name": "stdout",
     "output_type": "stream",
     "text": [
      "['+34 93 849 7007', '+34 93 849 7007']\n"
     ]
    }
   ],
   "source": [
    "contact_numer_patern = r\"\\+\\d{2} \\d{2} \\d{3} \\d{4}|\\+\\d{2} \\d{10}\"\n",
    "contact_numer = re.findall(contact_numer_patern,text)\n",
    "print(contact_numer)"
   ]
  },
  {
   "cell_type": "code",
   "execution_count": 18,
   "id": "2f0bdeb5",
   "metadata": {},
   "outputs": [
    {
     "name": "stdout",
     "output_type": "stream",
     "text": [
      "The list is not empty\n"
     ]
    }
   ],
   "source": [
    "my_list = [2]\n",
    "if not my_list:\n",
    "    print(\"The list is empty\")\n",
    "else:\n",
    "    print(\"The list is not empty\")"
   ]
  },
  {
   "cell_type": "code",
   "execution_count": 19,
   "id": "947c861a",
   "metadata": {},
   "outputs": [],
   "source": [
    "import tabula \n",
    "import pandas as pd\n",
    "tabula_data = tabula.read_pdf(path_2,pages=\"all\",stream=True)"
   ]
  },
  {
   "cell_type": "code",
   "execution_count": 20,
   "id": "5a25a910",
   "metadata": {},
   "outputs": [],
   "source": [
    "table_data = []\n",
    "\n",
    "for table in tabula_data:\n",
    "    table_data.extend(table.values.tolist())\n",
    "\n",
    "df = pd.DataFrame(table_data)"
   ]
  },
  {
   "cell_type": "code",
   "execution_count": 36,
   "id": "22342df5",
   "metadata": {},
   "outputs": [
    {
     "data": {
      "text/html": [
       "<div>\n",
       "<style scoped>\n",
       "    .dataframe tbody tr th:only-of-type {\n",
       "        vertical-align: middle;\n",
       "    }\n",
       "\n",
       "    .dataframe tbody tr th {\n",
       "        vertical-align: top;\n",
       "    }\n",
       "\n",
       "    .dataframe thead th {\n",
       "        text-align: right;\n",
       "    }\n",
       "</style>\n",
       "<table border=\"1\" class=\"dataframe\">\n",
       "  <thead>\n",
       "    <tr style=\"text-align: right;\">\n",
       "      <th></th>\n",
       "      <th>0</th>\n",
       "      <th>1</th>\n",
       "      <th>2</th>\n",
       "      <th>3</th>\n",
       "      <th>4</th>\n",
       "      <th>5</th>\n",
       "      <th>6</th>\n",
       "    </tr>\n",
       "  </thead>\n",
       "  <tbody>\n",
       "    <tr>\n",
       "      <th>39</th>\n",
       "      <td>8613ASMHT</td>\n",
       "      <td>09TP423</td>\n",
       "      <td>VW UP 2011-  TOP TRIM</td>\n",
       "      <td>300,00</td>\n",
       "      <td>1,04</td>\n",
       "      <td>02.11.2023</td>\n",
       "      <td>312,00</td>\n",
       "    </tr>\n",
       "    <tr>\n",
       "      <th>40</th>\n",
       "      <td>8635CB-P</td>\n",
       "      <td>ALPOP67</td>\n",
       "      <td>VW CRAFTER 2017-  CAMERA BRACKET</td>\n",
       "      <td>280,00</td>\n",
       "      <td>1,06</td>\n",
       "      <td>02.11.2023</td>\n",
       "      <td>296,80</td>\n",
       "    </tr>\n",
       "    <tr>\n",
       "      <th>41</th>\n",
       "      <td>8649ASGRT</td>\n",
       "      <td>09TP658</td>\n",
       "      <td>VW T-CROSS  2019-  TOP TRIM</td>\n",
       "      <td>400,00</td>\n",
       "      <td>1,04</td>\n",
       "      <td>02.11.2023</td>\n",
       "      <td>416,00</td>\n",
       "    </tr>\n",
       "    <tr>\n",
       "      <th>42</th>\n",
       "      <td>8649CB-P</td>\n",
       "      <td>NaN</td>\n",
       "      <td>VW T-Cross 21-, camera bracket</td>\n",
       "      <td>300,00</td>\n",
       "      <td>1,45</td>\n",
       "      <td>02.11.2023</td>\n",
       "      <td>435,00</td>\n",
       "    </tr>\n",
       "    <tr>\n",
       "      <th>43</th>\n",
       "      <td>8840ASCRS</td>\n",
       "      <td>ALPOP365</td>\n",
       "      <td>CLIP VOLVO XC60 2008-SIDE</td>\n",
       "      <td>1.000,00</td>\n",
       "      <td>0,29</td>\n",
       "      <td>02.11.2023</td>\n",
       "      <td>290,00</td>\n",
       "    </tr>\n",
       "  </tbody>\n",
       "</table>\n",
       "</div>"
      ],
      "text/plain": [
       "            0         1                                 2         3     4  \\\n",
       "39  8613ASMHT   09TP423             VW UP 2011-  TOP TRIM    300,00  1,04   \n",
       "40   8635CB-P   ALPOP67  VW CRAFTER 2017-  CAMERA BRACKET    280,00  1,06   \n",
       "41  8649ASGRT   09TP658       VW T-CROSS  2019-  TOP TRIM    400,00  1,04   \n",
       "42   8649CB-P       NaN    VW T-Cross 21-, camera bracket    300,00  1,45   \n",
       "43  8840ASCRS  ALPOP365         CLIP VOLVO XC60 2008-SIDE  1.000,00  0,29   \n",
       "\n",
       "             5       6  \n",
       "39  02.11.2023  312,00  \n",
       "40  02.11.2023  296,80  \n",
       "41  02.11.2023  416,00  \n",
       "42  02.11.2023  435,00  \n",
       "43  02.11.2023  290,00  "
      ]
     },
     "execution_count": 36,
     "metadata": {},
     "output_type": "execute_result"
    }
   ],
   "source": [
    "df.tail()"
   ]
  },
  {
   "cell_type": "code",
   "execution_count": null,
   "id": "8e63f576",
   "metadata": {},
   "outputs": [],
   "source": []
  },
  {
   "cell_type": "code",
   "execution_count": null,
   "id": "ca320aca",
   "metadata": {},
   "outputs": [],
   "source": []
  }
 ],
 "metadata": {
  "kernelspec": {
   "display_name": "Python 3 (ipykernel)",
   "language": "python",
   "name": "python3"
  },
  "language_info": {
   "codemirror_mode": {
    "name": "ipython",
    "version": 3
   },
   "file_extension": ".py",
   "mimetype": "text/x-python",
   "name": "python",
   "nbconvert_exporter": "python",
   "pygments_lexer": "ipython3",
   "version": "3.11.4"
  }
 },
 "nbformat": 4,
 "nbformat_minor": 5
}
