{
 "cells": [
  {
   "cell_type": "code",
   "execution_count": 5,
   "id": "a1cfc217",
   "metadata": {},
   "outputs": [],
   "source": [
    "import pytesseract\n",
    "from PIL import Image\n",
    "import cv2\n",
    "import numpy as np\n",
    "from pdf2image import convert_from_path\n",
    "import os\n",
    "\n",
    "import re\n",
    "\n",
    "tesseract_path = r\"C:\\Users\\Rahul\\AppData\\Local\\Programs\\Tesseract-OCR\\tesseract.exe\"\n",
    "\n",
    "import pytesseract\n",
    "\n",
    "# Set the path to the Tesseract executable (replace 'tesseract_path' with your actual path)\n",
    "pytesseract.pytesseract.tesseract_cmd = tesseract_path\n"
   ]
  },
  {
   "cell_type": "code",
   "execution_count": 6,
   "id": "3c120527",
   "metadata": {},
   "outputs": [],
   "source": [
    "def pdf_to_text(pdf_path):\n",
    "    poppler_path = r\"D:\\programing software\\Release-23.07.0-0\\poppler-23.07.0\\Library\\bin\"\n",
    "    \n",
    "    images = convert_from_path(pdf_path, poppler_path=poppler_path)\n",
    "    \n",
    "    extracted_text = \"\"\n",
    "    \n",
    "    for page_num, pdf_image in enumerate(images, start=1):\n",
    "        page_text = pytesseract.image_to_string(pdf_image)\n",
    "        extracted_text += f\"Page {page_num}:\\n{page_text}\"\n",
    "    \n",
    "    return extracted_text"
   ]
  },
  {
   "cell_type": "code",
   "execution_count": 163,
   "id": "3cdf3ebc",
   "metadata": {},
   "outputs": [],
   "source": [
    "pdf_path = r\"D:\\Data Science(Ekeeda)\\Projects\\document_classsification\\extracted_data\\ARL Infratech Ltd Invoice No. 5362.pdf\"\n",
    "text = pdf_to_text(pdf_path)"
   ]
  },
  {
   "cell_type": "code",
   "execution_count": 164,
   "id": "057dfdde",
   "metadata": {},
   "outputs": [
    {
     "name": "stdout",
     "output_type": "stream",
     "text": [
      "Page 1:\n",
      "Tax Invoice e-Invoice\n",
      "\n",
      "IRN : €6€4112988f1830cdf9faa7a2dad6255b995a1d1507-\n",
      "ee0d5e9ef9043790865b0\n",
      "Ack No. : 172312534897952\n",
      "\n",
      "Ack Date —: 25-Mar-23\n",
      "\n",
      "B M Infotrade Private Limited Invoice No. e-Way BillNo. |Dated\n",
      "\n",
      "53 A, Vishnupuri. Dalda Factory Road, BM/22-23/5362 721327417761 |25-Mar-23\n",
      "Durgapura, Jaipur 7\n",
      "\n",
      "UDYAM-RJ-17-0010127 Delivery Note Mode/Terms of Payment\n",
      "\n",
      "GSTIN/UIN: O8AAECB8518R1ZZ\n",
      "State Name : Rajasthan, Code : 08\n",
      "CIN: U52190RJ2012PTCO37624 Reference No. & Date. Other References\n",
      "Contact : 9829189200, 9314508367\n",
      "E-Mail : beena@bmtraders.com\n",
      "\n",
      "https://bminfotrade.com Buyer's Order No. Dated\n",
      "\n",
      "Consignee (Ship to) 549/2452 23-Mar-23\n",
      "\n",
      "ARL Infratech Ltd Dispatch Doc No. Delivery Note Date\n",
      "Akshat House A-27/13A, Kanti Chandra Road,\n",
      "\n",
      "Bani Park, Jaipur 302016 Dispatched through Destination\n",
      "GSTIN/UIN : OBAAFCA9416Q1Z2 - - -\n",
      "State Name : Rajasthan, Code : 08 Vessel/Flight No. Place of receipt by shipper:\n",
      "\n",
      "Buyer (Bill to)\n",
      "\n",
      "ARL Infratech Ltd\n",
      "\n",
      "SPL-185, RIICO Industrial Area, Phase 2nd,\n",
      "Bagru Extension, Jaipur\n",
      "\n",
      "GSTIN/UIN : OBAAFCA9416Q1Z2\n",
      "State Name : Rajasthan, Code : 08\n",
      "Place of Supply : Rajasthan\n",
      "\n",
      "City/Port of Loading City/Port of Discharge\n",
      "\n",
      "Terms of Delivery\n",
      "\n",
      "sl Description of Goods HSN/SAC | GST | Quantity Rate per Amount\n",
      "No. Rate\n",
      "1 |HP Slim Desktop S01-PF2889in/i3 -12th 84715000 18% 3no.| 37,216.00 | no. 1,11,648.00\n",
      "/W11 + MSO/8GB/512 SSD\n",
      "one year warranty\n",
      "S.No.4CE238CR8J, 4CE248BJRD, 4CE246BMPV\n",
      "2 |HP (19.5?) LED Monitor 85285200 18 % 3 no.\n",
      "S.No.3CQ3011GTJ, 3CQ2230J2F, 3CQ23507CF\n",
      "1,11,648.00\n",
      "CGST Output 10,048.32\n",
      "\n",
      "Digitally signed by BEENA GUPTA\n",
      "Date: 2023104.10 16:35:25 +05:30\n",
      "\n",
      "Reason: Verified continued to page number 2\n",
      "\n",
      "Location: Jaipur\n",
      "SUBJECT TO JAIPUR JURISDICTION\n",
      "\n",
      "This is a Computer Generated Invoice\n",
      "Page 2:\n",
      "Tax Invoice(Page 2)\n",
      "B M Infotrade Private Limited Invoice No. e-Way BillNo. |Dated\n",
      "53 A, Vishnupuri. Dalda Factory Road, BM/22-23/5362 721327417761 25-Mar-23\n",
      "Durgapura, Jaipur ~\n",
      "UDYAM-RJ-17-0010127 Delivery Note Mode/Terms of Payment\n",
      "\n",
      "GSTIN/UIN: O8AAECB8518R12ZZ\n",
      "State Name: Rajasthan, Code : 08\n",
      "CIN: U52190RJ2012PTCO37624\n",
      "Contact : 9829189200, 9314508367\n",
      "E-Mail : beena@bmtraders.com\n",
      "https://bminfotrade.com\n",
      "\n",
      "Reference No. & Date.\n",
      "\n",
      "Other References\n",
      "\n",
      "Buyer's Order No.\n",
      "\n",
      "Consignee (Ship to)\n",
      "\n",
      "ARL Infratech Ltd\n",
      "\n",
      "Akshat House A-27/13A, Kanti Chandra Road,\n",
      "Bani Park, Jaipur 302016\n",
      "\n",
      "GSTIN/UIN : OBAAFCA9416Q1Z2\n",
      "\n",
      "State Name : Rajasthan, Code : 08\n",
      "\n",
      "549/2452\n",
      "\n",
      "Dated\n",
      "23-Mar-23\n",
      "\n",
      "Dispatch Doc No.\n",
      "\n",
      "Delivery Note Date\n",
      "\n",
      "Dispatched through\n",
      "\n",
      "Destination\n",
      "\n",
      "Vessel/Flight No.\n",
      "\n",
      "Buyer (Bill to)\n",
      "\n",
      "ARL Infratech Ltd\n",
      "\n",
      "SPL-185, RIICO Industrial Area, Phase 2nd,\n",
      "Bagru Extension, Jaipur\n",
      "\n",
      "GSTIN/UIN : OBAAFCA9416Q1Z2\n",
      "State Name : Rajasthan, Code : 08\n",
      "Place of Supply : Rajasthan\n",
      "\n",
      "Place of receipt by shipper:\n",
      "\n",
      "City/Port of Loading\n",
      "\n",
      "City/Port of Discharge\n",
      "\n",
      "Terms of Delivery\n",
      "\n",
      "sl Description of Goods HSN/SAC GST | Quantity Rate per Amount\n",
      "No. Rate\n",
      "SGST Output 10,048.32\n",
      "Total 6 no.  1,31,744.64\n",
      "Amount Chargeable (in words) E.&O.E\n",
      "Rupees One Lakh Thirty One Thousand Seven Hundred Forty Four and Sixty Four paise Only\n",
      "HSN/SAC Taxable Central Tax State Tax Total\n",
      "Value Rate Amount Rate Amount Tax Amount\n",
      "84715000 1,11,648.00 9% 10,048.32 9% 10,048.32 20,096.64\n",
      "85285200 9% 9%\n",
      "Total) 1,11,648.00 10,048.32 10,048.32 20,096.64\n",
      "\n",
      "Tax Amount (in words) :\n",
      "Company’s PAN : AAECB8518R\n",
      "\n",
      "Declaration\n",
      "\n",
      "1. Please note that this sale is subject to warranty terms\n",
      "laid down by our principals and we take no responsibility for\n",
      "any kind of omissions or errors on their part. 2. Goods one\n",
      "sold will not be taken back or replaced. 3. Any dispute or\n",
      "\n",
      "difference of opinion arising out of this invoice shall be\n",
      "resolved through Arbitration. A sole arbitrator shall be\n",
      "appointed by B M Infotrade Private Limited. The seat of\n",
      "Arbitration shall be Jaipur Certified that the particular given\n",
      "\n",
      "Branch\n",
      "\n",
      "Rupees Twenty Thousand Ninety Six and Sixty Four paise Only\n",
      "\n",
      "Company’s Bank Details\n",
      "Bank Name\n",
      "Alc No.\n",
      "\n",
      "& IFS Code\n",
      "\n",
      ": State Bank of India\n",
      ": 32377323083\n",
      "- Bajaj Nagar & SBIN0003227\n",
      "\n",
      "Customer's Seal and Signature\n",
      "\n",
      "for B M Infotrade Private Limited\n",
      "\n",
      "Authorised Signatory\n",
      "\n",
      "SUBJECT TO JAIPUR JURISDICTION\n",
      "\n",
      "This is a Computer Generated Invoice\n",
      "\n",
      "Page 3:\n",
      "e-Way Bill\n",
      "\n",
      "e-Way Bill\n",
      "\n",
      "Doc No. : BM/22-23/5362\n",
      "\n",
      "Date : 25-Mar-23\n",
      "\n",
      "IRN : €6e4112988f1830cdf9faa7a2dad6255b995a1d1507ee0d5e9ef9043790865b0\n",
      "AckNo. : 172312534897952\n",
      "\n",
      "Ack Date : 25-Mar-23\n",
      "\n",
      "1. e-Way Bill Details\n",
      "\n",
      "e-Way Bill No. : 721327417761 Mode : 1-Road Generated Date ; 25-Mar-23 12:00 PM\n",
      "Generated By : 08AAECB8518R1ZZ Approx Distance : 9KM Valid Upto : 26-Mar-23 11:59 PM\n",
      "Supply Type =: Outward-Supply Transaction Type: Bill To - Ship To\n",
      "\n",
      "2. Address Details\n",
      "From To\n",
      "\n",
      "ARL Infratech Ltd\n",
      "GSTIN : O8AAFCA9416Q1Z2\n",
      "\n",
      "B M Infotrade Private Limited\n",
      "GSTIN : O8AAECB8518R1ZZ\n",
      "\n",
      "Rajasthan Rajasthan\n",
      "\n",
      "Dispatch From Ship To\n",
      "\n",
      "53 A, Vishnupuri. Dalda Factory Road,, Durgapura, Jaipur, SPL-185, RIICO Industrial Area, Phase 2nd, Bagru Extension,\n",
      "UDYAM-RJ-17-0010127 Jaipur\n",
      "\n",
      "Jaipur Rajasthan 302018\n",
      "\n",
      "Jaipur Rajasthan 302016\n",
      "\n",
      "3. Goods Details\n",
      "\n",
      "HSN Product Name & Desc Quantity Taxable Amt Tax Rate\n",
      "Code (C+S)\n",
      "84715000 HP Slim Desktop S01-PF2889in/i3 -12th/W11 + MSO/8GB/512 SSD 3 NOS 1,11,648.00 9+9\n",
      "\n",
      "& Desktop\n",
      "85285200 HP (19.5?) LED Monitor & Monitor 3 NOS 9+9\n",
      "Tot.Taxable Amt 1,11,648.00 Other Amt Total Inv Amt 1,31,744.64\n",
      "CGST Amt 10,048.32 SGST Amt 10,048.32\n",
      "4. Transportation Details\n",
      "Transporter ID Doc No.\n",
      "Name : Date\n",
      "5. Vehicle Details\n",
      "Vehicle No. : RJ14PC1687 From : Jaipur CEWB No.\n",
      "\n",
      "\n"
     ]
    }
   ],
   "source": [
    "print(text)"
   ]
  },
  {
   "cell_type": "code",
   "execution_count": 122,
   "id": "786ce2b1",
   "metadata": {},
   "outputs": [],
   "source": [
    "saler_pattern = r\"[a-zA-Z]* Limited|[a-zA-Z]*.[a-zA-Z]*. [a-zA-Z]* [a-zA-Z]* LTD|[a-zA-Z]* \\([a-zA-Z]*\\) Limited|[a-zA-Z]* [a-zA-Z]* & Systems|[A-z]* [A-z]* Limited|[A-z]* [A-z]* [A-z]* Ltd|[a-zA-Z]* [a-zA-Z]* SOLUTION|[a-zA-Z]* Electronics\"\n",
    "\n",
    "pu_saler = re.findall(saler_pattern,text)"
   ]
  },
  {
   "cell_type": "code",
   "execution_count": 123,
   "id": "57ab84c3",
   "metadata": {},
   "outputs": [
    {
     "data": {
      "text/plain": [
       "['Infotrade Private Limited', 'Private Limited']"
      ]
     },
     "execution_count": 123,
     "metadata": {},
     "output_type": "execute_result"
    }
   ],
   "source": [
    "pu_saler"
   ]
  },
  {
   "cell_type": "code",
   "execution_count": 124,
   "id": "cb48198b",
   "metadata": {},
   "outputs": [],
   "source": [
    "purchase_item = r\"\\d{1,2} \\[[a-zA-Z0-9]* [a-zA-Z0-9]*\\-[a-zA-Z0-9]*|\\d \\|.*|.*CGST.*|\\bDESCRIPTION\\b\\n.*\\n.*\\n.*\\n.*|\\d{1,2} \\|[a-zA-Z]\\-[a-zA-Z0-9]* [a-zA-Z]* \\-[a-zA-Z0-9]*-[a-zA-Z0-9], \"\n",
    "\n",
    "new_item = re.findall(purchase_item,text)"
   ]
  },
  {
   "cell_type": "code",
   "execution_count": 125,
   "id": "f528c378",
   "metadata": {},
   "outputs": [
    {
     "data": {
      "text/plain": [
       "['2 |4-Mar-23',\n",
       " '4 |HP Pro Tower 280 G9/ i5 12500/8GB/256SSD/1TB 84715000 | 18% 4 no.| 63,800.00} no. 63,800.00',\n",
       " '2 |HP 21.5 IPS FHD VGA DP HDMI! TILT (1A7E4A7) 85285200 | 18% 41 no.',\n",
       " '3 | Quick Heal Internet Security 85238020 | 18% 4 no.| 1,465.00] no. 1,465.00',\n",
       " '4 | Quick Heal Internet Security Renewal 85238020 | 18 % 4 no.',\n",
       " 'CGST Output 5,873.85']"
      ]
     },
     "execution_count": 125,
     "metadata": {},
     "output_type": "execute_result"
    }
   ],
   "source": [
    "new_item"
   ]
  },
  {
   "cell_type": "code",
   "execution_count": 126,
   "id": "7f71dcff",
   "metadata": {},
   "outputs": [],
   "source": [
    "buyer_pattern =  r\"[a-zA-Z]* [a-zA-Z]* [a-zA-Z]* Ltd|[a-zA-Z]* [a-zA-Z]* [a-zA-Z]* [a-zA-Z]* Limited|[a-zA-Z]*.[a-zA-Z]*. [a-zA-Z]* \\([a-zA-Z]\\) Ltd|[a-zA-Z]* [a-zA-Z]* [a-zA-Z]* [a-zA-Z]* LIMITED|[A-Z]*.[A-Z]*. [A-Z]* [A-Z]* LTD|[A-Z]* [A-Z]* [A-Z]* [A-Z]* Ltd|[a-zA-z]*.[a-zA-z]*.[a-zA-z]*. [a-zA-z]*. Ltd\""
   ]
  },
  {
   "cell_type": "code",
   "execution_count": 127,
   "id": "d782b175",
   "metadata": {},
   "outputs": [],
   "source": [
    "pu_buyer = re.findall(buyer_pattern,text)"
   ]
  },
  {
   "cell_type": "code",
   "execution_count": 128,
   "id": "c9b72c59",
   "metadata": {},
   "outputs": [
    {
     "data": {
      "text/plain": [
       "'B M Infotrade Private Limited'"
      ]
     },
     "execution_count": 128,
     "metadata": {},
     "output_type": "execute_result"
    }
   ],
   "source": [
    "pu_buyer[-1]"
   ]
  },
  {
   "cell_type": "code",
   "execution_count": 129,
   "id": "eedb3bdf",
   "metadata": {},
   "outputs": [],
   "source": [
    "buyer_pattern = r\"Ahlicon Parenterals \\(India\\) Limited|AGM \\(ITS\\) [a-zA-Z]* [a-zA-Z]* [a-zA-Z]* India|ACC Limited|[a-zA-Z]* [a-zA-Z]* [a-zA-Z]* LIMITED|[a-zA-Z]* BANK|[a-zA-Z]* [a-zA-Z]* Exports|[a-zA-Z]* Solutions|[a-zA-Z]* [a-zA-Z]* [a-zA-Z]*\\. LTD|[a-zA-Z]*.[a-zA-Z]*. [a-zA-Z]* \\([a-zA-Z]\\) Ltd|[a-zA-Z]* [a-zA-Z]* [a-zA-Z]* [a-zA-Z]* LIMITED|[A-Z]*.[A-Z]*. [A-Z]* [A-Z]* LTD|[A-Z]* [A-Z]* [A-Z]* [A-Z]* Ltd|[a-zA-z]*.[a-zA-z]*.[a-zA-z]*. [a-zA-z]*. Ltd\""
   ]
  },
  {
   "cell_type": "code",
   "execution_count": 130,
   "id": "092cc911",
   "metadata": {},
   "outputs": [
    {
     "data": {
      "text/plain": [
       "[]"
      ]
     },
     "execution_count": 130,
     "metadata": {},
     "output_type": "execute_result"
    }
   ],
   "source": [
    "re.findall(buyer_pattern,text)"
   ]
  },
  {
   "cell_type": "code",
   "execution_count": 165,
   "id": "ad13af59",
   "metadata": {},
   "outputs": [
    {
     "data": {
      "text/plain": [
       "'1,31,744.64'"
      ]
     },
     "execution_count": 165,
     "metadata": {},
     "output_type": "execute_result"
    }
   ],
   "source": [
    "amount_pattern = r'\\bTotal\\b .*'\n",
    "amount_match = re.findall(amount_pattern,text)\n",
    "amount_match[0].split(\" \")[-1]"
   ]
  },
  {
   "cell_type": "code",
   "execution_count": 166,
   "id": "e3fdb48c",
   "metadata": {},
   "outputs": [
    {
     "data": {
      "text/plain": [
       "'1,31,744.64'"
      ]
     },
     "execution_count": 166,
     "metadata": {},
     "output_type": "execute_result"
    }
   ],
   "source": [
    "amount_match[0].split(\" \")[-1]"
   ]
  },
  {
   "cell_type": "code",
   "execution_count": 167,
   "id": "e1090822",
   "metadata": {},
   "outputs": [
    {
     "ename": "IndexError",
     "evalue": "list index out of range",
     "output_type": "error",
     "traceback": [
      "\u001b[1;31m---------------------------------------------------------------------------\u001b[0m",
      "\u001b[1;31mIndexError\u001b[0m                                Traceback (most recent call last)",
      "Cell \u001b[1;32mIn[167], line 12\u001b[0m\n\u001b[0;32m      9\u001b[0m         \u001b[38;5;28;01mbreak\u001b[39;00m\n\u001b[0;32m     10\u001b[0m     \u001b[38;5;28;01mreturn\u001b[39;00m Total_amount\n\u001b[1;32m---> 12\u001b[0m amount(matches_3)\n",
      "Cell \u001b[1;32mIn[167], line 8\u001b[0m, in \u001b[0;36mamount\u001b[1;34m(matches_3)\u001b[0m\n\u001b[0;32m      6\u001b[0m \u001b[38;5;28;01mfor\u001b[39;00m i \u001b[38;5;129;01min\u001b[39;00m matches_3:\n\u001b[0;32m      7\u001b[0m     a \u001b[38;5;241m=\u001b[39m i\u001b[38;5;241m.\u001b[39msplit(\u001b[38;5;124m'\u001b[39m\u001b[38;5;124m = \u001b[39m\u001b[38;5;124m'\u001b[39m)\n\u001b[1;32m----> 8\u001b[0m     Total_amount\u001b[38;5;241m.\u001b[39mappend(a[\u001b[38;5;241m1\u001b[39m])\n\u001b[0;32m      9\u001b[0m     \u001b[38;5;28;01mbreak\u001b[39;00m\n\u001b[0;32m     10\u001b[0m \u001b[38;5;28;01mreturn\u001b[39;00m Total_amount\n",
      "\u001b[1;31mIndexError\u001b[0m: list index out of range"
     ]
    }
   ],
   "source": [
    "pattern_3 = r'\\bTotal\\b .*'\n",
    "matches_3 = re.findall(pattern_3, text)\n",
    "        \n",
    "def amount(matches_3):\n",
    "    Total_amount = []\n",
    "    for i in matches_3:\n",
    "        a = i.split(' = ')\n",
    "        Total_amount.append(a[1])\n",
    "        break\n",
    "    return Total_amount\n",
    "\n",
    "amount(matches_3)"
   ]
  },
  {
   "cell_type": "code",
   "execution_count": null,
   "id": "46b48ef8",
   "metadata": {},
   "outputs": [],
   "source": []
  }
 ],
 "metadata": {
  "kernelspec": {
   "display_name": "Python 3 (ipykernel)",
   "language": "python",
   "name": "python3"
  },
  "language_info": {
   "codemirror_mode": {
    "name": "ipython",
    "version": 3
   },
   "file_extension": ".py",
   "mimetype": "text/x-python",
   "name": "python",
   "nbconvert_exporter": "python",
   "pygments_lexer": "ipython3",
   "version": "3.11.4"
  }
 },
 "nbformat": 4,
 "nbformat_minor": 5
}
