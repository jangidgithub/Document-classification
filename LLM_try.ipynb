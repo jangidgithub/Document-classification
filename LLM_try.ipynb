{
 "cells": [
  {
   "cell_type": "code",
   "execution_count": 11,
   "id": "aee9f318",
   "metadata": {},
   "outputs": [],
   "source": [
    "import pandas as pd\n",
    "import os"
   ]
  },
  {
   "cell_type": "code",
   "execution_count": 2,
   "id": "864693c4",
   "metadata": {},
   "outputs": [],
   "source": [
    "empty = pd.DataFrame(columns=[\"Buyer\", \"Saler\", \"Products\", \"Total_amount\", \"Invoice Type\"])"
   ]
  },
  {
   "cell_type": "code",
   "execution_count": 3,
   "id": "f39f6832",
   "metadata": {},
   "outputs": [],
   "source": [
    "def data_creator(buyer, saler, item, amount=0, type_='NONE'):\n",
    "    data_dict = {\n",
    "        \"Buyer\": buyer,\n",
    "        \"Saler\": saler,\n",
    "        \"Products\": item,\n",
    "        \"Total_amount\": amount,\n",
    "        \"Invoice Type\": type_\n",
    "    }\n",
    "    data = pd.DataFrame([data_dict])\n",
    "    return data"
   ]
  },
  {
   "cell_type": "code",
   "execution_count": 4,
   "id": "ca635fff",
   "metadata": {},
   "outputs": [],
   "source": [
    "sales_data = data_creator(buyer = \"IBM\", saler=\"Rahul\", item=\"Model\",amount = \"5Cr\")"
   ]
  },
  {
   "cell_type": "code",
   "execution_count": 5,
   "id": "243f0b3b",
   "metadata": {},
   "outputs": [
    {
     "data": {
      "text/html": [
       "<div>\n",
       "<style scoped>\n",
       "    .dataframe tbody tr th:only-of-type {\n",
       "        vertical-align: middle;\n",
       "    }\n",
       "\n",
       "    .dataframe tbody tr th {\n",
       "        vertical-align: top;\n",
       "    }\n",
       "\n",
       "    .dataframe thead th {\n",
       "        text-align: right;\n",
       "    }\n",
       "</style>\n",
       "<table border=\"1\" class=\"dataframe\">\n",
       "  <thead>\n",
       "    <tr style=\"text-align: right;\">\n",
       "      <th></th>\n",
       "      <th>Buyer</th>\n",
       "      <th>Saler</th>\n",
       "      <th>Products</th>\n",
       "      <th>Total_amount</th>\n",
       "      <th>Invoice Type</th>\n",
       "    </tr>\n",
       "  </thead>\n",
       "  <tbody>\n",
       "    <tr>\n",
       "      <th>0</th>\n",
       "      <td>IBM</td>\n",
       "      <td>Rahul</td>\n",
       "      <td>Model</td>\n",
       "      <td>5Cr</td>\n",
       "      <td>NONE</td>\n",
       "    </tr>\n",
       "  </tbody>\n",
       "</table>\n",
       "</div>"
      ],
      "text/plain": [
       "  Buyer  Saler Products Total_amount Invoice Type\n",
       "0   IBM  Rahul    Model          5Cr         NONE"
      ]
     },
     "execution_count": 5,
     "metadata": {},
     "output_type": "execute_result"
    }
   ],
   "source": [
    "sales_data"
   ]
  },
  {
   "cell_type": "code",
   "execution_count": 6,
   "id": "a6cd8ac0",
   "metadata": {},
   "outputs": [],
   "source": [
    "li = [{ \"Buyer\": \"Accenture\",\n",
    "        \"Saler\": \"Prem\",\n",
    "        \"Products\": \"AI\",\n",
    "        \"Total_amount\": \"10 CR\",\n",
    "        \"Invoice Type\": \"MODEL\"},\n",
    "      \n",
    "      {\"Buyer\": \"Microsoft\",\n",
    "        \"Saler\": \"Prem\",\n",
    "        \"Products\": \"AI\",\n",
    "        \"Total_amount\": \"20 CR\",\n",
    "        \"Invoice Type\": \"MODEL\"}]"
   ]
  },
  {
   "cell_type": "code",
   "execution_count": 8,
   "id": "685b3fd0",
   "metadata": {},
   "outputs": [],
   "source": [
    "# a = []\n",
    "# for i in li :\n",
    "#     sales_data = data_creator(i)\n",
    "#     b = pd.concat([empty, sales_data], ignore_index=True)\n",
    "#     a.append(b)"
   ]
  },
  {
   "cell_type": "code",
   "execution_count": 9,
   "id": "b82364fb",
   "metadata": {},
   "outputs": [],
   "source": [
    "for k in a:\n",
    "    print(pd.concat([empty,k], ignore_index=True))\n",
    "    print(\"-\"*80)"
   ]
  },
  {
   "cell_type": "code",
   "execution_count": 17,
   "id": "6e25f978",
   "metadata": {},
   "outputs": [
    {
     "data": {
      "text/plain": [
       "'Downloads'"
      ]
     },
     "execution_count": 17,
     "metadata": {},
     "output_type": "execute_result"
    }
   ],
   "source": [
    "os.path.expanduser('Downloads')"
   ]
  },
  {
   "cell_type": "code",
   "execution_count": null,
   "id": "4b2a9ba0",
   "metadata": {},
   "outputs": [],
   "source": []
  }
 ],
 "metadata": {
  "kernelspec": {
   "display_name": "Python 3 (ipykernel)",
   "language": "python",
   "name": "python3"
  },
  "language_info": {
   "codemirror_mode": {
    "name": "ipython",
    "version": 3
   },
   "file_extension": ".py",
   "mimetype": "text/x-python",
   "name": "python",
   "nbconvert_exporter": "python",
   "pygments_lexer": "ipython3",
   "version": "3.11.4"
  }
 },
 "nbformat": 4,
 "nbformat_minor": 5
}
